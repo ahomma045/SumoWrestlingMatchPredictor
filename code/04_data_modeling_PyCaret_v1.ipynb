{
 "cells": [
  {
   "cell_type": "markdown",
   "metadata": {},
   "source": [
    "# Sumo Wrestling Match Prediction\n",
    "\n",
    "## Data Modeling Using PyCaret - using existing numeric data (4/5)"
   ]
  },
  {
   "cell_type": "markdown",
   "metadata": {},
   "source": [
    "## Contents: \n",
    "- [Install PyCaret](#Install-PyCaret)\n",
    "- [Setup](#Setup)\n",
    "- [Compare Models](#Compare-models)\n",
    "- [Analyze Model](#Analyze-model)\n",
    "- [Predictions](#Predictions)\n",
    "- [Save the model](#Save-the-model)\n",
    "- [Evaluation](#Evaluation)"
   ]
  },
  {
   "cell_type": "markdown",
   "metadata": {},
   "source": [
    "We use PyCaret, an open-source machine learning library in Python that automates machine learning workflows with minimal coding required. PyCaret allowed us to spend less time coding and more time analyzing data, by automating many of the repetitive tasks involved in the modeling process. Using PyCaret, we developed and tested a variety of different models.\n",
    "\n",
    "We started by developing classification models using the existing numeric data to see how they performed before any feature engineering was done. Once we had a benchmark, we developed models incorporating new features created as part of our feature engineering process. This allowed us to see how these new features impacted the performance of our models, and whether they improved the ability to predict the outcome of matches."
   ]
  },
  {
   "cell_type": "markdown",
   "metadata": {
    "id": "rk3VquIrMQbu"
   },
   "source": [
    "### Install PyCaret"
   ]
  },
  {
   "cell_type": "code",
   "execution_count": 1,
   "metadata": {
    "colab": {
     "base_uri": "https://localhost:8080/"
    },
    "id": "rTlpw5RxkiLL",
    "outputId": "b49054b6-9c12-4695-d6c8-47cc14a4fe22"
   },
   "outputs": [
    {
     "name": "stdout",
     "output_type": "stream",
     "text": [
      "Looking in indexes: https://pypi.org/simple, https://us-python.pkg.dev/colab-wheels/public/simple/\n",
      "Collecting pycaret\n",
      "  Downloading pycaret-3.0.0-py3-none-any.whl (481 kB)\n",
      "\u001b[2K     \u001b[90m━━━━━━━━━━━━━━━━━━━━━━━━━━━━━━━━━━━━━━\u001b[0m \u001b[32m481.8/481.8 kB\u001b[0m \u001b[31m12.8 MB/s\u001b[0m eta \u001b[36m0:00:00\u001b[0m\n",
      "\u001b[?25hRequirement already satisfied: matplotlib>=3.3.0 in /usr/local/lib/python3.9/dist-packages (from pycaret) (3.7.1)\n",
      "Requirement already satisfied: importlib-metadata>=4.12.0 in /usr/local/lib/python3.9/dist-packages (from pycaret) (6.3.0)\n",
      "Requirement already satisfied: lightgbm>=3.0.0 in /usr/local/lib/python3.9/dist-packages (from pycaret) (3.3.5)\n",
      "Collecting kaleido>=0.2.1\n",
      "  Downloading kaleido-0.2.1-py2.py3-none-manylinux1_x86_64.whl (79.9 MB)\n",
      "\u001b[2K     \u001b[90m━━━━━━━━━━━━━━━━━━━━━━━━━━━━━━━━━━━━━━━━\u001b[0m \u001b[32m79.9/79.9 MB\u001b[0m \u001b[31m7.9 MB/s\u001b[0m eta \u001b[36m0:00:00\u001b[0m\n",
      "\u001b[?25hCollecting tbats>=1.1.0\n",
      "  Downloading tbats-1.1.2-py3-none-any.whl (43 kB)\n",
      "\u001b[2K     \u001b[90m━━━━━━━━━━━━━━━━━━━━━━━━━━━━━━━━━━━━━━━━\u001b[0m \u001b[32m43.8/43.8 kB\u001b[0m \u001b[31m2.2 MB/s\u001b[0m eta \u001b[36m0:00:00\u001b[0m\n",
      "\u001b[?25hRequirement already satisfied: imbalanced-learn>=0.8.1 in /usr/local/lib/python3.9/dist-packages (from pycaret) (0.10.1)\n",
      "Requirement already satisfied: tqdm>=4.62.0 in /usr/local/lib/python3.9/dist-packages (from pycaret) (4.65.0)\n",
      "Requirement already satisfied: cloudpickle in /usr/local/lib/python3.9/dist-packages (from pycaret) (2.2.1)\n",
      "Requirement already satisfied: statsmodels>=0.12.1 in /usr/local/lib/python3.9/dist-packages (from pycaret) (0.13.5)\n",
      "Requirement already satisfied: numpy<1.25,>=1.21 in /usr/local/lib/python3.9/dist-packages (from pycaret) (1.22.4)\n",
      "Requirement already satisfied: jinja2>=1.2 in /usr/local/lib/python3.9/dist-packages (from pycaret) (3.1.2)\n",
      "Requirement already satisfied: yellowbrick>=1.4 in /usr/local/lib/python3.9/dist-packages (from pycaret) (1.5)\n",
      "Requirement already satisfied: pandas<1.6.0,>=1.3.0 in /usr/local/lib/python3.9/dist-packages (from pycaret) (1.5.3)\n",
      "Requirement already satisfied: joblib>=1.2.0 in /usr/local/lib/python3.9/dist-packages (from pycaret) (1.2.0)\n",
      "Collecting pmdarima!=1.8.1,<3.0.0,>=1.8.0\n",
      "  Downloading pmdarima-2.0.3-cp39-cp39-manylinux_2_17_x86_64.manylinux2014_x86_64.manylinux_2_28_x86_64.whl (1.9 MB)\n",
      "\u001b[2K     \u001b[90m━━━━━━━━━━━━━━━━━━━━━━━━━━━━━━━━━━━━━━━━\u001b[0m \u001b[32m1.9/1.9 MB\u001b[0m \u001b[31m38.6 MB/s\u001b[0m eta \u001b[36m0:00:00\u001b[0m\n",
      "\u001b[?25hCollecting deprecation>=2.1.0\n",
      "  Downloading deprecation-2.1.0-py2.py3-none-any.whl (11 kB)\n",
      "Collecting sktime>=0.16.1\n",
      "  Downloading sktime-0.17.1-py3-none-any.whl (16.1 MB)\n",
      "\u001b[2K     \u001b[90m━━━━━━━━━━━━━━━━━━━━━━━━━━━━━━━━━━━━━━━━\u001b[0m \u001b[32m16.1/16.1 MB\u001b[0m \u001b[31m35.1 MB/s\u001b[0m eta \u001b[36m0:00:00\u001b[0m\n",
      "\u001b[?25hCollecting scikit-plot>=0.3.7\n",
      "  Downloading scikit_plot-0.3.7-py3-none-any.whl (33 kB)\n",
      "Collecting schemdraw>=0.14\n",
      "  Downloading schemdraw-0.16-py3-none-any.whl (105 kB)\n",
      "\u001b[2K     \u001b[90m━━━━━━━━━━━━━━━━━━━━━━━━━━━━━━━━━━━━━━━\u001b[0m \u001b[32m105.8/105.8 kB\u001b[0m \u001b[31m6.0 MB/s\u001b[0m eta \u001b[36m0:00:00\u001b[0m\n",
      "\u001b[?25hCollecting pyod>=1.0.8\n",
      "  Downloading pyod-1.0.9.tar.gz (149 kB)\n",
      "\u001b[2K     \u001b[90m━━━━━━━━━━━━━━━━━━━━━━━━━━━━━━━━━━━━━━━\u001b[0m \u001b[32m150.0/150.0 kB\u001b[0m \u001b[31m3.4 MB/s\u001b[0m eta \u001b[36m0:00:00\u001b[0m\n",
      "\u001b[?25h  Preparing metadata (setup.py) ... \u001b[?25l\u001b[?25hdone\n",
      "Requirement already satisfied: numba>=0.55.0 in /usr/local/lib/python3.9/dist-packages (from pycaret) (0.56.4)\n",
      "Requirement already satisfied: nbformat>=4.2.0 in /usr/local/lib/python3.9/dist-packages (from pycaret) (5.8.0)\n",
      "Requirement already satisfied: plotly>=5.0.0 in /usr/local/lib/python3.9/dist-packages (from pycaret) (5.13.1)\n",
      "Requirement already satisfied: requests>=2.27.1 in /usr/local/lib/python3.9/dist-packages (from pycaret) (2.27.1)\n",
      "Requirement already satisfied: ipython>=5.5.0 in /usr/local/lib/python3.9/dist-packages (from pycaret) (7.34.0)\n",
      "Requirement already satisfied: ipywidgets>=7.6.5 in /usr/local/lib/python3.9/dist-packages (from pycaret) (7.7.1)\n",
      "Requirement already satisfied: markupsafe>=2.0.1 in /usr/local/lib/python3.9/dist-packages (from pycaret) (2.1.2)\n",
      "Requirement already satisfied: scipy<2.0.0 in /usr/local/lib/python3.9/dist-packages (from pycaret) (1.10.1)\n",
      "Requirement already satisfied: psutil>=5.9.0 in /usr/local/lib/python3.9/dist-packages (from pycaret) (5.9.4)\n",
      "Requirement already satisfied: scikit-learn>=1.0 in /usr/local/lib/python3.9/dist-packages (from pycaret) (1.2.2)\n",
      "Collecting xxhash\n",
      "  Downloading xxhash-3.2.0-cp39-cp39-manylinux_2_17_x86_64.manylinux2014_x86_64.whl (212 kB)\n",
      "\u001b[2K     \u001b[90m━━━━━━━━━━━━━━━━━━━━━━━━━━━━━━━━━━━━━━━\u001b[0m \u001b[32m212.2/212.2 kB\u001b[0m \u001b[31m1.8 MB/s\u001b[0m eta \u001b[36m0:00:00\u001b[0m\n",
      "\u001b[?25hCollecting category-encoders>=2.4.0\n",
      "  Downloading category_encoders-2.6.0-py2.py3-none-any.whl (81 kB)\n",
      "\u001b[2K     \u001b[90m━━━━━━━━━━━━━━━━━━━━━━━━━━━━━━━━━━━━━━━━\u001b[0m \u001b[32m81.2/81.2 kB\u001b[0m \u001b[31m5.7 MB/s\u001b[0m eta \u001b[36m0:00:00\u001b[0m\n",
      "\u001b[?25hCollecting plotly-resampler>=0.8.3.1\n",
      "  Downloading plotly_resampler-0.8.3.2.tar.gz (46 kB)\n",
      "\u001b[2K     \u001b[90m━━━━━━━━━━━━━━━━━━━━━━━━━━━━━━━━━━━━━━━━\u001b[0m \u001b[32m46.4/46.4 kB\u001b[0m \u001b[31m2.0 MB/s\u001b[0m eta \u001b[36m0:00:00\u001b[0m\n",
      "\u001b[?25h  Installing build dependencies ... \u001b[?25l\u001b[?25hdone\n",
      "  Getting requirements to build wheel ... \u001b[?25l\u001b[?25hdone\n",
      "  Preparing metadata (pyproject.toml) ... \u001b[?25l\u001b[?25hdone\n",
      "Collecting wurlitzer\n",
      "  Downloading wurlitzer-3.0.3-py3-none-any.whl (7.3 kB)\n",
      "Requirement already satisfied: patsy>=0.5.1 in /usr/local/lib/python3.9/dist-packages (from category-encoders>=2.4.0->pycaret) (0.5.3)\n",
      "Requirement already satisfied: packaging in /usr/local/lib/python3.9/dist-packages (from deprecation>=2.1.0->pycaret) (23.0)\n",
      "Requirement already satisfied: threadpoolctl>=2.0.0 in /usr/local/lib/python3.9/dist-packages (from imbalanced-learn>=0.8.1->pycaret) (3.1.0)\n",
      "Requirement already satisfied: zipp>=0.5 in /usr/local/lib/python3.9/dist-packages (from importlib-metadata>=4.12.0->pycaret) (3.15.0)\n",
      "Requirement already satisfied: matplotlib-inline in /usr/local/lib/python3.9/dist-packages (from ipython>=5.5.0->pycaret) (0.1.6)\n",
      "Requirement already satisfied: decorator in /usr/local/lib/python3.9/dist-packages (from ipython>=5.5.0->pycaret) (4.4.2)\n",
      "Requirement already satisfied: backcall in /usr/local/lib/python3.9/dist-packages (from ipython>=5.5.0->pycaret) (0.2.0)\n",
      "Requirement already satisfied: traitlets>=4.2 in /usr/local/lib/python3.9/dist-packages (from ipython>=5.5.0->pycaret) (5.7.1)\n",
      "Requirement already satisfied: pickleshare in /usr/local/lib/python3.9/dist-packages (from ipython>=5.5.0->pycaret) (0.7.5)\n",
      "Requirement already satisfied: prompt-toolkit!=3.0.0,!=3.0.1,<3.1.0,>=2.0.0 in /usr/local/lib/python3.9/dist-packages (from ipython>=5.5.0->pycaret) (3.0.38)\n",
      "Collecting jedi>=0.16\n",
      "  Downloading jedi-0.18.2-py2.py3-none-any.whl (1.6 MB)\n",
      "\u001b[2K     \u001b[90m━━━━━━━━━━━━━━━━━━━━━━━━━━━━━━━━━━━━━━━━\u001b[0m \u001b[32m1.6/1.6 MB\u001b[0m \u001b[31m55.4 MB/s\u001b[0m eta \u001b[36m0:00:00\u001b[0m\n",
      "\u001b[?25hRequirement already satisfied: pygments in /usr/local/lib/python3.9/dist-packages (from ipython>=5.5.0->pycaret) (2.14.0)\n",
      "Requirement already satisfied: setuptools>=18.5 in /usr/local/lib/python3.9/dist-packages (from ipython>=5.5.0->pycaret) (67.6.1)\n",
      "Requirement already satisfied: pexpect>4.3 in /usr/local/lib/python3.9/dist-packages (from ipython>=5.5.0->pycaret) (4.8.0)\n",
      "Requirement already satisfied: jupyterlab-widgets>=1.0.0 in /usr/local/lib/python3.9/dist-packages (from ipywidgets>=7.6.5->pycaret) (3.0.7)\n",
      "Requirement already satisfied: ipykernel>=4.5.1 in /usr/local/lib/python3.9/dist-packages (from ipywidgets>=7.6.5->pycaret) (5.5.6)\n",
      "Requirement already satisfied: ipython-genutils~=0.2.0 in /usr/local/lib/python3.9/dist-packages (from ipywidgets>=7.6.5->pycaret) (0.2.0)\n",
      "Requirement already satisfied: widgetsnbextension~=3.6.0 in /usr/local/lib/python3.9/dist-packages (from ipywidgets>=7.6.5->pycaret) (3.6.4)\n",
      "Requirement already satisfied: wheel in /usr/local/lib/python3.9/dist-packages (from lightgbm>=3.0.0->pycaret) (0.40.0)\n",
      "Requirement already satisfied: pyparsing>=2.3.1 in /usr/local/lib/python3.9/dist-packages (from matplotlib>=3.3.0->pycaret) (3.0.9)\n",
      "Requirement already satisfied: fonttools>=4.22.0 in /usr/local/lib/python3.9/dist-packages (from matplotlib>=3.3.0->pycaret) (4.39.3)\n",
      "Requirement already satisfied: kiwisolver>=1.0.1 in /usr/local/lib/python3.9/dist-packages (from matplotlib>=3.3.0->pycaret) (1.4.4)\n",
      "Requirement already satisfied: importlib-resources>=3.2.0 in /usr/local/lib/python3.9/dist-packages (from matplotlib>=3.3.0->pycaret) (5.12.0)\n",
      "Requirement already satisfied: contourpy>=1.0.1 in /usr/local/lib/python3.9/dist-packages (from matplotlib>=3.3.0->pycaret) (1.0.7)\n",
      "Requirement already satisfied: pillow>=6.2.0 in /usr/local/lib/python3.9/dist-packages (from matplotlib>=3.3.0->pycaret) (8.4.0)\n",
      "Requirement already satisfied: python-dateutil>=2.7 in /usr/local/lib/python3.9/dist-packages (from matplotlib>=3.3.0->pycaret) (2.8.2)\n",
      "Requirement already satisfied: cycler>=0.10 in /usr/local/lib/python3.9/dist-packages (from matplotlib>=3.3.0->pycaret) (0.11.0)\n",
      "Requirement already satisfied: jsonschema>=2.6 in /usr/local/lib/python3.9/dist-packages (from nbformat>=4.2.0->pycaret) (4.3.3)\n",
      "Requirement already satisfied: jupyter-core in /usr/local/lib/python3.9/dist-packages (from nbformat>=4.2.0->pycaret) (5.3.0)\n",
      "Requirement already satisfied: fastjsonschema in /usr/local/lib/python3.9/dist-packages (from nbformat>=4.2.0->pycaret) (2.16.3)\n",
      "Requirement already satisfied: llvmlite<0.40,>=0.39.0dev0 in /usr/local/lib/python3.9/dist-packages (from numba>=0.55.0->pycaret) (0.39.1)\n",
      "Requirement already satisfied: pytz>=2020.1 in /usr/local/lib/python3.9/dist-packages (from pandas<1.6.0,>=1.3.0->pycaret) (2022.7.1)\n",
      "Requirement already satisfied: tenacity>=6.2.0 in /usr/local/lib/python3.9/dist-packages (from plotly>=5.0.0->pycaret) (8.2.2)\n",
      "Collecting dash<3.0.0,>=2.2.0\n",
      "  Downloading dash-2.9.3-py3-none-any.whl (10.2 MB)\n",
      "\u001b[2K     \u001b[90m━━━━━━━━━━━━━━━━━━━━━━━━━━━━━━━━━━━━━━━━\u001b[0m \u001b[32m10.2/10.2 MB\u001b[0m \u001b[31m73.5 MB/s\u001b[0m eta \u001b[36m0:00:00\u001b[0m\n",
      "\u001b[?25hCollecting orjson<4.0.0,>=3.8.0\n",
      "  Downloading orjson-3.8.10-cp39-cp39-manylinux_2_28_x86_64.whl (140 kB)\n",
      "\u001b[2K     \u001b[90m━━━━━━━━━━━━━━━━━━━━━━━━━━━━━━━━━━━━━━\u001b[0m \u001b[32m140.5/140.5 kB\u001b[0m \u001b[31m17.2 MB/s\u001b[0m eta \u001b[36m0:00:00\u001b[0m\n",
      "\u001b[?25hCollecting jupyter-dash>=0.4.2\n",
      "  Downloading jupyter_dash-0.4.2-py3-none-any.whl (23 kB)\n",
      "Collecting trace-updater>=0.0.8\n",
      "  Downloading trace_updater-0.0.9.1-py3-none-any.whl (185 kB)\n",
      "\u001b[2K     \u001b[90m━━━━━━━━━━━━━━━━━━━━━━━━━━━━━━━━━━━━━━\u001b[0m \u001b[32m185.2/185.2 kB\u001b[0m \u001b[31m24.5 MB/s\u001b[0m eta \u001b[36m0:00:00\u001b[0m\n",
      "\u001b[?25hRequirement already satisfied: Cython!=0.29.18,!=0.29.31,>=0.29 in /usr/local/lib/python3.9/dist-packages (from pmdarima!=1.8.1,<3.0.0,>=1.8.0->pycaret) (0.29.34)\n",
      "Requirement already satisfied: urllib3 in /usr/local/lib/python3.9/dist-packages (from pmdarima!=1.8.1,<3.0.0,>=1.8.0->pycaret) (1.26.15)\n",
      "Requirement already satisfied: six in /usr/local/lib/python3.9/dist-packages (from pyod>=1.0.8->pycaret) (1.16.0)\n",
      "Requirement already satisfied: charset-normalizer~=2.0.0 in /usr/local/lib/python3.9/dist-packages (from requests>=2.27.1->pycaret) (2.0.12)\n",
      "Requirement already satisfied: certifi>=2017.4.17 in /usr/local/lib/python3.9/dist-packages (from requests>=2.27.1->pycaret) (2022.12.7)\n",
      "Requirement already satisfied: idna<4,>=2.5 in /usr/local/lib/python3.9/dist-packages (from requests>=2.27.1->pycaret) (3.4)\n",
      "Collecting deprecated>=1.2.13\n",
      "  Downloading Deprecated-1.2.13-py2.py3-none-any.whl (9.6 kB)\n",
      "Collecting dash-html-components==2.0.0\n",
      "  Downloading dash_html_components-2.0.0-py3-none-any.whl (4.1 kB)\n",
      "Collecting dash-table==5.0.0\n",
      "  Downloading dash_table-5.0.0-py3-none-any.whl (3.9 kB)\n",
      "Collecting dash-core-components==2.0.0\n",
      "  Downloading dash_core_components-2.0.0-py3-none-any.whl (3.8 kB)\n",
      "Requirement already satisfied: Flask>=1.0.4 in /usr/local/lib/python3.9/dist-packages (from dash<3.0.0,>=2.2.0->plotly-resampler>=0.8.3.1->pycaret) (2.2.3)\n",
      "Requirement already satisfied: wrapt<2,>=1.10 in /usr/local/lib/python3.9/dist-packages (from deprecated>=1.2.13->sktime>=0.16.1->pycaret) (1.14.1)\n",
      "Requirement already satisfied: tornado>=4.2 in /usr/local/lib/python3.9/dist-packages (from ipykernel>=4.5.1->ipywidgets>=7.6.5->pycaret) (6.2)\n",
      "Requirement already satisfied: jupyter-client in /usr/local/lib/python3.9/dist-packages (from ipykernel>=4.5.1->ipywidgets>=7.6.5->pycaret) (6.1.12)\n",
      "Requirement already satisfied: parso<0.9.0,>=0.8.0 in /usr/local/lib/python3.9/dist-packages (from jedi>=0.16->ipython>=5.5.0->pycaret) (0.8.3)\n",
      "Requirement already satisfied: attrs>=17.4.0 in /usr/local/lib/python3.9/dist-packages (from jsonschema>=2.6->nbformat>=4.2.0->pycaret) (22.2.0)\n",
      "Requirement already satisfied: pyrsistent!=0.17.0,!=0.17.1,!=0.17.2,>=0.14.0 in /usr/local/lib/python3.9/dist-packages (from jsonschema>=2.6->nbformat>=4.2.0->pycaret) (0.19.3)\n",
      "Collecting ansi2html\n",
      "  Downloading ansi2html-1.8.0-py3-none-any.whl (16 kB)\n",
      "Collecting retrying\n",
      "  Downloading retrying-1.3.4-py3-none-any.whl (11 kB)\n",
      "Requirement already satisfied: nest-asyncio in /usr/local/lib/python3.9/dist-packages (from jupyter-dash>=0.4.2->plotly-resampler>=0.8.3.1->pycaret) (1.5.6)\n",
      "Requirement already satisfied: ptyprocess>=0.5 in /usr/local/lib/python3.9/dist-packages (from pexpect>4.3->ipython>=5.5.0->pycaret) (0.7.0)\n",
      "Requirement already satisfied: wcwidth in /usr/local/lib/python3.9/dist-packages (from prompt-toolkit!=3.0.0,!=3.0.1,<3.1.0,>=2.0.0->ipython>=5.5.0->pycaret) (0.2.6)\n",
      "Requirement already satisfied: notebook>=4.4.1 in /usr/local/lib/python3.9/dist-packages (from widgetsnbextension~=3.6.0->ipywidgets>=7.6.5->pycaret) (6.4.8)\n",
      "Requirement already satisfied: platformdirs>=2.5 in /usr/local/lib/python3.9/dist-packages (from jupyter-core->nbformat>=4.2.0->pycaret) (3.2.0)\n",
      "Requirement already satisfied: Werkzeug>=2.2.2 in /usr/local/lib/python3.9/dist-packages (from Flask>=1.0.4->dash<3.0.0,>=2.2.0->plotly-resampler>=0.8.3.1->pycaret) (2.2.3)\n",
      "Requirement already satisfied: itsdangerous>=2.0 in /usr/local/lib/python3.9/dist-packages (from Flask>=1.0.4->dash<3.0.0,>=2.2.0->plotly-resampler>=0.8.3.1->pycaret) (2.1.2)\n",
      "Requirement already satisfied: click>=8.0 in /usr/local/lib/python3.9/dist-packages (from Flask>=1.0.4->dash<3.0.0,>=2.2.0->plotly-resampler>=0.8.3.1->pycaret) (8.1.3)\n",
      "Requirement already satisfied: terminado>=0.8.3 in /usr/local/lib/python3.9/dist-packages (from notebook>=4.4.1->widgetsnbextension~=3.6.0->ipywidgets>=7.6.5->pycaret) (0.17.1)\n",
      "Requirement already satisfied: prometheus-client in /usr/local/lib/python3.9/dist-packages (from notebook>=4.4.1->widgetsnbextension~=3.6.0->ipywidgets>=7.6.5->pycaret) (0.16.0)\n",
      "Requirement already satisfied: argon2-cffi in /usr/local/lib/python3.9/dist-packages (from notebook>=4.4.1->widgetsnbextension~=3.6.0->ipywidgets>=7.6.5->pycaret) (21.3.0)\n",
      "Requirement already satisfied: Send2Trash>=1.8.0 in /usr/local/lib/python3.9/dist-packages (from notebook>=4.4.1->widgetsnbextension~=3.6.0->ipywidgets>=7.6.5->pycaret) (1.8.0)\n",
      "Requirement already satisfied: nbconvert in /usr/local/lib/python3.9/dist-packages (from notebook>=4.4.1->widgetsnbextension~=3.6.0->ipywidgets>=7.6.5->pycaret) (6.5.4)\n",
      "Requirement already satisfied: pyzmq>=17 in /usr/local/lib/python3.9/dist-packages (from notebook>=4.4.1->widgetsnbextension~=3.6.0->ipywidgets>=7.6.5->pycaret) (23.2.1)\n",
      "Requirement already satisfied: argon2-cffi-bindings in /usr/local/lib/python3.9/dist-packages (from argon2-cffi->notebook>=4.4.1->widgetsnbextension~=3.6.0->ipywidgets>=7.6.5->pycaret) (21.2.0)\n",
      "Requirement already satisfied: jupyterlab-pygments in /usr/local/lib/python3.9/dist-packages (from nbconvert->notebook>=4.4.1->widgetsnbextension~=3.6.0->ipywidgets>=7.6.5->pycaret) (0.2.2)\n",
      "Requirement already satisfied: mistune<2,>=0.8.1 in /usr/local/lib/python3.9/dist-packages (from nbconvert->notebook>=4.4.1->widgetsnbextension~=3.6.0->ipywidgets>=7.6.5->pycaret) (0.8.4)\n",
      "Requirement already satisfied: bleach in /usr/local/lib/python3.9/dist-packages (from nbconvert->notebook>=4.4.1->widgetsnbextension~=3.6.0->ipywidgets>=7.6.5->pycaret) (6.0.0)\n",
      "Requirement already satisfied: defusedxml in /usr/local/lib/python3.9/dist-packages (from nbconvert->notebook>=4.4.1->widgetsnbextension~=3.6.0->ipywidgets>=7.6.5->pycaret) (0.7.1)\n",
      "Requirement already satisfied: pandocfilters>=1.4.1 in /usr/local/lib/python3.9/dist-packages (from nbconvert->notebook>=4.4.1->widgetsnbextension~=3.6.0->ipywidgets>=7.6.5->pycaret) (1.5.0)\n",
      "Requirement already satisfied: tinycss2 in /usr/local/lib/python3.9/dist-packages (from nbconvert->notebook>=4.4.1->widgetsnbextension~=3.6.0->ipywidgets>=7.6.5->pycaret) (1.2.1)\n",
      "Requirement already satisfied: beautifulsoup4 in /usr/local/lib/python3.9/dist-packages (from nbconvert->notebook>=4.4.1->widgetsnbextension~=3.6.0->ipywidgets>=7.6.5->pycaret) (4.11.2)\n",
      "Requirement already satisfied: entrypoints>=0.2.2 in /usr/local/lib/python3.9/dist-packages (from nbconvert->notebook>=4.4.1->widgetsnbextension~=3.6.0->ipywidgets>=7.6.5->pycaret) (0.4)\n",
      "Requirement already satisfied: lxml in /usr/local/lib/python3.9/dist-packages (from nbconvert->notebook>=4.4.1->widgetsnbextension~=3.6.0->ipywidgets>=7.6.5->pycaret) (4.9.2)\n",
      "Requirement already satisfied: nbclient>=0.5.0 in /usr/local/lib/python3.9/dist-packages (from nbconvert->notebook>=4.4.1->widgetsnbextension~=3.6.0->ipywidgets>=7.6.5->pycaret) (0.7.3)\n",
      "Requirement already satisfied: cffi>=1.0.1 in /usr/local/lib/python3.9/dist-packages (from argon2-cffi-bindings->argon2-cffi->notebook>=4.4.1->widgetsnbextension~=3.6.0->ipywidgets>=7.6.5->pycaret) (1.15.1)\n",
      "Requirement already satisfied: soupsieve>1.2 in /usr/local/lib/python3.9/dist-packages (from beautifulsoup4->nbconvert->notebook>=4.4.1->widgetsnbextension~=3.6.0->ipywidgets>=7.6.5->pycaret) (2.4)\n",
      "Requirement already satisfied: webencodings in /usr/local/lib/python3.9/dist-packages (from bleach->nbconvert->notebook>=4.4.1->widgetsnbextension~=3.6.0->ipywidgets>=7.6.5->pycaret) (0.5.1)\n",
      "Requirement already satisfied: pycparser in /usr/local/lib/python3.9/dist-packages (from cffi>=1.0.1->argon2-cffi-bindings->argon2-cffi->notebook>=4.4.1->widgetsnbextension~=3.6.0->ipywidgets>=7.6.5->pycaret) (2.21)\n",
      "Building wheels for collected packages: plotly-resampler, pyod\n",
      "  Building wheel for plotly-resampler (pyproject.toml) ... \u001b[?25l\u001b[?25hdone\n",
      "  Created wheel for plotly-resampler: filename=plotly_resampler-0.8.3.2-cp39-cp39-manylinux_2_31_x86_64.whl size=75067 sha256=ca6acda2b5b4d321c4c0eef850e904903bb47b8db2ed5f85afa91f65caa4a7ec\n",
      "  Stored in directory: /root/.cache/pip/wheels/9e/36/06/4c11e300918011376af149098621ec7ebe06d8256566d43d51\n",
      "  Building wheel for pyod (setup.py) ... \u001b[?25l\u001b[?25hdone\n",
      "  Created wheel for pyod: filename=pyod-1.0.9-py3-none-any.whl size=184112 sha256=ef1ab413bceb2d88fbb8533565e73ca57dc87ba64c2f0a984b60d352af138849\n",
      "  Stored in directory: /root/.cache/pip/wheels/1b/9c/b8/9759d7cc64a1e01bb9872ade80cb7db445ccf506e083325106\n",
      "Successfully built plotly-resampler pyod\n",
      "Installing collected packages: trace-updater, kaleido, dash-table, dash-html-components, dash-core-components, xxhash, wurlitzer, schemdraw, retrying, orjson, jedi, deprecation, deprecated, ansi2html, sktime, scikit-plot, pyod, dash, pmdarima, jupyter-dash, category-encoders, tbats, plotly-resampler, pycaret\n",
      "Successfully installed ansi2html-1.8.0 category-encoders-2.6.0 dash-2.9.3 dash-core-components-2.0.0 dash-html-components-2.0.0 dash-table-5.0.0 deprecated-1.2.13 deprecation-2.1.0 jedi-0.18.2 jupyter-dash-0.4.2 kaleido-0.2.1 orjson-3.8.10 plotly-resampler-0.8.3.2 pmdarima-2.0.3 pycaret-3.0.0 pyod-1.0.9 retrying-1.3.4 schemdraw-0.16 scikit-plot-0.3.7 sktime-0.17.1 tbats-1.1.2 trace-updater-0.0.9.1 wurlitzer-3.0.3 xxhash-3.2.0\n"
     ]
    }
   ],
   "source": [
    "!pip install pycaret"
   ]
  },
  {
   "cell_type": "markdown",
   "metadata": {
    "id": "h0q6sFMrMUgP"
   },
   "source": [
    "#### Import Libraries"
   ]
  },
  {
   "cell_type": "code",
   "execution_count": 2,
   "metadata": {
    "id": "cUtG1iganX2U"
   },
   "outputs": [],
   "source": [
    "import numpy as np\n",
    "import pandas as pd\n",
    "import matplotlib.pyplot as plt\n",
    "\n",
    "import pycaret"
   ]
  },
  {
   "cell_type": "code",
   "execution_count": 3,
   "metadata": {
    "colab": {
     "base_uri": "https://localhost:8080/",
     "height": 35
    },
    "id": "YylFptl8Ld_t",
    "outputId": "eaebc07b-7b35-4ae3-820c-e40e8034f7e0"
   },
   "outputs": [
    {
     "data": {
      "application/vnd.google.colaboratory.intrinsic+json": {
       "type": "string"
      },
      "text/plain": [
       "'3.0.0'"
      ]
     },
     "execution_count": 3,
     "metadata": {},
     "output_type": "execute_result"
    }
   ],
   "source": [
    "pycaret.__version__"
   ]
  },
  {
   "cell_type": "markdown",
   "metadata": {
    "id": "A3sPXdr_MZ4d"
   },
   "source": [
    "### Setup"
   ]
  },
  {
   "cell_type": "code",
   "execution_count": 4,
   "metadata": {
    "colab": {
     "base_uri": "https://localhost:8080/"
    },
    "id": "lhPVzYTNlzjy",
    "outputId": "50349e03-4def-4186-9445-49cd78266d6c"
   },
   "outputs": [
    {
     "name": "stdout",
     "output_type": "stream",
     "text": [
      "Mounted at /content/drive\n"
     ]
    }
   ],
   "source": [
    "from google.colab import drive \n",
    "drive.mount('/content/drive')"
   ]
  },
  {
   "cell_type": "code",
   "execution_count": 12,
   "metadata": {
    "id": "8eu6zMNPLIFu"
   },
   "outputs": [],
   "source": [
    "#!ls \"/content/drive/MyDrive/Colab Notebooks/DS123/capstone/\"\n"
   ]
  },
  {
   "cell_type": "code",
   "execution_count": 11,
   "metadata": {
    "colab": {
     "base_uri": "https://localhost:8080/",
     "height": 300
    },
    "id": "kI9Mzsqvq3ib",
    "outputId": "fa394d5d-3ad8-4890-efd8-6c8e06ff7a2c"
   },
   "outputs": [
    {
     "data": {
      "text/html": [
       "\n",
       "  <div id=\"df-b71bf8f1-a34c-48e9-8155-8d58bdfbc731\">\n",
       "    <div class=\"colab-df-container\">\n",
       "      <div>\n",
       "<style scoped>\n",
       "    .dataframe tbody tr th:only-of-type {\n",
       "        vertical-align: middle;\n",
       "    }\n",
       "\n",
       "    .dataframe tbody tr th {\n",
       "        vertical-align: top;\n",
       "    }\n",
       "\n",
       "    .dataframe thead th {\n",
       "        text-align: right;\n",
       "    }\n",
       "</style>\n",
       "<table border=\"1\" class=\"dataframe\">\n",
       "  <thead>\n",
       "    <tr style=\"text-align: right;\">\n",
       "      <th></th>\n",
       "      <th>basho</th>\n",
       "      <th>day</th>\n",
       "      <th>r1_id</th>\n",
       "      <th>r1_rank</th>\n",
       "      <th>r1_shikona</th>\n",
       "      <th>r1_result</th>\n",
       "      <th>r1_win</th>\n",
       "      <th>kimarite</th>\n",
       "      <th>r2_id</th>\n",
       "      <th>r2_rank</th>\n",
       "      <th>...</th>\n",
       "      <th>r1_prev_w</th>\n",
       "      <th>r1_prev_l</th>\n",
       "      <th>r2_heya</th>\n",
       "      <th>r2_shusshin</th>\n",
       "      <th>r2_birth_date</th>\n",
       "      <th>r2_height</th>\n",
       "      <th>r2_weight</th>\n",
       "      <th>r2_prev</th>\n",
       "      <th>r2_prev_w</th>\n",
       "      <th>r2_prev_l</th>\n",
       "    </tr>\n",
       "  </thead>\n",
       "  <tbody>\n",
       "    <tr>\n",
       "      <th>0</th>\n",
       "      <td>1983.01</td>\n",
       "      <td>1</td>\n",
       "      <td>4140</td>\n",
       "      <td>J13w</td>\n",
       "      <td>Chikubayama</td>\n",
       "      <td>0-1 (7-8)</td>\n",
       "      <td>0</td>\n",
       "      <td>yorikiri</td>\n",
       "      <td>4306</td>\n",
       "      <td>Ms1e</td>\n",
       "      <td>...</td>\n",
       "      <td>4.0</td>\n",
       "      <td>3.0</td>\n",
       "      <td>Kokonoe</td>\n",
       "      <td>Tokyo</td>\n",
       "      <td>1958-08-26</td>\n",
       "      <td>193.5</td>\n",
       "      <td>145.0</td>\n",
       "      <td>Ms4w</td>\n",
       "      <td>4.0</td>\n",
       "      <td>3.0</td>\n",
       "    </tr>\n",
       "    <tr>\n",
       "      <th>1</th>\n",
       "      <td>1983.01</td>\n",
       "      <td>3</td>\n",
       "      <td>1337</td>\n",
       "      <td>J12w</td>\n",
       "      <td>Tochitsukasa</td>\n",
       "      <td>1-2 (9-6)</td>\n",
       "      <td>0</td>\n",
       "      <td>yorikiri</td>\n",
       "      <td>4306</td>\n",
       "      <td>Ms1e</td>\n",
       "      <td>...</td>\n",
       "      <td>5.0</td>\n",
       "      <td>2.0</td>\n",
       "      <td>Kokonoe</td>\n",
       "      <td>Tokyo</td>\n",
       "      <td>1958-08-26</td>\n",
       "      <td>193.5</td>\n",
       "      <td>145.0</td>\n",
       "      <td>Ms4w</td>\n",
       "      <td>4.0</td>\n",
       "      <td>3.0</td>\n",
       "    </tr>\n",
       "    <tr>\n",
       "      <th>2</th>\n",
       "      <td>1983.01</td>\n",
       "      <td>15</td>\n",
       "      <td>4097</td>\n",
       "      <td>J12e</td>\n",
       "      <td>Tamakiyama</td>\n",
       "      <td>8-7</td>\n",
       "      <td>1</td>\n",
       "      <td>yorikiri</td>\n",
       "      <td>4306</td>\n",
       "      <td>Ms1e</td>\n",
       "      <td>...</td>\n",
       "      <td>5.0</td>\n",
       "      <td>2.0</td>\n",
       "      <td>Kokonoe</td>\n",
       "      <td>Tokyo</td>\n",
       "      <td>1958-08-26</td>\n",
       "      <td>193.5</td>\n",
       "      <td>145.0</td>\n",
       "      <td>Ms4w</td>\n",
       "      <td>4.0</td>\n",
       "      <td>3.0</td>\n",
       "    </tr>\n",
       "    <tr>\n",
       "      <th>3</th>\n",
       "      <td>1983.01</td>\n",
       "      <td>2</td>\n",
       "      <td>4140</td>\n",
       "      <td>J13w</td>\n",
       "      <td>Chikubayama</td>\n",
       "      <td>1-1 (7-8)</td>\n",
       "      <td>1</td>\n",
       "      <td>oshidashi</td>\n",
       "      <td>4125</td>\n",
       "      <td>J7e</td>\n",
       "      <td>...</td>\n",
       "      <td>4.0</td>\n",
       "      <td>3.0</td>\n",
       "      <td>Isegahama</td>\n",
       "      <td>Yamagata</td>\n",
       "      <td>1950-01-02</td>\n",
       "      <td>188.0</td>\n",
       "      <td>134.0</td>\n",
       "      <td>M14w</td>\n",
       "      <td>3.0</td>\n",
       "      <td>12.0</td>\n",
       "    </tr>\n",
       "    <tr>\n",
       "      <th>4</th>\n",
       "      <td>1983.01</td>\n",
       "      <td>8</td>\n",
       "      <td>1337</td>\n",
       "      <td>J12w</td>\n",
       "      <td>Tochitsukasa</td>\n",
       "      <td>4-4 (9-6)</td>\n",
       "      <td>1</td>\n",
       "      <td>oshidashi</td>\n",
       "      <td>4125</td>\n",
       "      <td>J7e</td>\n",
       "      <td>...</td>\n",
       "      <td>5.0</td>\n",
       "      <td>2.0</td>\n",
       "      <td>Isegahama</td>\n",
       "      <td>Yamagata</td>\n",
       "      <td>1950-01-02</td>\n",
       "      <td>188.0</td>\n",
       "      <td>134.0</td>\n",
       "      <td>M14w</td>\n",
       "      <td>3.0</td>\n",
       "      <td>12.0</td>\n",
       "    </tr>\n",
       "  </tbody>\n",
       "</table>\n",
       "<p>5 rows × 28 columns</p>\n",
       "</div>\n",
       "      <button class=\"colab-df-convert\" onclick=\"convertToInteractive('df-b71bf8f1-a34c-48e9-8155-8d58bdfbc731')\"\n",
       "              title=\"Convert this dataframe to an interactive table.\"\n",
       "              style=\"display:none;\">\n",
       "        \n",
       "  <svg xmlns=\"http://www.w3.org/2000/svg\" height=\"24px\"viewBox=\"0 0 24 24\"\n",
       "       width=\"24px\">\n",
       "    <path d=\"M0 0h24v24H0V0z\" fill=\"none\"/>\n",
       "    <path d=\"M18.56 5.44l.94 2.06.94-2.06 2.06-.94-2.06-.94-.94-2.06-.94 2.06-2.06.94zm-11 1L8.5 8.5l.94-2.06 2.06-.94-2.06-.94L8.5 2.5l-.94 2.06-2.06.94zm10 10l.94 2.06.94-2.06 2.06-.94-2.06-.94-.94-2.06-.94 2.06-2.06.94z\"/><path d=\"M17.41 7.96l-1.37-1.37c-.4-.4-.92-.59-1.43-.59-.52 0-1.04.2-1.43.59L10.3 9.45l-7.72 7.72c-.78.78-.78 2.05 0 2.83L4 21.41c.39.39.9.59 1.41.59.51 0 1.02-.2 1.41-.59l7.78-7.78 2.81-2.81c.8-.78.8-2.07 0-2.86zM5.41 20L4 18.59l7.72-7.72 1.47 1.35L5.41 20z\"/>\n",
       "  </svg>\n",
       "      </button>\n",
       "      \n",
       "  <style>\n",
       "    .colab-df-container {\n",
       "      display:flex;\n",
       "      flex-wrap:wrap;\n",
       "      gap: 12px;\n",
       "    }\n",
       "\n",
       "    .colab-df-convert {\n",
       "      background-color: #E8F0FE;\n",
       "      border: none;\n",
       "      border-radius: 50%;\n",
       "      cursor: pointer;\n",
       "      display: none;\n",
       "      fill: #1967D2;\n",
       "      height: 32px;\n",
       "      padding: 0 0 0 0;\n",
       "      width: 32px;\n",
       "    }\n",
       "\n",
       "    .colab-df-convert:hover {\n",
       "      background-color: #E2EBFA;\n",
       "      box-shadow: 0px 1px 2px rgba(60, 64, 67, 0.3), 0px 1px 3px 1px rgba(60, 64, 67, 0.15);\n",
       "      fill: #174EA6;\n",
       "    }\n",
       "\n",
       "    [theme=dark] .colab-df-convert {\n",
       "      background-color: #3B4455;\n",
       "      fill: #D2E3FC;\n",
       "    }\n",
       "\n",
       "    [theme=dark] .colab-df-convert:hover {\n",
       "      background-color: #434B5C;\n",
       "      box-shadow: 0px 1px 3px 1px rgba(0, 0, 0, 0.15);\n",
       "      filter: drop-shadow(0px 1px 2px rgba(0, 0, 0, 0.3));\n",
       "      fill: #FFFFFF;\n",
       "    }\n",
       "  </style>\n",
       "\n",
       "      <script>\n",
       "        const buttonEl =\n",
       "          document.querySelector('#df-b71bf8f1-a34c-48e9-8155-8d58bdfbc731 button.colab-df-convert');\n",
       "        buttonEl.style.display =\n",
       "          google.colab.kernel.accessAllowed ? 'block' : 'none';\n",
       "\n",
       "        async function convertToInteractive(key) {\n",
       "          const element = document.querySelector('#df-b71bf8f1-a34c-48e9-8155-8d58bdfbc731');\n",
       "          const dataTable =\n",
       "            await google.colab.kernel.invokeFunction('convertToInteractive',\n",
       "                                                     [key], {});\n",
       "          if (!dataTable) return;\n",
       "\n",
       "          const docLinkHtml = 'Like what you see? Visit the ' +\n",
       "            '<a target=\"_blank\" href=https://colab.research.google.com/notebooks/data_table.ipynb>data table notebook</a>'\n",
       "            + ' to learn more about interactive tables.';\n",
       "          element.innerHTML = '';\n",
       "          dataTable['output_type'] = 'display_data';\n",
       "          await google.colab.output.renderOutput(dataTable, element);\n",
       "          const docLink = document.createElement('div');\n",
       "          docLink.innerHTML = docLinkHtml;\n",
       "          element.appendChild(docLink);\n",
       "        }\n",
       "      </script>\n",
       "    </div>\n",
       "  </div>\n",
       "  "
      ],
      "text/plain": [
       "     basho  day  r1_id r1_rank    r1_shikona  r1_result  r1_win   kimarite  \\\n",
       "0  1983.01    1   4140    J13w   Chikubayama  0-1 (7-8)       0   yorikiri   \n",
       "1  1983.01    3   1337    J12w  Tochitsukasa  1-2 (9-6)       0   yorikiri   \n",
       "2  1983.01   15   4097    J12e    Tamakiyama        8-7       1   yorikiri   \n",
       "3  1983.01    2   4140    J13w   Chikubayama  1-1 (7-8)       1  oshidashi   \n",
       "4  1983.01    8   1337    J12w  Tochitsukasa  4-4 (9-6)       1  oshidashi   \n",
       "\n",
       "   r2_id r2_rank  ... r1_prev_w r1_prev_l    r2_heya r2_shusshin  \\\n",
       "0   4306    Ms1e  ...       4.0       3.0    Kokonoe       Tokyo   \n",
       "1   4306    Ms1e  ...       5.0       2.0    Kokonoe       Tokyo   \n",
       "2   4306    Ms1e  ...       5.0       2.0    Kokonoe       Tokyo   \n",
       "3   4125     J7e  ...       4.0       3.0  Isegahama    Yamagata   \n",
       "4   4125     J7e  ...       5.0       2.0  Isegahama    Yamagata   \n",
       "\n",
       "  r2_birth_date  r2_height  r2_weight r2_prev  r2_prev_w  r2_prev_l  \n",
       "0    1958-08-26      193.5      145.0    Ms4w        4.0        3.0  \n",
       "1    1958-08-26      193.5      145.0    Ms4w        4.0        3.0  \n",
       "2    1958-08-26      193.5      145.0    Ms4w        4.0        3.0  \n",
       "3    1950-01-02      188.0      134.0    M14w        3.0       12.0  \n",
       "4    1950-01-02      188.0      134.0    M14w        3.0       12.0  \n",
       "\n",
       "[5 rows x 28 columns]"
      ]
     },
     "execution_count": 11,
     "metadata": {},
     "output_type": "execute_result"
    }
   ],
   "source": [
    "df = pd.read_csv(\"/content/drive/MyDrive/Colab Notebooks/DS123/capstone/sumo_v2_clean.csv\")\n",
    "df.head()"
   ]
  },
  {
   "cell_type": "code",
   "execution_count": 13,
   "metadata": {
    "id": "fBMAgKYvlhX7"
   },
   "outputs": [],
   "source": [
    "from pycaret.classification import * "
   ]
  },
  {
   "cell_type": "code",
   "execution_count": 14,
   "metadata": {
    "colab": {
     "base_uri": "https://localhost:8080/"
    },
    "id": "gK1sYUYdL7nD",
    "outputId": "72f5ceae-2321-4193-aac7-83ded8cc39af"
   },
   "outputs": [
    {
     "name": "stdout",
     "output_type": "stream",
     "text": [
      "<class 'pandas.core.frame.DataFrame'>\n",
      "RangeIndex: 226588 entries, 0 to 226587\n",
      "Data columns (total 13 columns):\n",
      " #   Column     Non-Null Count   Dtype  \n",
      "---  ------     --------------   -----  \n",
      " 0   basho      226588 non-null  float64\n",
      " 1   day        226588 non-null  int64  \n",
      " 2   r1_id      226588 non-null  int64  \n",
      " 3   r1_win     226588 non-null  int64  \n",
      " 4   r2_id      226588 non-null  int64  \n",
      " 5   r1_height  226588 non-null  float64\n",
      " 6   r1_weight  226588 non-null  float64\n",
      " 7   r1_prev_w  226588 non-null  float64\n",
      " 8   r1_prev_l  226588 non-null  float64\n",
      " 9   r2_height  226588 non-null  float64\n",
      " 10  r2_weight  226588 non-null  float64\n",
      " 11  r2_prev_w  226588 non-null  float64\n",
      " 12  r2_prev_l  226588 non-null  float64\n",
      "dtypes: float64(9), int64(4)\n",
      "memory usage: 22.5 MB\n"
     ]
    }
   ],
   "source": [
    "sel_cols = df.select_dtypes(exclude='object').columns\n",
    "df = df[sel_cols]\n",
    "df.info()"
   ]
  },
  {
   "cell_type": "code",
   "execution_count": 16,
   "metadata": {
    "colab": {
     "base_uri": "https://localhost:8080/",
     "height": 645
    },
    "id": "EI3LnPqTJ0eg",
    "outputId": "f388efb9-219c-427d-efc3-7adeba1fd07d"
   },
   "outputs": [
    {
     "data": {
      "text/html": [
       "<style type=\"text/css\">\n",
       "#T_1259c_row8_col1 {\n",
       "  background-color: lightgreen;\n",
       "}\n",
       "</style>\n",
       "<table id=\"T_1259c\" class=\"dataframe\">\n",
       "  <thead>\n",
       "    <tr>\n",
       "      <th class=\"blank level0\" >&nbsp;</th>\n",
       "      <th id=\"T_1259c_level0_col0\" class=\"col_heading level0 col0\" >Description</th>\n",
       "      <th id=\"T_1259c_level0_col1\" class=\"col_heading level0 col1\" >Value</th>\n",
       "    </tr>\n",
       "  </thead>\n",
       "  <tbody>\n",
       "    <tr>\n",
       "      <th id=\"T_1259c_level0_row0\" class=\"row_heading level0 row0\" >0</th>\n",
       "      <td id=\"T_1259c_row0_col0\" class=\"data row0 col0\" >Session id</td>\n",
       "      <td id=\"T_1259c_row0_col1\" class=\"data row0 col1\" >123</td>\n",
       "    </tr>\n",
       "    <tr>\n",
       "      <th id=\"T_1259c_level0_row1\" class=\"row_heading level0 row1\" >1</th>\n",
       "      <td id=\"T_1259c_row1_col0\" class=\"data row1 col0\" >Target</td>\n",
       "      <td id=\"T_1259c_row1_col1\" class=\"data row1 col1\" >r1_win</td>\n",
       "    </tr>\n",
       "    <tr>\n",
       "      <th id=\"T_1259c_level0_row2\" class=\"row_heading level0 row2\" >2</th>\n",
       "      <td id=\"T_1259c_row2_col0\" class=\"data row2 col0\" >Target type</td>\n",
       "      <td id=\"T_1259c_row2_col1\" class=\"data row2 col1\" >Binary</td>\n",
       "    </tr>\n",
       "    <tr>\n",
       "      <th id=\"T_1259c_level0_row3\" class=\"row_heading level0 row3\" >3</th>\n",
       "      <td id=\"T_1259c_row3_col0\" class=\"data row3 col0\" >Original data shape</td>\n",
       "      <td id=\"T_1259c_row3_col1\" class=\"data row3 col1\" >(226588, 13)</td>\n",
       "    </tr>\n",
       "    <tr>\n",
       "      <th id=\"T_1259c_level0_row4\" class=\"row_heading level0 row4\" >4</th>\n",
       "      <td id=\"T_1259c_row4_col0\" class=\"data row4 col0\" >Transformed data shape</td>\n",
       "      <td id=\"T_1259c_row4_col1\" class=\"data row4 col1\" >(226588, 13)</td>\n",
       "    </tr>\n",
       "    <tr>\n",
       "      <th id=\"T_1259c_level0_row5\" class=\"row_heading level0 row5\" >5</th>\n",
       "      <td id=\"T_1259c_row5_col0\" class=\"data row5 col0\" >Transformed train set shape</td>\n",
       "      <td id=\"T_1259c_row5_col1\" class=\"data row5 col1\" >(181270, 13)</td>\n",
       "    </tr>\n",
       "    <tr>\n",
       "      <th id=\"T_1259c_level0_row6\" class=\"row_heading level0 row6\" >6</th>\n",
       "      <td id=\"T_1259c_row6_col0\" class=\"data row6 col0\" >Transformed test set shape</td>\n",
       "      <td id=\"T_1259c_row6_col1\" class=\"data row6 col1\" >(45318, 13)</td>\n",
       "    </tr>\n",
       "    <tr>\n",
       "      <th id=\"T_1259c_level0_row7\" class=\"row_heading level0 row7\" >7</th>\n",
       "      <td id=\"T_1259c_row7_col0\" class=\"data row7 col0\" >Numeric features</td>\n",
       "      <td id=\"T_1259c_row7_col1\" class=\"data row7 col1\" >12</td>\n",
       "    </tr>\n",
       "    <tr>\n",
       "      <th id=\"T_1259c_level0_row8\" class=\"row_heading level0 row8\" >8</th>\n",
       "      <td id=\"T_1259c_row8_col0\" class=\"data row8 col0\" >Preprocess</td>\n",
       "      <td id=\"T_1259c_row8_col1\" class=\"data row8 col1\" >True</td>\n",
       "    </tr>\n",
       "    <tr>\n",
       "      <th id=\"T_1259c_level0_row9\" class=\"row_heading level0 row9\" >9</th>\n",
       "      <td id=\"T_1259c_row9_col0\" class=\"data row9 col0\" >Imputation type</td>\n",
       "      <td id=\"T_1259c_row9_col1\" class=\"data row9 col1\" >simple</td>\n",
       "    </tr>\n",
       "    <tr>\n",
       "      <th id=\"T_1259c_level0_row10\" class=\"row_heading level0 row10\" >10</th>\n",
       "      <td id=\"T_1259c_row10_col0\" class=\"data row10 col0\" >Numeric imputation</td>\n",
       "      <td id=\"T_1259c_row10_col1\" class=\"data row10 col1\" >mean</td>\n",
       "    </tr>\n",
       "    <tr>\n",
       "      <th id=\"T_1259c_level0_row11\" class=\"row_heading level0 row11\" >11</th>\n",
       "      <td id=\"T_1259c_row11_col0\" class=\"data row11 col0\" >Categorical imputation</td>\n",
       "      <td id=\"T_1259c_row11_col1\" class=\"data row11 col1\" >mode</td>\n",
       "    </tr>\n",
       "    <tr>\n",
       "      <th id=\"T_1259c_level0_row12\" class=\"row_heading level0 row12\" >12</th>\n",
       "      <td id=\"T_1259c_row12_col0\" class=\"data row12 col0\" >Fold Generator</td>\n",
       "      <td id=\"T_1259c_row12_col1\" class=\"data row12 col1\" >StratifiedKFold</td>\n",
       "    </tr>\n",
       "    <tr>\n",
       "      <th id=\"T_1259c_level0_row13\" class=\"row_heading level0 row13\" >13</th>\n",
       "      <td id=\"T_1259c_row13_col0\" class=\"data row13 col0\" >Fold Number</td>\n",
       "      <td id=\"T_1259c_row13_col1\" class=\"data row13 col1\" >10</td>\n",
       "    </tr>\n",
       "    <tr>\n",
       "      <th id=\"T_1259c_level0_row14\" class=\"row_heading level0 row14\" >14</th>\n",
       "      <td id=\"T_1259c_row14_col0\" class=\"data row14 col0\" >CPU Jobs</td>\n",
       "      <td id=\"T_1259c_row14_col1\" class=\"data row14 col1\" >-1</td>\n",
       "    </tr>\n",
       "    <tr>\n",
       "      <th id=\"T_1259c_level0_row15\" class=\"row_heading level0 row15\" >15</th>\n",
       "      <td id=\"T_1259c_row15_col0\" class=\"data row15 col0\" >Use GPU</td>\n",
       "      <td id=\"T_1259c_row15_col1\" class=\"data row15 col1\" >False</td>\n",
       "    </tr>\n",
       "    <tr>\n",
       "      <th id=\"T_1259c_level0_row16\" class=\"row_heading level0 row16\" >16</th>\n",
       "      <td id=\"T_1259c_row16_col0\" class=\"data row16 col0\" >Log Experiment</td>\n",
       "      <td id=\"T_1259c_row16_col1\" class=\"data row16 col1\" >False</td>\n",
       "    </tr>\n",
       "    <tr>\n",
       "      <th id=\"T_1259c_level0_row17\" class=\"row_heading level0 row17\" >17</th>\n",
       "      <td id=\"T_1259c_row17_col0\" class=\"data row17 col0\" >Experiment Name</td>\n",
       "      <td id=\"T_1259c_row17_col1\" class=\"data row17 col1\" >clf-default-name</td>\n",
       "    </tr>\n",
       "    <tr>\n",
       "      <th id=\"T_1259c_level0_row18\" class=\"row_heading level0 row18\" >18</th>\n",
       "      <td id=\"T_1259c_row18_col0\" class=\"data row18 col0\" >USI</td>\n",
       "      <td id=\"T_1259c_row18_col1\" class=\"data row18 col1\" >677c</td>\n",
       "    </tr>\n",
       "  </tbody>\n",
       "</table>\n"
      ],
      "text/plain": [
       "<pandas.io.formats.style.Styler at 0x7ffab89c9f10>"
      ]
     },
     "metadata": {},
     "output_type": "display_data"
    }
   ],
   "source": [
    "preprocess = setup(data = df, target = 'r1_win', train_size = 0.8, session_id=123)"
   ]
  },
  {
   "cell_type": "markdown",
   "metadata": {
    "id": "e_075m_hMdrT"
   },
   "source": [
    "### Compare Models"
   ]
  },
  {
   "cell_type": "code",
   "execution_count": 17,
   "metadata": {
    "colab": {
     "base_uri": "https://localhost:8080/",
     "height": 520,
     "referenced_widgets": [
      "b7eabaa5bb1049269060ecc5e48ed8a0",
      "404f0d4cd54a436da92fc3851bff316d",
      "b30b29b4ace74e58bf76b891b2fe100b",
      "80a03c278c3544dfaf5332f58a7f0af9",
      "5c6858617d934140baceb6ece9cf02af",
      "8c7f82135373410d8149e3adc1662486",
      "75dc81f73f6248d0b14c023578691842",
      "a84ef931125e44eeba2524aaac372859",
      "59efbac732cc4e56a71f7dbd2e641de2",
      "dda4f2e1085747a4af74e234addfa400",
      "7cc1950be0614e67aa2d9d9efb00f79e"
     ]
    },
    "id": "vnYuGTsCO7ig",
    "outputId": "d86672f7-3fa1-444a-df4c-3115d6d10b73"
   },
   "outputs": [
    {
     "data": {
      "text/html": [],
      "text/plain": [
       "<IPython.core.display.HTML object>"
      ]
     },
     "metadata": {},
     "output_type": "display_data"
    },
    {
     "data": {
      "text/html": [
       "<style type=\"text/css\">\n",
       "#T_b6cb4 th {\n",
       "  text-align: left;\n",
       "}\n",
       "#T_b6cb4_row0_col0, #T_b6cb4_row0_col3, #T_b6cb4_row1_col0, #T_b6cb4_row1_col1, #T_b6cb4_row1_col2, #T_b6cb4_row1_col4, #T_b6cb4_row1_col5, #T_b6cb4_row1_col6, #T_b6cb4_row1_col7, #T_b6cb4_row2_col0, #T_b6cb4_row2_col1, #T_b6cb4_row2_col2, #T_b6cb4_row2_col3, #T_b6cb4_row2_col4, #T_b6cb4_row2_col5, #T_b6cb4_row2_col6, #T_b6cb4_row2_col7, #T_b6cb4_row3_col0, #T_b6cb4_row3_col1, #T_b6cb4_row3_col2, #T_b6cb4_row3_col3, #T_b6cb4_row3_col4, #T_b6cb4_row3_col5, #T_b6cb4_row3_col6, #T_b6cb4_row3_col7, #T_b6cb4_row4_col0, #T_b6cb4_row4_col1, #T_b6cb4_row4_col2, #T_b6cb4_row4_col3, #T_b6cb4_row4_col4, #T_b6cb4_row4_col5, #T_b6cb4_row4_col6, #T_b6cb4_row4_col7, #T_b6cb4_row5_col0, #T_b6cb4_row5_col1, #T_b6cb4_row5_col2, #T_b6cb4_row5_col3, #T_b6cb4_row5_col4, #T_b6cb4_row5_col5, #T_b6cb4_row5_col6, #T_b6cb4_row5_col7, #T_b6cb4_row6_col0, #T_b6cb4_row6_col1, #T_b6cb4_row6_col2, #T_b6cb4_row6_col3, #T_b6cb4_row6_col4, #T_b6cb4_row6_col5, #T_b6cb4_row6_col6, #T_b6cb4_row6_col7, #T_b6cb4_row7_col0, #T_b6cb4_row7_col1, #T_b6cb4_row7_col2, #T_b6cb4_row7_col3, #T_b6cb4_row7_col4, #T_b6cb4_row7_col5, #T_b6cb4_row7_col6, #T_b6cb4_row7_col7, #T_b6cb4_row8_col0, #T_b6cb4_row8_col1, #T_b6cb4_row8_col2, #T_b6cb4_row8_col3, #T_b6cb4_row8_col4, #T_b6cb4_row8_col5, #T_b6cb4_row8_col6, #T_b6cb4_row8_col7, #T_b6cb4_row9_col0, #T_b6cb4_row9_col1, #T_b6cb4_row9_col2, #T_b6cb4_row9_col3, #T_b6cb4_row9_col4, #T_b6cb4_row9_col5, #T_b6cb4_row9_col6, #T_b6cb4_row9_col7, #T_b6cb4_row10_col0, #T_b6cb4_row10_col1, #T_b6cb4_row10_col2, #T_b6cb4_row10_col3, #T_b6cb4_row10_col4, #T_b6cb4_row10_col5, #T_b6cb4_row10_col6, #T_b6cb4_row10_col7, #T_b6cb4_row11_col0, #T_b6cb4_row11_col1, #T_b6cb4_row11_col2, #T_b6cb4_row11_col3, #T_b6cb4_row11_col4, #T_b6cb4_row11_col5, #T_b6cb4_row11_col6, #T_b6cb4_row11_col7, #T_b6cb4_row12_col0, #T_b6cb4_row12_col1, #T_b6cb4_row12_col2, #T_b6cb4_row12_col3, #T_b6cb4_row12_col4, #T_b6cb4_row12_col5, #T_b6cb4_row12_col6, #T_b6cb4_row12_col7, #T_b6cb4_row13_col0, #T_b6cb4_row13_col1, #T_b6cb4_row13_col2, #T_b6cb4_row13_col3, #T_b6cb4_row13_col4, #T_b6cb4_row13_col5, #T_b6cb4_row13_col6, #T_b6cb4_row13_col7, #T_b6cb4_row14_col0, #T_b6cb4_row14_col1, #T_b6cb4_row14_col2, #T_b6cb4_row14_col3, #T_b6cb4_row14_col4, #T_b6cb4_row14_col5, #T_b6cb4_row14_col6, #T_b6cb4_row14_col7 {\n",
       "  text-align: left;\n",
       "}\n",
       "#T_b6cb4_row0_col1, #T_b6cb4_row0_col2, #T_b6cb4_row0_col4, #T_b6cb4_row0_col5, #T_b6cb4_row0_col6, #T_b6cb4_row0_col7, #T_b6cb4_row1_col3 {\n",
       "  text-align: left;\n",
       "  background-color: yellow;\n",
       "}\n",
       "#T_b6cb4_row0_col8, #T_b6cb4_row1_col8, #T_b6cb4_row2_col8, #T_b6cb4_row3_col8, #T_b6cb4_row4_col8, #T_b6cb4_row5_col8, #T_b6cb4_row6_col8, #T_b6cb4_row7_col8, #T_b6cb4_row8_col8, #T_b6cb4_row9_col8, #T_b6cb4_row10_col8, #T_b6cb4_row11_col8, #T_b6cb4_row12_col8, #T_b6cb4_row13_col8 {\n",
       "  text-align: left;\n",
       "  background-color: lightgrey;\n",
       "}\n",
       "#T_b6cb4_row14_col8 {\n",
       "  text-align: left;\n",
       "  background-color: yellow;\n",
       "  background-color: lightgrey;\n",
       "}\n",
       "</style>\n",
       "<table id=\"T_b6cb4\" class=\"dataframe\">\n",
       "  <thead>\n",
       "    <tr>\n",
       "      <th class=\"blank level0\" >&nbsp;</th>\n",
       "      <th id=\"T_b6cb4_level0_col0\" class=\"col_heading level0 col0\" >Model</th>\n",
       "      <th id=\"T_b6cb4_level0_col1\" class=\"col_heading level0 col1\" >Accuracy</th>\n",
       "      <th id=\"T_b6cb4_level0_col2\" class=\"col_heading level0 col2\" >AUC</th>\n",
       "      <th id=\"T_b6cb4_level0_col3\" class=\"col_heading level0 col3\" >Recall</th>\n",
       "      <th id=\"T_b6cb4_level0_col4\" class=\"col_heading level0 col4\" >Prec.</th>\n",
       "      <th id=\"T_b6cb4_level0_col5\" class=\"col_heading level0 col5\" >F1</th>\n",
       "      <th id=\"T_b6cb4_level0_col6\" class=\"col_heading level0 col6\" >Kappa</th>\n",
       "      <th id=\"T_b6cb4_level0_col7\" class=\"col_heading level0 col7\" >MCC</th>\n",
       "      <th id=\"T_b6cb4_level0_col8\" class=\"col_heading level0 col8\" >TT (Sec)</th>\n",
       "    </tr>\n",
       "  </thead>\n",
       "  <tbody>\n",
       "    <tr>\n",
       "      <th id=\"T_b6cb4_level0_row0\" class=\"row_heading level0 row0\" >xgboost</th>\n",
       "      <td id=\"T_b6cb4_row0_col0\" class=\"data row0 col0\" >Extreme Gradient Boosting</td>\n",
       "      <td id=\"T_b6cb4_row0_col1\" class=\"data row0 col1\" >0.5713</td>\n",
       "      <td id=\"T_b6cb4_row0_col2\" class=\"data row0 col2\" >0.6090</td>\n",
       "      <td id=\"T_b6cb4_row0_col3\" class=\"data row0 col3\" >0.5757</td>\n",
       "      <td id=\"T_b6cb4_row0_col4\" class=\"data row0 col4\" >0.5707</td>\n",
       "      <td id=\"T_b6cb4_row0_col5\" class=\"data row0 col5\" >0.5732</td>\n",
       "      <td id=\"T_b6cb4_row0_col6\" class=\"data row0 col6\" >0.1427</td>\n",
       "      <td id=\"T_b6cb4_row0_col7\" class=\"data row0 col7\" >0.1427</td>\n",
       "      <td id=\"T_b6cb4_row0_col8\" class=\"data row0 col8\" >17.4200</td>\n",
       "    </tr>\n",
       "    <tr>\n",
       "      <th id=\"T_b6cb4_level0_row1\" class=\"row_heading level0 row1\" >lightgbm</th>\n",
       "      <td id=\"T_b6cb4_row1_col0\" class=\"data row1 col0\" >Light Gradient Boosting Machine</td>\n",
       "      <td id=\"T_b6cb4_row1_col1\" class=\"data row1 col1\" >0.5678</td>\n",
       "      <td id=\"T_b6cb4_row1_col2\" class=\"data row1 col2\" >0.6045</td>\n",
       "      <td id=\"T_b6cb4_row1_col3\" class=\"data row1 col3\" >0.5758</td>\n",
       "      <td id=\"T_b6cb4_row1_col4\" class=\"data row1 col4\" >0.5667</td>\n",
       "      <td id=\"T_b6cb4_row1_col5\" class=\"data row1 col5\" >0.5712</td>\n",
       "      <td id=\"T_b6cb4_row1_col6\" class=\"data row1 col6\" >0.1356</td>\n",
       "      <td id=\"T_b6cb4_row1_col7\" class=\"data row1 col7\" >0.1356</td>\n",
       "      <td id=\"T_b6cb4_row1_col8\" class=\"data row1 col8\" >2.3570</td>\n",
       "    </tr>\n",
       "    <tr>\n",
       "      <th id=\"T_b6cb4_level0_row2\" class=\"row_heading level0 row2\" >gbc</th>\n",
       "      <td id=\"T_b6cb4_row2_col0\" class=\"data row2 col0\" >Gradient Boosting Classifier</td>\n",
       "      <td id=\"T_b6cb4_row2_col1\" class=\"data row2 col1\" >0.5570</td>\n",
       "      <td id=\"T_b6cb4_row2_col2\" class=\"data row2 col2\" >0.5877</td>\n",
       "      <td id=\"T_b6cb4_row2_col3\" class=\"data row2 col3\" >0.5635</td>\n",
       "      <td id=\"T_b6cb4_row2_col4\" class=\"data row2 col4\" >0.5563</td>\n",
       "      <td id=\"T_b6cb4_row2_col5\" class=\"data row2 col5\" >0.5598</td>\n",
       "      <td id=\"T_b6cb4_row2_col6\" class=\"data row2 col6\" >0.1140</td>\n",
       "      <td id=\"T_b6cb4_row2_col7\" class=\"data row2 col7\" >0.1140</td>\n",
       "      <td id=\"T_b6cb4_row2_col8\" class=\"data row2 col8\" >22.8280</td>\n",
       "    </tr>\n",
       "    <tr>\n",
       "      <th id=\"T_b6cb4_level0_row3\" class=\"row_heading level0 row3\" >rf</th>\n",
       "      <td id=\"T_b6cb4_row3_col0\" class=\"data row3 col0\" >Random Forest Classifier</td>\n",
       "      <td id=\"T_b6cb4_row3_col1\" class=\"data row3 col1\" >0.5519</td>\n",
       "      <td id=\"T_b6cb4_row3_col2\" class=\"data row3 col2\" >0.5788</td>\n",
       "      <td id=\"T_b6cb4_row3_col3\" class=\"data row3 col3\" >0.5373</td>\n",
       "      <td id=\"T_b6cb4_row3_col4\" class=\"data row3 col4\" >0.5534</td>\n",
       "      <td id=\"T_b6cb4_row3_col5\" class=\"data row3 col5\" >0.5452</td>\n",
       "      <td id=\"T_b6cb4_row3_col6\" class=\"data row3 col6\" >0.1037</td>\n",
       "      <td id=\"T_b6cb4_row3_col7\" class=\"data row3 col7\" >0.1038</td>\n",
       "      <td id=\"T_b6cb4_row3_col8\" class=\"data row3 col8\" >42.4100</td>\n",
       "    </tr>\n",
       "    <tr>\n",
       "      <th id=\"T_b6cb4_level0_row4\" class=\"row_heading level0 row4\" >ada</th>\n",
       "      <td id=\"T_b6cb4_row4_col0\" class=\"data row4 col0\" >Ada Boost Classifier</td>\n",
       "      <td id=\"T_b6cb4_row4_col1\" class=\"data row4 col1\" >0.5478</td>\n",
       "      <td id=\"T_b6cb4_row4_col2\" class=\"data row4 col2\" >0.5742</td>\n",
       "      <td id=\"T_b6cb4_row4_col3\" class=\"data row4 col3\" >0.5468</td>\n",
       "      <td id=\"T_b6cb4_row4_col4\" class=\"data row4 col4\" >0.5479</td>\n",
       "      <td id=\"T_b6cb4_row4_col5\" class=\"data row4 col5\" >0.5473</td>\n",
       "      <td id=\"T_b6cb4_row4_col6\" class=\"data row4 col6\" >0.0955</td>\n",
       "      <td id=\"T_b6cb4_row4_col7\" class=\"data row4 col7\" >0.0955</td>\n",
       "      <td id=\"T_b6cb4_row4_col8\" class=\"data row4 col8\" >5.8420</td>\n",
       "    </tr>\n",
       "    <tr>\n",
       "      <th id=\"T_b6cb4_level0_row5\" class=\"row_heading level0 row5\" >knn</th>\n",
       "      <td id=\"T_b6cb4_row5_col0\" class=\"data row5 col0\" >K Neighbors Classifier</td>\n",
       "      <td id=\"T_b6cb4_row5_col1\" class=\"data row5 col1\" >0.5441</td>\n",
       "      <td id=\"T_b6cb4_row5_col2\" class=\"data row5 col2\" >0.5621</td>\n",
       "      <td id=\"T_b6cb4_row5_col3\" class=\"data row5 col3\" >0.5437</td>\n",
       "      <td id=\"T_b6cb4_row5_col4\" class=\"data row5 col4\" >0.5441</td>\n",
       "      <td id=\"T_b6cb4_row5_col5\" class=\"data row5 col5\" >0.5439</td>\n",
       "      <td id=\"T_b6cb4_row5_col6\" class=\"data row5 col6\" >0.0881</td>\n",
       "      <td id=\"T_b6cb4_row5_col7\" class=\"data row5 col7\" >0.0881</td>\n",
       "      <td id=\"T_b6cb4_row5_col8\" class=\"data row5 col8\" >1.8620</td>\n",
       "    </tr>\n",
       "    <tr>\n",
       "      <th id=\"T_b6cb4_level0_row6\" class=\"row_heading level0 row6\" >et</th>\n",
       "      <td id=\"T_b6cb4_row6_col0\" class=\"data row6 col0\" >Extra Trees Classifier</td>\n",
       "      <td id=\"T_b6cb4_row6_col1\" class=\"data row6 col1\" >0.5400</td>\n",
       "      <td id=\"T_b6cb4_row6_col2\" class=\"data row6 col2\" >0.5627</td>\n",
       "      <td id=\"T_b6cb4_row6_col3\" class=\"data row6 col3\" >0.5264</td>\n",
       "      <td id=\"T_b6cb4_row6_col4\" class=\"data row6 col4\" >0.5411</td>\n",
       "      <td id=\"T_b6cb4_row6_col5\" class=\"data row6 col5\" >0.5337</td>\n",
       "      <td id=\"T_b6cb4_row6_col6\" class=\"data row6 col6\" >0.0800</td>\n",
       "      <td id=\"T_b6cb4_row6_col7\" class=\"data row6 col7\" >0.0800</td>\n",
       "      <td id=\"T_b6cb4_row6_col8\" class=\"data row6 col8\" >30.2730</td>\n",
       "    </tr>\n",
       "    <tr>\n",
       "      <th id=\"T_b6cb4_level0_row7\" class=\"row_heading level0 row7\" >qda</th>\n",
       "      <td id=\"T_b6cb4_row7_col0\" class=\"data row7 col0\" >Quadratic Discriminant Analysis</td>\n",
       "      <td id=\"T_b6cb4_row7_col1\" class=\"data row7 col1\" >0.5334</td>\n",
       "      <td id=\"T_b6cb4_row7_col2\" class=\"data row7 col2\" >0.5540</td>\n",
       "      <td id=\"T_b6cb4_row7_col3\" class=\"data row7 col3\" >0.5438</td>\n",
       "      <td id=\"T_b6cb4_row7_col4\" class=\"data row7 col4\" >0.5327</td>\n",
       "      <td id=\"T_b6cb4_row7_col5\" class=\"data row7 col5\" >0.5381</td>\n",
       "      <td id=\"T_b6cb4_row7_col6\" class=\"data row7 col6\" >0.0667</td>\n",
       "      <td id=\"T_b6cb4_row7_col7\" class=\"data row7 col7\" >0.0667</td>\n",
       "      <td id=\"T_b6cb4_row7_col8\" class=\"data row7 col8\" >0.3640</td>\n",
       "    </tr>\n",
       "    <tr>\n",
       "      <th id=\"T_b6cb4_level0_row8\" class=\"row_heading level0 row8\" >nb</th>\n",
       "      <td id=\"T_b6cb4_row8_col0\" class=\"data row8 col0\" >Naive Bayes</td>\n",
       "      <td id=\"T_b6cb4_row8_col1\" class=\"data row8 col1\" >0.5315</td>\n",
       "      <td id=\"T_b6cb4_row8_col2\" class=\"data row8 col2\" >0.5520</td>\n",
       "      <td id=\"T_b6cb4_row8_col3\" class=\"data row8 col3\" >0.5362</td>\n",
       "      <td id=\"T_b6cb4_row8_col4\" class=\"data row8 col4\" >0.5312</td>\n",
       "      <td id=\"T_b6cb4_row8_col5\" class=\"data row8 col5\" >0.5337</td>\n",
       "      <td id=\"T_b6cb4_row8_col6\" class=\"data row8 col6\" >0.0630</td>\n",
       "      <td id=\"T_b6cb4_row8_col7\" class=\"data row8 col7\" >0.0630</td>\n",
       "      <td id=\"T_b6cb4_row8_col8\" class=\"data row8 col8\" >0.1740</td>\n",
       "    </tr>\n",
       "    <tr>\n",
       "      <th id=\"T_b6cb4_level0_row9\" class=\"row_heading level0 row9\" >dt</th>\n",
       "      <td id=\"T_b6cb4_row9_col0\" class=\"data row9 col0\" >Decision Tree Classifier</td>\n",
       "      <td id=\"T_b6cb4_row9_col1\" class=\"data row9 col1\" >0.5237</td>\n",
       "      <td id=\"T_b6cb4_row9_col2\" class=\"data row9 col2\" >0.5237</td>\n",
       "      <td id=\"T_b6cb4_row9_col3\" class=\"data row9 col3\" >0.5259</td>\n",
       "      <td id=\"T_b6cb4_row9_col4\" class=\"data row9 col4\" >0.5235</td>\n",
       "      <td id=\"T_b6cb4_row9_col5\" class=\"data row9 col5\" >0.5247</td>\n",
       "      <td id=\"T_b6cb4_row9_col6\" class=\"data row9 col6\" >0.0473</td>\n",
       "      <td id=\"T_b6cb4_row9_col7\" class=\"data row9 col7\" >0.0473</td>\n",
       "      <td id=\"T_b6cb4_row9_col8\" class=\"data row9 col8\" >1.9230</td>\n",
       "    </tr>\n",
       "    <tr>\n",
       "      <th id=\"T_b6cb4_level0_row10\" class=\"row_heading level0 row10\" >ridge</th>\n",
       "      <td id=\"T_b6cb4_row10_col0\" class=\"data row10 col0\" >Ridge Classifier</td>\n",
       "      <td id=\"T_b6cb4_row10_col1\" class=\"data row10 col1\" >0.5227</td>\n",
       "      <td id=\"T_b6cb4_row10_col2\" class=\"data row10 col2\" >0.0000</td>\n",
       "      <td id=\"T_b6cb4_row10_col3\" class=\"data row10 col3\" >0.5230</td>\n",
       "      <td id=\"T_b6cb4_row10_col4\" class=\"data row10 col4\" >0.5227</td>\n",
       "      <td id=\"T_b6cb4_row10_col5\" class=\"data row10 col5\" >0.5228</td>\n",
       "      <td id=\"T_b6cb4_row10_col6\" class=\"data row10 col6\" >0.0454</td>\n",
       "      <td id=\"T_b6cb4_row10_col7\" class=\"data row10 col7\" >0.0454</td>\n",
       "      <td id=\"T_b6cb4_row10_col8\" class=\"data row10 col8\" >0.1860</td>\n",
       "    </tr>\n",
       "    <tr>\n",
       "      <th id=\"T_b6cb4_level0_row11\" class=\"row_heading level0 row11\" >lda</th>\n",
       "      <td id=\"T_b6cb4_row11_col0\" class=\"data row11 col0\" >Linear Discriminant Analysis</td>\n",
       "      <td id=\"T_b6cb4_row11_col1\" class=\"data row11 col1\" >0.5227</td>\n",
       "      <td id=\"T_b6cb4_row11_col2\" class=\"data row11 col2\" >0.5348</td>\n",
       "      <td id=\"T_b6cb4_row11_col3\" class=\"data row11 col3\" >0.5230</td>\n",
       "      <td id=\"T_b6cb4_row11_col4\" class=\"data row11 col4\" >0.5227</td>\n",
       "      <td id=\"T_b6cb4_row11_col5\" class=\"data row11 col5\" >0.5228</td>\n",
       "      <td id=\"T_b6cb4_row11_col6\" class=\"data row11 col6\" >0.0454</td>\n",
       "      <td id=\"T_b6cb4_row11_col7\" class=\"data row11 col7\" >0.0454</td>\n",
       "      <td id=\"T_b6cb4_row11_col8\" class=\"data row11 col8\" >0.4890</td>\n",
       "    </tr>\n",
       "    <tr>\n",
       "      <th id=\"T_b6cb4_level0_row12\" class=\"row_heading level0 row12\" >lr</th>\n",
       "      <td id=\"T_b6cb4_row12_col0\" class=\"data row12 col0\" >Logistic Regression</td>\n",
       "      <td id=\"T_b6cb4_row12_col1\" class=\"data row12 col1\" >0.5220</td>\n",
       "      <td id=\"T_b6cb4_row12_col2\" class=\"data row12 col2\" >0.5341</td>\n",
       "      <td id=\"T_b6cb4_row12_col3\" class=\"data row12 col3\" >0.5217</td>\n",
       "      <td id=\"T_b6cb4_row12_col4\" class=\"data row12 col4\" >0.5220</td>\n",
       "      <td id=\"T_b6cb4_row12_col5\" class=\"data row12 col5\" >0.5218</td>\n",
       "      <td id=\"T_b6cb4_row12_col6\" class=\"data row12 col6\" >0.0439</td>\n",
       "      <td id=\"T_b6cb4_row12_col7\" class=\"data row12 col7\" >0.0439</td>\n",
       "      <td id=\"T_b6cb4_row12_col8\" class=\"data row12 col8\" >1.5560</td>\n",
       "    </tr>\n",
       "    <tr>\n",
       "      <th id=\"T_b6cb4_level0_row13\" class=\"row_heading level0 row13\" >svm</th>\n",
       "      <td id=\"T_b6cb4_row13_col0\" class=\"data row13 col0\" >SVM - Linear Kernel</td>\n",
       "      <td id=\"T_b6cb4_row13_col1\" class=\"data row13 col1\" >0.5018</td>\n",
       "      <td id=\"T_b6cb4_row13_col2\" class=\"data row13 col2\" >0.0000</td>\n",
       "      <td id=\"T_b6cb4_row13_col3\" class=\"data row13 col3\" >0.4077</td>\n",
       "      <td id=\"T_b6cb4_row13_col4\" class=\"data row13 col4\" >0.5550</td>\n",
       "      <td id=\"T_b6cb4_row13_col5\" class=\"data row13 col5\" >0.3954</td>\n",
       "      <td id=\"T_b6cb4_row13_col6\" class=\"data row13 col6\" >0.0036</td>\n",
       "      <td id=\"T_b6cb4_row13_col7\" class=\"data row13 col7\" >0.0056</td>\n",
       "      <td id=\"T_b6cb4_row13_col8\" class=\"data row13 col8\" >8.7650</td>\n",
       "    </tr>\n",
       "    <tr>\n",
       "      <th id=\"T_b6cb4_level0_row14\" class=\"row_heading level0 row14\" >dummy</th>\n",
       "      <td id=\"T_b6cb4_row14_col0\" class=\"data row14 col0\" >Dummy Classifier</td>\n",
       "      <td id=\"T_b6cb4_row14_col1\" class=\"data row14 col1\" >0.5000</td>\n",
       "      <td id=\"T_b6cb4_row14_col2\" class=\"data row14 col2\" >0.5000</td>\n",
       "      <td id=\"T_b6cb4_row14_col3\" class=\"data row14 col3\" >0.5000</td>\n",
       "      <td id=\"T_b6cb4_row14_col4\" class=\"data row14 col4\" >0.2500</td>\n",
       "      <td id=\"T_b6cb4_row14_col5\" class=\"data row14 col5\" >0.3333</td>\n",
       "      <td id=\"T_b6cb4_row14_col6\" class=\"data row14 col6\" >0.0000</td>\n",
       "      <td id=\"T_b6cb4_row14_col7\" class=\"data row14 col7\" >0.0000</td>\n",
       "      <td id=\"T_b6cb4_row14_col8\" class=\"data row14 col8\" >0.1320</td>\n",
       "    </tr>\n",
       "  </tbody>\n",
       "</table>\n"
      ],
      "text/plain": [
       "<pandas.io.formats.style.Styler at 0x7ffab89c93a0>"
      ]
     },
     "metadata": {},
     "output_type": "display_data"
    },
    {
     "data": {
      "application/vnd.jupyter.widget-view+json": {
       "model_id": "b7eabaa5bb1049269060ecc5e48ed8a0",
       "version_major": 2,
       "version_minor": 0
      },
      "text/plain": [
       "Processing:   0%|          | 0/65 [00:00<?, ?it/s]"
      ]
     },
     "metadata": {
      "application/vnd.jupyter.widget-view+json": {
       "colab": {
        "custom_widget_manager": {
         "url": "https://ssl.gstatic.com/colaboratory-static/widgets/colab-cdn-widget-manager/b3e629b1971e1542/manager.min.js"
        }
       }
      }
     },
     "output_type": "display_data"
    },
    {
     "data": {
      "text/html": [],
      "text/plain": [
       "<IPython.core.display.HTML object>"
      ]
     },
     "metadata": {},
     "output_type": "display_data"
    }
   ],
   "source": [
    "best = compare_models()"
   ]
  },
  {
   "cell_type": "code",
   "execution_count": 18,
   "metadata": {
    "colab": {
     "base_uri": "https://localhost:8080/"
    },
    "id": "alEyVhI6Lsud",
    "outputId": "d25b222f-3c57-414f-9d51-df1bfe36a5c2"
   },
   "outputs": [
    {
     "name": "stdout",
     "output_type": "stream",
     "text": [
      "XGBClassifier(base_score=None, booster='gbtree', callbacks=None,\n",
      "              colsample_bylevel=None, colsample_bynode=None,\n",
      "              colsample_bytree=None, early_stopping_rounds=None,\n",
      "              enable_categorical=False, eval_metric=None, feature_types=None,\n",
      "              gamma=None, gpu_id=None, grow_policy=None, importance_type=None,\n",
      "              interaction_constraints=None, learning_rate=None, max_bin=None,\n",
      "              max_cat_threshold=None, max_cat_to_onehot=None,\n",
      "              max_delta_step=None, max_depth=None, max_leaves=None,\n",
      "              min_child_weight=None, missing=nan, monotone_constraints=None,\n",
      "              n_estimators=100, n_jobs=-1, num_parallel_tree=None,\n",
      "              objective='binary:logistic', predictor=None, ...)\n"
     ]
    }
   ],
   "source": [
    "print(best)"
   ]
  },
  {
   "cell_type": "markdown",
   "metadata": {
    "id": "Eqc16QteLvGW"
   },
   "source": [
    "### Analyze Model"
   ]
  },
  {
   "cell_type": "code",
   "execution_count": 27,
   "metadata": {
    "colab": {
     "base_uri": "https://localhost:8080/",
     "height": 551
    },
    "id": "-wEoMrePMHNG",
    "outputId": "e0c1f19f-8083-49b8-f138-f3e181485e05"
   },
   "outputs": [
    {
     "data": {
      "text/html": [],
      "text/plain": [
       "<IPython.core.display.HTML object>"
      ]
     },
     "metadata": {},
     "output_type": "display_data"
    },
    {
     "data": {
      "image/png": "[encoded data removed]",
      "text/plain": [
       "<Figure size 800x550 with 1 Axes>"
      ]
     },
     "metadata": {},
     "output_type": "display_data"
    }
   ],
   "source": [
    "# plot confusion matrix\n",
    "plot_model(best, plot = 'confusion_matrix')"
   ]
  },
  {
   "cell_type": "code",
   "execution_count": 26,
   "metadata": {
    "colab": {
     "base_uri": "https://localhost:8080/",
     "height": 524
    },
    "id": "61B_481TMHF1",
    "outputId": "affea04f-425f-4ee2-c32e-38adfea9a4d9"
   },
   "outputs": [
    {
     "data": {
      "text/html": [],
      "text/plain": [
       "<IPython.core.display.HTML object>"
      ]
     },
     "metadata": {},
     "output_type": "display_data"
    },
    {
     "data": {
      "image/png": "[encoded data removed]",
      "text/plain": [
       "<Figure size 800x550 with 1 Axes>"
      ]
     },
     "metadata": {},
     "output_type": "display_data"
    }
   ],
   "source": [
    "# plot AUC\n",
    "plot_model(best, plot = 'auc')"
   ]
  },
  {
   "cell_type": "code",
   "execution_count": 25,
   "metadata": {
    "colab": {
     "base_uri": "https://localhost:8080/",
     "height": 485
    },
    "id": "mp2qGkYSTFWB",
    "outputId": "1b2b23d8-6810-4275-9f17-0a7839a642af"
   },
   "outputs": [
    {
     "data": {
      "text/html": [],
      "text/plain": [
       "<IPython.core.display.HTML object>"
      ]
     },
     "metadata": {},
     "output_type": "display_data"
    },
    {
     "data": {
      "image/png": "[encoded data removed]",
      "text/plain": [
       "<Figure size 800x500 with 1 Axes>"
      ]
     },
     "metadata": {},
     "output_type": "display_data"
    }
   ],
   "source": [
    "# plot feature importance\n",
    "plot_model(best, plot = 'feature')"
   ]
  },
  {
   "cell_type": "code",
   "execution_count": 29,
   "metadata": {
    "id": "meGDGmqkTPLi"
   },
   "outputs": [],
   "source": [
    "#evaluate_model(best)"
   ]
  },
  {
   "cell_type": "markdown",
   "metadata": {
    "id": "VRAOHg8hMlBx"
   },
   "source": [
    "### Predictions"
   ]
  },
  {
   "cell_type": "code",
   "execution_count": 34,
   "metadata": {
    "colab": {
     "base_uri": "https://localhost:8080/",
     "height": 81
    },
    "id": "o7-MPO_PMmcv",
    "outputId": "dbb09aa2-6832-41e3-dee0-d1deefdc6500"
   },
   "outputs": [
    {
     "data": {
      "text/html": [
       "<style type=\"text/css\">\n",
       "</style>\n",
       "<table id=\"T_12885\" class=\"dataframe\">\n",
       "  <thead>\n",
       "    <tr>\n",
       "      <th class=\"blank level0\" >&nbsp;</th>\n",
       "      <th id=\"T_12885_level0_col0\" class=\"col_heading level0 col0\" >Model</th>\n",
       "      <th id=\"T_12885_level0_col1\" class=\"col_heading level0 col1\" >Accuracy</th>\n",
       "      <th id=\"T_12885_level0_col2\" class=\"col_heading level0 col2\" >AUC</th>\n",
       "      <th id=\"T_12885_level0_col3\" class=\"col_heading level0 col3\" >Recall</th>\n",
       "      <th id=\"T_12885_level0_col4\" class=\"col_heading level0 col4\" >Prec.</th>\n",
       "      <th id=\"T_12885_level0_col5\" class=\"col_heading level0 col5\" >F1</th>\n",
       "      <th id=\"T_12885_level0_col6\" class=\"col_heading level0 col6\" >Kappa</th>\n",
       "      <th id=\"T_12885_level0_col7\" class=\"col_heading level0 col7\" >MCC</th>\n",
       "    </tr>\n",
       "  </thead>\n",
       "  <tbody>\n",
       "    <tr>\n",
       "      <th id=\"T_12885_level0_row0\" class=\"row_heading level0 row0\" >0</th>\n",
       "      <td id=\"T_12885_row0_col0\" class=\"data row0 col0\" >Extreme Gradient Boosting</td>\n",
       "      <td id=\"T_12885_row0_col1\" class=\"data row0 col1\" >0.5747</td>\n",
       "      <td id=\"T_12885_row0_col2\" class=\"data row0 col2\" >0.6133</td>\n",
       "      <td id=\"T_12885_row0_col3\" class=\"data row0 col3\" >0.5741</td>\n",
       "      <td id=\"T_12885_row0_col4\" class=\"data row0 col4\" >0.5748</td>\n",
       "      <td id=\"T_12885_row0_col5\" class=\"data row0 col5\" >0.5744</td>\n",
       "      <td id=\"T_12885_row0_col6\" class=\"data row0 col6\" >0.1494</td>\n",
       "      <td id=\"T_12885_row0_col7\" class=\"data row0 col7\" >0.1494</td>\n",
       "    </tr>\n",
       "  </tbody>\n",
       "</table>\n"
      ],
      "text/plain": [
       "<pandas.io.formats.style.Styler at 0x7ffaa259c1f0>"
      ]
     },
     "metadata": {},
     "output_type": "display_data"
    }
   ],
   "source": [
    "# Predict on test set\n",
    "pred = predict_model(best)"
   ]
  },
  {
   "cell_type": "code",
   "execution_count": 35,
   "metadata": {
    "colab": {
     "base_uri": "https://localhost:8080/",
     "height": 270
    },
    "id": "AfJ04IPeTfUD",
    "outputId": "c09d2609-a2ae-484c-b9ad-fa8e51fe75c5"
   },
   "outputs": [
    {
     "data": {
      "text/html": [
       "\n",
       "  <div id=\"df-7452b67a-d995-4bbf-8ad5-f4e24ded8190\">\n",
       "    <div class=\"colab-df-container\">\n",
       "      <div>\n",
       "<style scoped>\n",
       "    .dataframe tbody tr th:only-of-type {\n",
       "        vertical-align: middle;\n",
       "    }\n",
       "\n",
       "    .dataframe tbody tr th {\n",
       "        vertical-align: top;\n",
       "    }\n",
       "\n",
       "    .dataframe thead th {\n",
       "        text-align: right;\n",
       "    }\n",
       "</style>\n",
       "<table border=\"1\" class=\"dataframe\">\n",
       "  <thead>\n",
       "    <tr style=\"text-align: right;\">\n",
       "      <th></th>\n",
       "      <th>basho</th>\n",
       "      <th>day</th>\n",
       "      <th>r1_id</th>\n",
       "      <th>r2_id</th>\n",
       "      <th>r1_height</th>\n",
       "      <th>r1_weight</th>\n",
       "      <th>r1_prev_w</th>\n",
       "      <th>r1_prev_l</th>\n",
       "      <th>r2_height</th>\n",
       "      <th>r2_weight</th>\n",
       "      <th>r2_prev_w</th>\n",
       "      <th>r2_prev_l</th>\n",
       "      <th>r1_win</th>\n",
       "      <th>prediction_label</th>\n",
       "      <th>prediction_score</th>\n",
       "    </tr>\n",
       "  </thead>\n",
       "  <tbody>\n",
       "    <tr>\n",
       "      <th>83276</th>\n",
       "      <td>1997.069946</td>\n",
       "      <td>4</td>\n",
       "      <td>57</td>\n",
       "      <td>25</td>\n",
       "      <td>189.000000</td>\n",
       "      <td>191.0</td>\n",
       "      <td>7.0</td>\n",
       "      <td>8.0</td>\n",
       "      <td>178.000000</td>\n",
       "      <td>127.0</td>\n",
       "      <td>6.0</td>\n",
       "      <td>9.0</td>\n",
       "      <td>0</td>\n",
       "      <td>1</td>\n",
       "      <td>0.5096</td>\n",
       "    </tr>\n",
       "    <tr>\n",
       "      <th>121299</th>\n",
       "      <td>2004.050049</td>\n",
       "      <td>12</td>\n",
       "      <td>287</td>\n",
       "      <td>222</td>\n",
       "      <td>176.000000</td>\n",
       "      <td>140.0</td>\n",
       "      <td>8.0</td>\n",
       "      <td>7.0</td>\n",
       "      <td>177.000000</td>\n",
       "      <td>145.0</td>\n",
       "      <td>8.0</td>\n",
       "      <td>7.0</td>\n",
       "      <td>1</td>\n",
       "      <td>0</td>\n",
       "      <td>0.5032</td>\n",
       "    </tr>\n",
       "    <tr>\n",
       "      <th>16837</th>\n",
       "      <td>1986.010010</td>\n",
       "      <td>5</td>\n",
       "      <td>1362</td>\n",
       "      <td>4139</td>\n",
       "      <td>188.399994</td>\n",
       "      <td>131.0</td>\n",
       "      <td>6.0</td>\n",
       "      <td>9.0</td>\n",
       "      <td>174.000000</td>\n",
       "      <td>120.0</td>\n",
       "      <td>7.0</td>\n",
       "      <td>8.0</td>\n",
       "      <td>1</td>\n",
       "      <td>1</td>\n",
       "      <td>0.5252</td>\n",
       "    </tr>\n",
       "    <tr>\n",
       "      <th>174229</th>\n",
       "      <td>2013.030029</td>\n",
       "      <td>15</td>\n",
       "      <td>6770</td>\n",
       "      <td>6010</td>\n",
       "      <td>184.000000</td>\n",
       "      <td>186.0</td>\n",
       "      <td>8.0</td>\n",
       "      <td>7.0</td>\n",
       "      <td>182.000000</td>\n",
       "      <td>182.0</td>\n",
       "      <td>4.0</td>\n",
       "      <td>11.0</td>\n",
       "      <td>0</td>\n",
       "      <td>0</td>\n",
       "      <td>0.5653</td>\n",
       "    </tr>\n",
       "    <tr>\n",
       "      <th>92616</th>\n",
       "      <td>1999.030029</td>\n",
       "      <td>6</td>\n",
       "      <td>145</td>\n",
       "      <td>43</td>\n",
       "      <td>182.500000</td>\n",
       "      <td>121.5</td>\n",
       "      <td>9.0</td>\n",
       "      <td>6.0</td>\n",
       "      <td>183.600006</td>\n",
       "      <td>149.5</td>\n",
       "      <td>4.0</td>\n",
       "      <td>11.0</td>\n",
       "      <td>1</td>\n",
       "      <td>0</td>\n",
       "      <td>0.5456</td>\n",
       "    </tr>\n",
       "  </tbody>\n",
       "</table>\n",
       "</div>\n",
       "      <button class=\"colab-df-convert\" onclick=\"convertToInteractive('df-7452b67a-d995-4bbf-8ad5-f4e24ded8190')\"\n",
       "              title=\"Convert this dataframe to an interactive table.\"\n",
       "              style=\"display:none;\">\n",
       "        \n",
       "  <svg xmlns=\"http://www.w3.org/2000/svg\" height=\"24px\"viewBox=\"0 0 24 24\"\n",
       "       width=\"24px\">\n",
       "    <path d=\"M0 0h24v24H0V0z\" fill=\"none\"/>\n",
       "    <path d=\"M18.56 5.44l.94 2.06.94-2.06 2.06-.94-2.06-.94-.94-2.06-.94 2.06-2.06.94zm-11 1L8.5 8.5l.94-2.06 2.06-.94-2.06-.94L8.5 2.5l-.94 2.06-2.06.94zm10 10l.94 2.06.94-2.06 2.06-.94-2.06-.94-.94-2.06-.94 2.06-2.06.94z\"/><path d=\"M17.41 7.96l-1.37-1.37c-.4-.4-.92-.59-1.43-.59-.52 0-1.04.2-1.43.59L10.3 9.45l-7.72 7.72c-.78.78-.78 2.05 0 2.83L4 21.41c.39.39.9.59 1.41.59.51 0 1.02-.2 1.41-.59l7.78-7.78 2.81-2.81c.8-.78.8-2.07 0-2.86zM5.41 20L4 18.59l7.72-7.72 1.47 1.35L5.41 20z\"/>\n",
       "  </svg>\n",
       "      </button>\n",
       "      \n",
       "  <style>\n",
       "    .colab-df-container {\n",
       "      display:flex;\n",
       "      flex-wrap:wrap;\n",
       "      gap: 12px;\n",
       "    }\n",
       "\n",
       "    .colab-df-convert {\n",
       "      background-color: #E8F0FE;\n",
       "      border: none;\n",
       "      border-radius: 50%;\n",
       "      cursor: pointer;\n",
       "      display: none;\n",
       "      fill: #1967D2;\n",
       "      height: 32px;\n",
       "      padding: 0 0 0 0;\n",
       "      width: 32px;\n",
       "    }\n",
       "\n",
       "    .colab-df-convert:hover {\n",
       "      background-color: #E2EBFA;\n",
       "      box-shadow: 0px 1px 2px rgba(60, 64, 67, 0.3), 0px 1px 3px 1px rgba(60, 64, 67, 0.15);\n",
       "      fill: #174EA6;\n",
       "    }\n",
       "\n",
       "    [theme=dark] .colab-df-convert {\n",
       "      background-color: #3B4455;\n",
       "      fill: #D2E3FC;\n",
       "    }\n",
       "\n",
       "    [theme=dark] .colab-df-convert:hover {\n",
       "      background-color: #434B5C;\n",
       "      box-shadow: 0px 1px 3px 1px rgba(0, 0, 0, 0.15);\n",
       "      filter: drop-shadow(0px 1px 2px rgba(0, 0, 0, 0.3));\n",
       "      fill: #FFFFFF;\n",
       "    }\n",
       "  </style>\n",
       "\n",
       "      <script>\n",
       "        const buttonEl =\n",
       "          document.querySelector('#df-7452b67a-d995-4bbf-8ad5-f4e24ded8190 button.colab-df-convert');\n",
       "        buttonEl.style.display =\n",
       "          google.colab.kernel.accessAllowed ? 'block' : 'none';\n",
       "\n",
       "        async function convertToInteractive(key) {\n",
       "          const element = document.querySelector('#df-7452b67a-d995-4bbf-8ad5-f4e24ded8190');\n",
       "          const dataTable =\n",
       "            await google.colab.kernel.invokeFunction('convertToInteractive',\n",
       "                                                     [key], {});\n",
       "          if (!dataTable) return;\n",
       "\n",
       "          const docLinkHtml = 'Like what you see? Visit the ' +\n",
       "            '<a target=\"_blank\" href=https://colab.research.google.com/notebooks/data_table.ipynb>data table notebook</a>'\n",
       "            + ' to learn more about interactive tables.';\n",
       "          element.innerHTML = '';\n",
       "          dataTable['output_type'] = 'display_data';\n",
       "          await google.colab.output.renderOutput(dataTable, element);\n",
       "          const docLink = document.createElement('div');\n",
       "          docLink.innerHTML = docLinkHtml;\n",
       "          element.appendChild(docLink);\n",
       "        }\n",
       "      </script>\n",
       "    </div>\n",
       "  </div>\n",
       "  "
      ],
      "text/plain": [
       "              basho  day  r1_id  r2_id   r1_height  r1_weight  r1_prev_w  \\\n",
       "83276   1997.069946    4     57     25  189.000000      191.0        7.0   \n",
       "121299  2004.050049   12    287    222  176.000000      140.0        8.0   \n",
       "16837   1986.010010    5   1362   4139  188.399994      131.0        6.0   \n",
       "174229  2013.030029   15   6770   6010  184.000000      186.0        8.0   \n",
       "92616   1999.030029    6    145     43  182.500000      121.5        9.0   \n",
       "\n",
       "        r1_prev_l   r2_height  r2_weight  r2_prev_w  r2_prev_l  r1_win  \\\n",
       "83276         8.0  178.000000      127.0        6.0        9.0       0   \n",
       "121299        7.0  177.000000      145.0        8.0        7.0       1   \n",
       "16837         9.0  174.000000      120.0        7.0        8.0       1   \n",
       "174229        7.0  182.000000      182.0        4.0       11.0       0   \n",
       "92616         6.0  183.600006      149.5        4.0       11.0       1   \n",
       "\n",
       "        prediction_label  prediction_score  \n",
       "83276                  1            0.5096  \n",
       "121299                 0            0.5032  \n",
       "16837                  1            0.5252  \n",
       "174229                 0            0.5653  \n",
       "92616                  0            0.5456  "
      ]
     },
     "execution_count": 35,
     "metadata": {},
     "output_type": "execute_result"
    }
   ],
   "source": [
    "# show predictions df\n",
    "pred.head()"
   ]
  },
  {
   "cell_type": "markdown",
   "metadata": {
    "id": "Wj2JJ-qiM55v"
   },
   "source": [
    "### Save the model"
   ]
  },
  {
   "cell_type": "code",
   "execution_count": 36,
   "metadata": {
    "colab": {
     "base_uri": "https://localhost:8080/"
    },
    "id": "tK4fBkNdM6Zj",
    "outputId": "06af7d5f-cab1-42e6-ee2b-075bcfd030f6"
   },
   "outputs": [
    {
     "name": "stdout",
     "output_type": "stream",
     "text": [
      "Transformation Pipeline and Model Successfully Saved\n"
     ]
    },
    {
     "data": {
      "text/plain": [
       "(Pipeline(memory=FastMemory(location=/tmp/joblib),\n",
       "          steps=[('numerical_imputer',\n",
       "                  TransformerWrapper(exclude=None,\n",
       "                                     include=['basho', 'day', 'r1_id', 'r2_id',\n",
       "                                              'r1_height', 'r1_weight',\n",
       "                                              'r1_prev_w', 'r1_prev_l',\n",
       "                                              'r2_height', 'r2_weight',\n",
       "                                              'r2_prev_w', 'r2_prev_l'],\n",
       "                                     transformer=SimpleImputer(add_indicator=False,\n",
       "                                                               copy=True,\n",
       "                                                               fill_value=None,\n",
       "                                                               keep_empty_features=False,\n",
       "                                                               missing...\n",
       "                                grow_policy=None, importance_type=None,\n",
       "                                interaction_constraints=None, learning_rate=None,\n",
       "                                max_bin=None, max_cat_threshold=None,\n",
       "                                max_cat_to_onehot=None, max_delta_step=None,\n",
       "                                max_depth=None, max_leaves=None,\n",
       "                                min_child_weight=None, missing=nan,\n",
       "                                monotone_constraints=None, n_estimators=100,\n",
       "                                n_jobs=-1, num_parallel_tree=None,\n",
       "                                objective='binary:logistic', predictor=None, ...))],\n",
       "          verbose=False),\n",
       " 'my_first_pipeline.pkl')"
      ]
     },
     "execution_count": 36,
     "metadata": {},
     "output_type": "execute_result"
    }
   ],
   "source": [
    "save_model(best, 'my_first_pipeline')"
   ]
  },
  {
   "cell_type": "markdown",
   "metadata": {},
   "source": [
    "### Evaluation"
   ]
  },
  {
   "cell_type": "markdown",
   "metadata": {},
   "source": [
    "Here are the scores and metrics for models using existing numeric data only: \n",
    "\n",
    "| Model | Description | Accuracy | AUC    | Recall | Prec.  | F1     | Kappa  | MCC    | TT (Sec) |\n",
    "|--|--|--|--|--|--|--|--|--|--|\n",
    "| xgboost | Extreme Gradient Boosting | 0.5713 | 0.6090 | 0.5757 | 0.5707 | 0.5732 | 0.1427 | 0.1427 | 17.4200 |\n",
    "| lightgbm | Light Gradient Boosting Machine | 0.5678 | 0.6045 | 0.5758 | 0.5667 | 0.5712 | 0.1356 | 0.1356 | 2.3570 |\n",
    "| gbc | Gradient Boosting Classifier | 0.5570 | 0.5877 | 0.5635 | 0.5563 | 0.5598 | 0.1140 | 0.1140 | 22.8280 |\n",
    "| rf | Random Forest Classifier | 0.5519 | 0.5788 | 0.5373 | 0.5534 | 0.5452 | 0.1037 | 0.1038 | 42.4100 |\n",
    "| ada | Ada Boost Classifier | 0.5478 | 0.5742 | 0.5468 | 0.5479 | 0.5473 | 0.0955 | 0.0955 | 5.8420 |\n",
    "| knn | K Neighbors Classifier | 0.5441 | 0.5621 | 0.5437 | 0.5441 | 0.5439 | 0.0881 | 0.0881 | 1.8620 |\n",
    "| et | Extra Trees Classifier | 0.5400 | 0.5627 | 0.5264 | 0.5411 | 0.5337 | 0.0800 | 0.0800 | 30.2730 |\n",
    "| qda | Quadratic Discriminant Analysis | 0.5334 | 0.5540 | 0.5438 | 0.5327 | 0.5381 | 0.0667 | 0.0667 | 0.3640 |\n",
    "| nb | Naive Bayes | 0.5315 | 0.5520 | 0.5362 | 0.5312 | 0.5337 | 0.0630 | 0.0630 | 0.1740 |\n",
    "| dt | Decision Tree Classifier | 0.5237 | 0.5237 | 0.5259 | 0.5235 | 0.5247 | 0.0473 | 0.0473 | 1.9230 |\n",
    "| ridge | Ridge Classifier | 0.5227 | 0.0000 | 0.5230 | 0.5227 | 0.5228 | 0.0454 | 0.0454 | 0.1860 |\n",
    "| lda | Linear Discriminant Analysis | 0.5227 | 0.5348 | 0.5230 | 0.5227 | 0.5228 | 0.0454 | 0.0454 | 0.4890 |\n",
    "| lr | Logistic Regression | 0.5220 | 0.5341 | 0.5217 | 0.5220 | 0.5218 | 0.0439 | 0.0439 | 1.5560 |\n",
    "| svm | SVM - Linear Kernel | 0.5018 | 0.0000 | 0.4077 | 0.5550 | 0.3954 | 0.0036 | 0.0056 | 8.76540 | \n",
    "| dummy | Dummy Classifier | 0.5000 | 0.5000 | 0.5000 | 0.2500 | 0.3333 | 0.0000 | 0.0000 | 0.1320 | "
   ]
  },
  {
   "cell_type": "markdown",
   "metadata": {},
   "source": [
    "The above table shows the evaluation metrics for various models that use existing numeric data only. The models are evaluated using acuracy, AUC, recall, precision, F1-score, Kappa, Matthews correlation coefficient (MCC) and training time (TT).\n",
    "\n",
    "While the baseline for model performance was 0.5, all models using the existing numeric data have an accuracy above the baseline. However, the highest accuracy achieved by Extreme Gradient Boosting was only 0.5713, indicating that the performance of all models performed only slightly better than random guessing.\n",
    "\n",
    "In next notebook (05-data-modeling-PyCaret_v2), we will develop models incorporating new features to see if they would improve model performance."
   ]
  },
  {
   "cell_type": "code",
   "execution_count": 37,
   "metadata": {
    "id": "Jh400_zEM5FA"
   },
   "outputs": [],
   "source": [
    "# Reference: https://pycaret.gitbook.io/docs/get-started/quickstart"
   ]
  }
 ],
 "metadata": {
  "accelerator": "GPU",
  "colab": {
   "gpuType": "T4",
   "provenance": []
  },
  "gpuClass": "standard",
  "kernelspec": {
   "display_name": "Python 3 (ipykernel)",
   "language": "python",
   "name": "python3"
  },
  "language_info": {
   "codemirror_mode": {
    "name": "ipython",
    "version": 3
   },
   "file_extension": ".py",
   "mimetype": "text/x-python",
   "name": "python",
   "nbconvert_exporter": "python",
   "pygments_lexer": "ipython3",
   "version": "3.9.13"
  },
  "widgets": {
   "application/vnd.jupyter.widget-state+json": {
    "404f0d4cd54a436da92fc3851bff316d": {
     "model_module": "@jupyter-widgets/controls",
     "model_module_version": "1.5.0",
     "model_name": "HTMLModel",
     "state": {
      "_dom_classes": [],
      "_model_module": "@jupyter-widgets/controls",
      "_model_module_version": "1.5.0",
      "_model_name": "HTMLModel",
      "_view_count": null,
      "_view_module": "@jupyter-widgets/controls",
      "_view_module_version": "1.5.0",
      "_view_name": "HTMLView",
      "description": "",
      "description_tooltip": null,
      "layout": "IPY_MODEL_8c7f82135373410d8149e3adc1662486",
      "placeholder": "​",
      "style": "IPY_MODEL_75dc81f73f6248d0b14c023578691842",
      "value": "Processing: 100%"
     }
    },
    "59efbac732cc4e56a71f7dbd2e641de2": {
     "model_module": "@jupyter-widgets/controls",
     "model_module_version": "1.5.0",
     "model_name": "ProgressStyleModel",
     "state": {
      "_model_module": "@jupyter-widgets/controls",
      "_model_module_version": "1.5.0",
      "_model_name": "ProgressStyleModel",
      "_view_count": null,
      "_view_module": "@jupyter-widgets/base",
      "_view_module_version": "1.2.0",
      "_view_name": "StyleView",
      "bar_color": null,
      "description_width": ""
     }
    },
    "5c6858617d934140baceb6ece9cf02af": {
     "model_module": "@jupyter-widgets/base",
     "model_module_version": "1.2.0",
     "model_name": "LayoutModel",
     "state": {
      "_model_module": "@jupyter-widgets/base",
      "_model_module_version": "1.2.0",
      "_model_name": "LayoutModel",
      "_view_count": null,
      "_view_module": "@jupyter-widgets/base",
      "_view_module_version": "1.2.0",
      "_view_name": "LayoutView",
      "align_content": null,
      "align_items": null,
      "align_self": null,
      "border": null,
      "bottom": null,
      "display": null,
      "flex": null,
      "flex_flow": null,
      "grid_area": null,
      "grid_auto_columns": null,
      "grid_auto_flow": null,
      "grid_auto_rows": null,
      "grid_column": null,
      "grid_gap": null,
      "grid_row": null,
      "grid_template_areas": null,
      "grid_template_columns": null,
      "grid_template_rows": null,
      "height": null,
      "justify_content": null,
      "justify_items": null,
      "left": null,
      "margin": null,
      "max_height": null,
      "max_width": null,
      "min_height": null,
      "min_width": null,
      "object_fit": null,
      "object_position": null,
      "order": null,
      "overflow": null,
      "overflow_x": null,
      "overflow_y": null,
      "padding": null,
      "right": null,
      "top": null,
      "visibility": "hidden",
      "width": null
     }
    },
    "75dc81f73f6248d0b14c023578691842": {
     "model_module": "@jupyter-widgets/controls",
     "model_module_version": "1.5.0",
     "model_name": "DescriptionStyleModel",
     "state": {
      "_model_module": "@jupyter-widgets/controls",
      "_model_module_version": "1.5.0",
      "_model_name": "DescriptionStyleModel",
      "_view_count": null,
      "_view_module": "@jupyter-widgets/base",
      "_view_module_version": "1.2.0",
      "_view_name": "StyleView",
      "description_width": ""
     }
    },
    "7cc1950be0614e67aa2d9d9efb00f79e": {
     "model_module": "@jupyter-widgets/controls",
     "model_module_version": "1.5.0",
     "model_name": "DescriptionStyleModel",
     "state": {
      "_model_module": "@jupyter-widgets/controls",
      "_model_module_version": "1.5.0",
      "_model_name": "DescriptionStyleModel",
      "_view_count": null,
      "_view_module": "@jupyter-widgets/base",
      "_view_module_version": "1.2.0",
      "_view_name": "StyleView",
      "description_width": ""
     }
    },
    "80a03c278c3544dfaf5332f58a7f0af9": {
     "model_module": "@jupyter-widgets/controls",
     "model_module_version": "1.5.0",
     "model_name": "HTMLModel",
     "state": {
      "_dom_classes": [],
      "_model_module": "@jupyter-widgets/controls",
      "_model_module_version": "1.5.0",
      "_model_name": "HTMLModel",
      "_view_count": null,
      "_view_module": "@jupyter-widgets/controls",
      "_view_module_version": "1.5.0",
      "_view_name": "HTMLView",
      "description": "",
      "description_tooltip": null,
      "layout": "IPY_MODEL_dda4f2e1085747a4af74e234addfa400",
      "placeholder": "​",
      "style": "IPY_MODEL_7cc1950be0614e67aa2d9d9efb00f79e",
      "value": " 65/65 [23:14&lt;00:00, 11.03s/it]"
     }
    },
    "8c7f82135373410d8149e3adc1662486": {
     "model_module": "@jupyter-widgets/base",
     "model_module_version": "1.2.0",
     "model_name": "LayoutModel",
     "state": {
      "_model_module": "@jupyter-widgets/base",
      "_model_module_version": "1.2.0",
      "_model_name": "LayoutModel",
      "_view_count": null,
      "_view_module": "@jupyter-widgets/base",
      "_view_module_version": "1.2.0",
      "_view_name": "LayoutView",
      "align_content": null,
      "align_items": null,
      "align_self": null,
      "border": null,
      "bottom": null,
      "display": null,
      "flex": null,
      "flex_flow": null,
      "grid_area": null,
      "grid_auto_columns": null,
      "grid_auto_flow": null,
      "grid_auto_rows": null,
      "grid_column": null,
      "grid_gap": null,
      "grid_row": null,
      "grid_template_areas": null,
      "grid_template_columns": null,
      "grid_template_rows": null,
      "height": null,
      "justify_content": null,
      "justify_items": null,
      "left": null,
      "margin": null,
      "max_height": null,
      "max_width": null,
      "min_height": null,
      "min_width": null,
      "object_fit": null,
      "object_position": null,
      "order": null,
      "overflow": null,
      "overflow_x": null,
      "overflow_y": null,
      "padding": null,
      "right": null,
      "top": null,
      "visibility": null,
      "width": null
     }
    },
    "a84ef931125e44eeba2524aaac372859": {
     "model_module": "@jupyter-widgets/base",
     "model_module_version": "1.2.0",
     "model_name": "LayoutModel",
     "state": {
      "_model_module": "@jupyter-widgets/base",
      "_model_module_version": "1.2.0",
      "_model_name": "LayoutModel",
      "_view_count": null,
      "_view_module": "@jupyter-widgets/base",
      "_view_module_version": "1.2.0",
      "_view_name": "LayoutView",
      "align_content": null,
      "align_items": null,
      "align_self": null,
      "border": null,
      "bottom": null,
      "display": null,
      "flex": null,
      "flex_flow": null,
      "grid_area": null,
      "grid_auto_columns": null,
      "grid_auto_flow": null,
      "grid_auto_rows": null,
      "grid_column": null,
      "grid_gap": null,
      "grid_row": null,
      "grid_template_areas": null,
      "grid_template_columns": null,
      "grid_template_rows": null,
      "height": null,
      "justify_content": null,
      "justify_items": null,
      "left": null,
      "margin": null,
      "max_height": null,
      "max_width": null,
      "min_height": null,
      "min_width": null,
      "object_fit": null,
      "object_position": null,
      "order": null,
      "overflow": null,
      "overflow_x": null,
      "overflow_y": null,
      "padding": null,
      "right": null,
      "top": null,
      "visibility": null,
      "width": null
     }
    },
    "b30b29b4ace74e58bf76b891b2fe100b": {
     "model_module": "@jupyter-widgets/controls",
     "model_module_version": "1.5.0",
     "model_name": "FloatProgressModel",
     "state": {
      "_dom_classes": [],
      "_model_module": "@jupyter-widgets/controls",
      "_model_module_version": "1.5.0",
      "_model_name": "FloatProgressModel",
      "_view_count": null,
      "_view_module": "@jupyter-widgets/controls",
      "_view_module_version": "1.5.0",
      "_view_name": "ProgressView",
      "bar_style": "",
      "description": "",
      "description_tooltip": null,
      "layout": "IPY_MODEL_a84ef931125e44eeba2524aaac372859",
      "max": 65,
      "min": 0,
      "orientation": "horizontal",
      "style": "IPY_MODEL_59efbac732cc4e56a71f7dbd2e641de2",
      "value": 65
     }
    },
    "b7eabaa5bb1049269060ecc5e48ed8a0": {
     "model_module": "@jupyter-widgets/controls",
     "model_module_version": "1.5.0",
     "model_name": "HBoxModel",
     "state": {
      "_dom_classes": [],
      "_model_module": "@jupyter-widgets/controls",
      "_model_module_version": "1.5.0",
      "_model_name": "HBoxModel",
      "_view_count": null,
      "_view_module": "@jupyter-widgets/controls",
      "_view_module_version": "1.5.0",
      "_view_name": "HBoxView",
      "box_style": "",
      "children": [
       "IPY_MODEL_404f0d4cd54a436da92fc3851bff316d",
       "IPY_MODEL_b30b29b4ace74e58bf76b891b2fe100b",
       "IPY_MODEL_80a03c278c3544dfaf5332f58a7f0af9"
      ],
      "layout": "IPY_MODEL_5c6858617d934140baceb6ece9cf02af"
     }
    },
    "dda4f2e1085747a4af74e234addfa400": {
     "model_module": "@jupyter-widgets/base",
     "model_module_version": "1.2.0",
     "model_name": "LayoutModel",
     "state": {
      "_model_module": "@jupyter-widgets/base",
      "_model_module_version": "1.2.0",
      "_model_name": "LayoutModel",
      "_view_count": null,
      "_view_module": "@jupyter-widgets/base",
      "_view_module_version": "1.2.0",
      "_view_name": "LayoutView",
      "align_content": null,
      "align_items": null,
      "align_self": null,
      "border": null,
      "bottom": null,
      "display": null,
      "flex": null,
      "flex_flow": null,
      "grid_area": null,
      "grid_auto_columns": null,
      "grid_auto_flow": null,
      "grid_auto_rows": null,
      "grid_column": null,
      "grid_gap": null,
      "grid_row": null,
      "grid_template_areas": null,
      "grid_template_columns": null,
      "grid_template_rows": null,
      "height": null,
      "justify_content": null,
      "justify_items": null,
      "left": null,
      "margin": null,
      "max_height": null,
      "max_width": null,
      "min_height": null,
      "min_width": null,
      "object_fit": null,
      "object_position": null,
      "order": null,
      "overflow": null,
      "overflow_x": null,
      "overflow_y": null,
      "padding": null,
      "right": null,
      "top": null,
      "visibility": null,
      "width": null
     }
    }
   }
  }
 },
 "nbformat": 4,
 "nbformat_minor": 1
}
