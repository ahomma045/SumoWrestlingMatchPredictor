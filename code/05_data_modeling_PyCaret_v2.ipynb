{
 "cells": [
  {
   "cell_type": "markdown",
   "metadata": {},
   "source": [
    "# Sumo Wrestling Match Prediction\n",
    "\n",
    "## Data Modeling Using PyCaret - incorporating new features (5/5)"
   ]
  },
  {
   "cell_type": "markdown",
   "metadata": {},
   "source": [
    "## Contents: \n",
    "- [Install PyCaret](#Install-PyCaret)\n",
    "- [Setup](#Setup)\n",
    "- [Compare Models](#Compare-Models)\n",
    "- [Tune Model](#Tune-Model)\n",
    "- [Ensemble Model](#Ensemble-Model)\n",
    "- [Bagging](#Bagging)\n",
    "- [Analyze Model](#Analyze-Model)\n",
    "- [Predictions](#Predictions)\n",
    "- [Save the model](#Save-the-model)\n",
    "- [Evaluation](#Evaluation)"
   ]
  },
  {
   "cell_type": "markdown",
   "metadata": {},
   "source": [
    "We use PyCaret, an open-source machine learning library in Python that automates machine learning workflows with minimal coding required. PyCaret allowed us to spend less time coding and more time analyzing data, by automating many of the repetitive tasks involved in the modeling process. Using PyCaret, we developed and tested a variety of different models.\n",
    "\n",
    "We started by developing classification models using the existing numeric data to see how they performed before any feature engineering was done. Once we had a benchmark, we developed models incorporating new features created as part of our feature engineering process. This allowed us to see how these new features impacted the performance of our models, and whether they improved the ability to predict the outcome of matches."
   ]
  },
  {
   "cell_type": "markdown",
   "metadata": {
    "id": "rk3VquIrMQbu"
   },
   "source": [
    "### Install PyCaret"
   ]
  },
  {
   "cell_type": "code",
   "execution_count": 1,
   "metadata": {
    "colab": {
     "base_uri": "https://localhost:8080/"
    },
    "id": "rTlpw5RxkiLL",
    "outputId": "151fd4b3-21cb-460b-f2e1-cf90a49ce772"
   },
   "outputs": [
    {
     "name": "stdout",
     "output_type": "stream",
     "text": [
      "Looking in indexes: https://pypi.org/simple, https://us-python.pkg.dev/colab-wheels/public/simple/\n",
      "Collecting pycaret\n",
      "  Downloading pycaret-3.0.0-py3-none-any.whl (481 kB)\n",
      "\u001b[2K     \u001b[90m━━━━━━━━━━━━━━━━━━━━━━━━━━━━━━━━━━━━━━━\u001b[0m \u001b[32m481.8/481.8 kB\u001b[0m \u001b[31m5.1 MB/s\u001b[0m eta \u001b[36m0:00:00\u001b[0m\n",
      "\u001b[?25hCollecting deprecation>=2.1.0\n",
      "  Downloading deprecation-2.1.0-py2.py3-none-any.whl (11 kB)\n",
      "Collecting tbats>=1.1.0\n",
      "  Downloading tbats-1.1.2-py3-none-any.whl (43 kB)\n",
      "\u001b[2K     \u001b[90m━━━━━━━━━━━━━━━━━━━━━━━━━━━━━━━━━━━━━━━━\u001b[0m \u001b[32m43.8/43.8 kB\u001b[0m \u001b[31m2.0 MB/s\u001b[0m eta \u001b[36m0:00:00\u001b[0m\n",
      "\u001b[?25hRequirement already satisfied: ipywidgets>=7.6.5 in /usr/local/lib/python3.9/dist-packages (from pycaret) (7.7.1)\n",
      "Requirement already satisfied: requests>=2.27.1 in /usr/local/lib/python3.9/dist-packages (from pycaret) (2.27.1)\n",
      "Collecting pmdarima!=1.8.1,<3.0.0,>=1.8.0\n",
      "  Downloading pmdarima-2.0.3-cp39-cp39-manylinux_2_17_x86_64.manylinux2014_x86_64.manylinux_2_28_x86_64.whl (1.9 MB)\n",
      "\u001b[2K     \u001b[90m━━━━━━━━━━━━━━━━━━━━━━━━━━━━━━━━━━━━━━━━\u001b[0m \u001b[32m1.9/1.9 MB\u001b[0m \u001b[31m14.4 MB/s\u001b[0m eta \u001b[36m0:00:00\u001b[0m\n",
      "\u001b[?25hCollecting sktime>=0.16.1\n",
      "  Downloading sktime-0.17.1-py3-none-any.whl (16.1 MB)\n",
      "\u001b[2K     \u001b[90m━━━━━━━━━━━━━━━━━━━━━━━━━━━━━━━━━━━━━━━━\u001b[0m \u001b[32m16.1/16.1 MB\u001b[0m \u001b[31m19.9 MB/s\u001b[0m eta \u001b[36m0:00:00\u001b[0m\n",
      "\u001b[?25hRequirement already satisfied: nbformat>=4.2.0 in /usr/local/lib/python3.9/dist-packages (from pycaret) (5.8.0)\n",
      "Requirement already satisfied: matplotlib>=3.3.0 in /usr/local/lib/python3.9/dist-packages (from pycaret) (3.7.1)\n",
      "Requirement already satisfied: psutil>=5.9.0 in /usr/local/lib/python3.9/dist-packages (from pycaret) (5.9.4)\n",
      "Collecting pyod>=1.0.8\n",
      "  Downloading pyod-1.0.9.tar.gz (149 kB)\n",
      "\u001b[2K     \u001b[90m━━━━━━━━━━━━━━━━━━━━━━━━━━━━━━━━━━━━━━━\u001b[0m \u001b[32m150.0/150.0 kB\u001b[0m \u001b[31m9.0 MB/s\u001b[0m eta \u001b[36m0:00:00\u001b[0m\n",
      "\u001b[?25h  Preparing metadata (setup.py) ... \u001b[?25l\u001b[?25hdone\n",
      "Requirement already satisfied: jinja2>=1.2 in /usr/local/lib/python3.9/dist-packages (from pycaret) (3.1.2)\n",
      "Requirement already satisfied: pandas<1.6.0,>=1.3.0 in /usr/local/lib/python3.9/dist-packages (from pycaret) (1.5.3)\n",
      "Requirement already satisfied: numba>=0.55.0 in /usr/local/lib/python3.9/dist-packages (from pycaret) (0.56.4)\n",
      "Requirement already satisfied: ipython>=5.5.0 in /usr/local/lib/python3.9/dist-packages (from pycaret) (7.34.0)\n",
      "Collecting xxhash\n",
      "  Downloading xxhash-3.2.0-cp39-cp39-manylinux_2_17_x86_64.manylinux2014_x86_64.whl (212 kB)\n",
      "\u001b[2K     \u001b[90m━━━━━━━━━━━━━━━━━━━━━━━━━━━━━━━━━━━━━━━\u001b[0m \u001b[32m212.2/212.2 kB\u001b[0m \u001b[31m7.2 MB/s\u001b[0m eta \u001b[36m0:00:00\u001b[0m\n",
      "\u001b[?25hRequirement already satisfied: yellowbrick>=1.4 in /usr/local/lib/python3.9/dist-packages (from pycaret) (1.5)\n",
      "Collecting scikit-plot>=0.3.7\n",
      "  Downloading scikit_plot-0.3.7-py3-none-any.whl (33 kB)\n",
      "Collecting category-encoders>=2.4.0\n",
      "  Downloading category_encoders-2.6.0-py2.py3-none-any.whl (81 kB)\n",
      "\u001b[2K     \u001b[90m━━━━━━━━━━━━━━━━━━━━━━━━━━━━━━━━━━━━━━━━\u001b[0m \u001b[32m81.2/81.2 kB\u001b[0m \u001b[31m1.8 MB/s\u001b[0m eta \u001b[36m0:00:00\u001b[0m\n",
      "\u001b[?25hCollecting wurlitzer\n",
      "  Downloading wurlitzer-3.0.3-py3-none-any.whl (7.3 kB)\n",
      "Requirement already satisfied: numpy<1.25,>=1.21 in /usr/local/lib/python3.9/dist-packages (from pycaret) (1.22.4)\n",
      "Requirement already satisfied: markupsafe>=2.0.1 in /usr/local/lib/python3.9/dist-packages (from pycaret) (2.1.2)\n",
      "Requirement already satisfied: statsmodels>=0.12.1 in /usr/local/lib/python3.9/dist-packages (from pycaret) (0.13.5)\n",
      "Requirement already satisfied: imbalanced-learn>=0.8.1 in /usr/local/lib/python3.9/dist-packages (from pycaret) (0.10.1)\n",
      "Requirement already satisfied: scikit-learn>=1.0 in /usr/local/lib/python3.9/dist-packages (from pycaret) (1.2.2)\n",
      "Collecting plotly-resampler>=0.8.3.1\n",
      "  Downloading plotly_resampler-0.8.3.2.tar.gz (46 kB)\n",
      "\u001b[2K     \u001b[90m━━━━━━━━━━━━━━━━━━━━━━━━━━━━━━━━━━━━━━━━\u001b[0m \u001b[32m46.4/46.4 kB\u001b[0m \u001b[31m2.3 MB/s\u001b[0m eta \u001b[36m0:00:00\u001b[0m\n",
      "\u001b[?25h  Installing build dependencies ... \u001b[?25l\u001b[?25hdone\n",
      "  Getting requirements to build wheel ... \u001b[?25l\u001b[?25hdone\n",
      "  Preparing metadata (pyproject.toml) ... \u001b[?25l\u001b[?25hdone\n",
      "Requirement already satisfied: plotly>=5.0.0 in /usr/local/lib/python3.9/dist-packages (from pycaret) (5.13.1)\n",
      "Requirement already satisfied: lightgbm>=3.0.0 in /usr/local/lib/python3.9/dist-packages (from pycaret) (3.3.5)\n",
      "Collecting kaleido>=0.2.1\n",
      "  Downloading kaleido-0.2.1-py2.py3-none-manylinux1_x86_64.whl (79.9 MB)\n",
      "\u001b[2K     \u001b[90m━━━━━━━━━━━━━━━━━━━━━━━━━━━━━━━━━━━━━━━━\u001b[0m \u001b[32m79.9/79.9 MB\u001b[0m \u001b[31m12.1 MB/s\u001b[0m eta \u001b[36m0:00:00\u001b[0m\n",
      "\u001b[?25hRequirement already satisfied: scipy<2.0.0 in /usr/local/lib/python3.9/dist-packages (from pycaret) (1.10.1)\n",
      "Requirement already satisfied: cloudpickle in /usr/local/lib/python3.9/dist-packages (from pycaret) (2.2.1)\n",
      "Requirement already satisfied: joblib>=1.2.0 in /usr/local/lib/python3.9/dist-packages (from pycaret) (1.2.0)\n",
      "Requirement already satisfied: importlib-metadata>=4.12.0 in /usr/local/lib/python3.9/dist-packages (from pycaret) (6.3.0)\n",
      "Requirement already satisfied: tqdm>=4.62.0 in /usr/local/lib/python3.9/dist-packages (from pycaret) (4.65.0)\n",
      "Collecting schemdraw>=0.14\n",
      "  Downloading schemdraw-0.16-py3-none-any.whl (105 kB)\n",
      "\u001b[2K     \u001b[90m━━━━━━━━━━━━━━━━━━━━━━━━━━━━━━━━━━━━━━\u001b[0m \u001b[32m105.8/105.8 kB\u001b[0m \u001b[31m13.6 MB/s\u001b[0m eta \u001b[36m0:00:00\u001b[0m\n",
      "\u001b[?25hRequirement already satisfied: patsy>=0.5.1 in /usr/local/lib/python3.9/dist-packages (from category-encoders>=2.4.0->pycaret) (0.5.3)\n",
      "Requirement already satisfied: packaging in /usr/local/lib/python3.9/dist-packages (from deprecation>=2.1.0->pycaret) (23.0)\n",
      "Requirement already satisfied: threadpoolctl>=2.0.0 in /usr/local/lib/python3.9/dist-packages (from imbalanced-learn>=0.8.1->pycaret) (3.1.0)\n",
      "Requirement already satisfied: zipp>=0.5 in /usr/local/lib/python3.9/dist-packages (from importlib-metadata>=4.12.0->pycaret) (3.15.0)\n",
      "Requirement already satisfied: pickleshare in /usr/local/lib/python3.9/dist-packages (from ipython>=5.5.0->pycaret) (0.7.5)\n",
      "Requirement already satisfied: traitlets>=4.2 in /usr/local/lib/python3.9/dist-packages (from ipython>=5.5.0->pycaret) (5.7.1)\n",
      "Requirement already satisfied: matplotlib-inline in /usr/local/lib/python3.9/dist-packages (from ipython>=5.5.0->pycaret) (0.1.6)\n",
      "Requirement already satisfied: setuptools>=18.5 in /usr/local/lib/python3.9/dist-packages (from ipython>=5.5.0->pycaret) (67.6.1)\n",
      "Collecting jedi>=0.16\n",
      "  Downloading jedi-0.18.2-py2.py3-none-any.whl (1.6 MB)\n",
      "\u001b[2K     \u001b[90m━━━━━━━━━━━━━━━━━━━━━━━━━━━━━━━━━━━━━━━━\u001b[0m \u001b[32m1.6/1.6 MB\u001b[0m \u001b[31m75.7 MB/s\u001b[0m eta \u001b[36m0:00:00\u001b[0m\n",
      "\u001b[?25hRequirement already satisfied: pygments in /usr/local/lib/python3.9/dist-packages (from ipython>=5.5.0->pycaret) (2.14.0)\n",
      "Requirement already satisfied: pexpect>4.3 in /usr/local/lib/python3.9/dist-packages (from ipython>=5.5.0->pycaret) (4.8.0)\n",
      "Requirement already satisfied: prompt-toolkit!=3.0.0,!=3.0.1,<3.1.0,>=2.0.0 in /usr/local/lib/python3.9/dist-packages (from ipython>=5.5.0->pycaret) (3.0.38)\n",
      "Requirement already satisfied: backcall in /usr/local/lib/python3.9/dist-packages (from ipython>=5.5.0->pycaret) (0.2.0)\n",
      "Requirement already satisfied: decorator in /usr/local/lib/python3.9/dist-packages (from ipython>=5.5.0->pycaret) (4.4.2)\n",
      "Requirement already satisfied: widgetsnbextension~=3.6.0 in /usr/local/lib/python3.9/dist-packages (from ipywidgets>=7.6.5->pycaret) (3.6.4)\n",
      "Requirement already satisfied: ipykernel>=4.5.1 in /usr/local/lib/python3.9/dist-packages (from ipywidgets>=7.6.5->pycaret) (5.5.6)\n",
      "Requirement already satisfied: jupyterlab-widgets>=1.0.0 in /usr/local/lib/python3.9/dist-packages (from ipywidgets>=7.6.5->pycaret) (3.0.7)\n",
      "Requirement already satisfied: ipython-genutils~=0.2.0 in /usr/local/lib/python3.9/dist-packages (from ipywidgets>=7.6.5->pycaret) (0.2.0)\n",
      "Requirement already satisfied: wheel in /usr/local/lib/python3.9/dist-packages (from lightgbm>=3.0.0->pycaret) (0.40.0)\n",
      "Requirement already satisfied: pyparsing>=2.3.1 in /usr/local/lib/python3.9/dist-packages (from matplotlib>=3.3.0->pycaret) (3.0.9)\n",
      "Requirement already satisfied: importlib-resources>=3.2.0 in /usr/local/lib/python3.9/dist-packages (from matplotlib>=3.3.0->pycaret) (5.12.0)\n",
      "Requirement already satisfied: pillow>=6.2.0 in /usr/local/lib/python3.9/dist-packages (from matplotlib>=3.3.0->pycaret) (8.4.0)\n",
      "Requirement already satisfied: kiwisolver>=1.0.1 in /usr/local/lib/python3.9/dist-packages (from matplotlib>=3.3.0->pycaret) (1.4.4)\n",
      "Requirement already satisfied: fonttools>=4.22.0 in /usr/local/lib/python3.9/dist-packages (from matplotlib>=3.3.0->pycaret) (4.39.3)\n",
      "Requirement already satisfied: contourpy>=1.0.1 in /usr/local/lib/python3.9/dist-packages (from matplotlib>=3.3.0->pycaret) (1.0.7)\n",
      "Requirement already satisfied: python-dateutil>=2.7 in /usr/local/lib/python3.9/dist-packages (from matplotlib>=3.3.0->pycaret) (2.8.2)\n",
      "Requirement already satisfied: cycler>=0.10 in /usr/local/lib/python3.9/dist-packages (from matplotlib>=3.3.0->pycaret) (0.11.0)\n",
      "Requirement already satisfied: fastjsonschema in /usr/local/lib/python3.9/dist-packages (from nbformat>=4.2.0->pycaret) (2.16.3)\n",
      "Requirement already satisfied: jupyter-core in /usr/local/lib/python3.9/dist-packages (from nbformat>=4.2.0->pycaret) (5.3.0)\n",
      "Requirement already satisfied: jsonschema>=2.6 in /usr/local/lib/python3.9/dist-packages (from nbformat>=4.2.0->pycaret) (4.3.3)\n",
      "Requirement already satisfied: llvmlite<0.40,>=0.39.0dev0 in /usr/local/lib/python3.9/dist-packages (from numba>=0.55.0->pycaret) (0.39.1)\n",
      "Requirement already satisfied: pytz>=2020.1 in /usr/local/lib/python3.9/dist-packages (from pandas<1.6.0,>=1.3.0->pycaret) (2022.7.1)\n",
      "Requirement already satisfied: tenacity>=6.2.0 in /usr/local/lib/python3.9/dist-packages (from plotly>=5.0.0->pycaret) (8.2.2)\n",
      "Collecting dash<3.0.0,>=2.2.0\n",
      "  Downloading dash-2.9.3-py3-none-any.whl (10.2 MB)\n",
      "\u001b[2K     \u001b[90m━━━━━━━━━━━━━━━━━━━━━━━━━━━━━━━━━━━━━━━━\u001b[0m \u001b[32m10.2/10.2 MB\u001b[0m \u001b[31m91.4 MB/s\u001b[0m eta \u001b[36m0:00:00\u001b[0m\n",
      "\u001b[?25hCollecting orjson<4.0.0,>=3.8.0\n",
      "  Downloading orjson-3.8.10-cp39-cp39-manylinux_2_28_x86_64.whl (140 kB)\n",
      "\u001b[2K     \u001b[90m━━━━━━━━━━━━━━━━━━━━━━━━━━━━━━━━━━━━━━\u001b[0m \u001b[32m140.5/140.5 kB\u001b[0m \u001b[31m17.4 MB/s\u001b[0m eta \u001b[36m0:00:00\u001b[0m\n",
      "\u001b[?25hCollecting jupyter-dash>=0.4.2\n",
      "  Downloading jupyter_dash-0.4.2-py3-none-any.whl (23 kB)\n",
      "Collecting trace-updater>=0.0.8\n",
      "  Downloading trace_updater-0.0.9.1-py3-none-any.whl (185 kB)\n",
      "\u001b[2K     \u001b[90m━━━━━━━━━━━━━━━━━━━━━━━━━━━━━━━━━━━━━━\u001b[0m \u001b[32m185.2/185.2 kB\u001b[0m \u001b[31m19.4 MB/s\u001b[0m eta \u001b[36m0:00:00\u001b[0m\n",
      "\u001b[?25hRequirement already satisfied: Cython!=0.29.18,!=0.29.31,>=0.29 in /usr/local/lib/python3.9/dist-packages (from pmdarima!=1.8.1,<3.0.0,>=1.8.0->pycaret) (0.29.34)\n",
      "Requirement already satisfied: urllib3 in /usr/local/lib/python3.9/dist-packages (from pmdarima!=1.8.1,<3.0.0,>=1.8.0->pycaret) (1.26.15)\n",
      "Requirement already satisfied: six in /usr/local/lib/python3.9/dist-packages (from pyod>=1.0.8->pycaret) (1.16.0)\n",
      "Requirement already satisfied: certifi>=2017.4.17 in /usr/local/lib/python3.9/dist-packages (from requests>=2.27.1->pycaret) (2022.12.7)\n",
      "Requirement already satisfied: charset-normalizer~=2.0.0 in /usr/local/lib/python3.9/dist-packages (from requests>=2.27.1->pycaret) (2.0.12)\n",
      "Requirement already satisfied: idna<4,>=2.5 in /usr/local/lib/python3.9/dist-packages (from requests>=2.27.1->pycaret) (3.4)\n",
      "Collecting deprecated>=1.2.13\n",
      "  Downloading Deprecated-1.2.13-py2.py3-none-any.whl (9.6 kB)\n",
      "Requirement already satisfied: Flask>=1.0.4 in /usr/local/lib/python3.9/dist-packages (from dash<3.0.0,>=2.2.0->plotly-resampler>=0.8.3.1->pycaret) (2.2.3)\n",
      "Collecting dash-table==5.0.0\n",
      "  Downloading dash_table-5.0.0-py3-none-any.whl (3.9 kB)\n",
      "Collecting dash-html-components==2.0.0\n",
      "  Downloading dash_html_components-2.0.0-py3-none-any.whl (4.1 kB)\n",
      "Collecting dash-core-components==2.0.0\n",
      "  Downloading dash_core_components-2.0.0-py3-none-any.whl (3.8 kB)\n",
      "Requirement already satisfied: wrapt<2,>=1.10 in /usr/local/lib/python3.9/dist-packages (from deprecated>=1.2.13->sktime>=0.16.1->pycaret) (1.14.1)\n",
      "Requirement already satisfied: jupyter-client in /usr/local/lib/python3.9/dist-packages (from ipykernel>=4.5.1->ipywidgets>=7.6.5->pycaret) (6.1.12)\n",
      "Requirement already satisfied: tornado>=4.2 in /usr/local/lib/python3.9/dist-packages (from ipykernel>=4.5.1->ipywidgets>=7.6.5->pycaret) (6.2)\n",
      "Requirement already satisfied: parso<0.9.0,>=0.8.0 in /usr/local/lib/python3.9/dist-packages (from jedi>=0.16->ipython>=5.5.0->pycaret) (0.8.3)\n",
      "Requirement already satisfied: pyrsistent!=0.17.0,!=0.17.1,!=0.17.2,>=0.14.0 in /usr/local/lib/python3.9/dist-packages (from jsonschema>=2.6->nbformat>=4.2.0->pycaret) (0.19.3)\n",
      "Requirement already satisfied: attrs>=17.4.0 in /usr/local/lib/python3.9/dist-packages (from jsonschema>=2.6->nbformat>=4.2.0->pycaret) (22.2.0)\n",
      "Collecting ansi2html\n",
      "  Downloading ansi2html-1.8.0-py3-none-any.whl (16 kB)\n",
      "Requirement already satisfied: nest-asyncio in /usr/local/lib/python3.9/dist-packages (from jupyter-dash>=0.4.2->plotly-resampler>=0.8.3.1->pycaret) (1.5.6)\n",
      "Collecting retrying\n",
      "  Downloading retrying-1.3.4-py3-none-any.whl (11 kB)\n",
      "Requirement already satisfied: ptyprocess>=0.5 in /usr/local/lib/python3.9/dist-packages (from pexpect>4.3->ipython>=5.5.0->pycaret) (0.7.0)\n",
      "Requirement already satisfied: wcwidth in /usr/local/lib/python3.9/dist-packages (from prompt-toolkit!=3.0.0,!=3.0.1,<3.1.0,>=2.0.0->ipython>=5.5.0->pycaret) (0.2.6)\n",
      "Requirement already satisfied: notebook>=4.4.1 in /usr/local/lib/python3.9/dist-packages (from widgetsnbextension~=3.6.0->ipywidgets>=7.6.5->pycaret) (6.4.8)\n",
      "Requirement already satisfied: platformdirs>=2.5 in /usr/local/lib/python3.9/dist-packages (from jupyter-core->nbformat>=4.2.0->pycaret) (3.2.0)\n",
      "Requirement already satisfied: click>=8.0 in /usr/local/lib/python3.9/dist-packages (from Flask>=1.0.4->dash<3.0.0,>=2.2.0->plotly-resampler>=0.8.3.1->pycaret) (8.1.3)\n",
      "Requirement already satisfied: Werkzeug>=2.2.2 in /usr/local/lib/python3.9/dist-packages (from Flask>=1.0.4->dash<3.0.0,>=2.2.0->plotly-resampler>=0.8.3.1->pycaret) (2.2.3)\n",
      "Requirement already satisfied: itsdangerous>=2.0 in /usr/local/lib/python3.9/dist-packages (from Flask>=1.0.4->dash<3.0.0,>=2.2.0->plotly-resampler>=0.8.3.1->pycaret) (2.1.2)\n",
      "Requirement already satisfied: prometheus-client in /usr/local/lib/python3.9/dist-packages (from notebook>=4.4.1->widgetsnbextension~=3.6.0->ipywidgets>=7.6.5->pycaret) (0.16.0)\n",
      "Requirement already satisfied: argon2-cffi in /usr/local/lib/python3.9/dist-packages (from notebook>=4.4.1->widgetsnbextension~=3.6.0->ipywidgets>=7.6.5->pycaret) (21.3.0)\n",
      "Requirement already satisfied: pyzmq>=17 in /usr/local/lib/python3.9/dist-packages (from notebook>=4.4.1->widgetsnbextension~=3.6.0->ipywidgets>=7.6.5->pycaret) (23.2.1)\n",
      "Requirement already satisfied: nbconvert in /usr/local/lib/python3.9/dist-packages (from notebook>=4.4.1->widgetsnbextension~=3.6.0->ipywidgets>=7.6.5->pycaret) (6.5.4)\n",
      "Requirement already satisfied: terminado>=0.8.3 in /usr/local/lib/python3.9/dist-packages (from notebook>=4.4.1->widgetsnbextension~=3.6.0->ipywidgets>=7.6.5->pycaret) (0.17.1)\n",
      "Requirement already satisfied: Send2Trash>=1.8.0 in /usr/local/lib/python3.9/dist-packages (from notebook>=4.4.1->widgetsnbextension~=3.6.0->ipywidgets>=7.6.5->pycaret) (1.8.0)\n",
      "Requirement already satisfied: argon2-cffi-bindings in /usr/local/lib/python3.9/dist-packages (from argon2-cffi->notebook>=4.4.1->widgetsnbextension~=3.6.0->ipywidgets>=7.6.5->pycaret) (21.2.0)\n",
      "Requirement already satisfied: nbclient>=0.5.0 in /usr/local/lib/python3.9/dist-packages (from nbconvert->notebook>=4.4.1->widgetsnbextension~=3.6.0->ipywidgets>=7.6.5->pycaret) (0.7.3)\n",
      "Requirement already satisfied: mistune<2,>=0.8.1 in /usr/local/lib/python3.9/dist-packages (from nbconvert->notebook>=4.4.1->widgetsnbextension~=3.6.0->ipywidgets>=7.6.5->pycaret) (0.8.4)\n",
      "Requirement already satisfied: pandocfilters>=1.4.1 in /usr/local/lib/python3.9/dist-packages (from nbconvert->notebook>=4.4.1->widgetsnbextension~=3.6.0->ipywidgets>=7.6.5->pycaret) (1.5.0)\n",
      "Requirement already satisfied: defusedxml in /usr/local/lib/python3.9/dist-packages (from nbconvert->notebook>=4.4.1->widgetsnbextension~=3.6.0->ipywidgets>=7.6.5->pycaret) (0.7.1)\n",
      "Requirement already satisfied: beautifulsoup4 in /usr/local/lib/python3.9/dist-packages (from nbconvert->notebook>=4.4.1->widgetsnbextension~=3.6.0->ipywidgets>=7.6.5->pycaret) (4.11.2)\n",
      "Requirement already satisfied: entrypoints>=0.2.2 in /usr/local/lib/python3.9/dist-packages (from nbconvert->notebook>=4.4.1->widgetsnbextension~=3.6.0->ipywidgets>=7.6.5->pycaret) (0.4)\n",
      "Requirement already satisfied: lxml in /usr/local/lib/python3.9/dist-packages (from nbconvert->notebook>=4.4.1->widgetsnbextension~=3.6.0->ipywidgets>=7.6.5->pycaret) (4.9.2)\n",
      "Requirement already satisfied: tinycss2 in /usr/local/lib/python3.9/dist-packages (from nbconvert->notebook>=4.4.1->widgetsnbextension~=3.6.0->ipywidgets>=7.6.5->pycaret) (1.2.1)\n",
      "Requirement already satisfied: jupyterlab-pygments in /usr/local/lib/python3.9/dist-packages (from nbconvert->notebook>=4.4.1->widgetsnbextension~=3.6.0->ipywidgets>=7.6.5->pycaret) (0.2.2)\n",
      "Requirement already satisfied: bleach in /usr/local/lib/python3.9/dist-packages (from nbconvert->notebook>=4.4.1->widgetsnbextension~=3.6.0->ipywidgets>=7.6.5->pycaret) (6.0.0)\n",
      "Requirement already satisfied: cffi>=1.0.1 in /usr/local/lib/python3.9/dist-packages (from argon2-cffi-bindings->argon2-cffi->notebook>=4.4.1->widgetsnbextension~=3.6.0->ipywidgets>=7.6.5->pycaret) (1.15.1)\n",
      "Requirement already satisfied: soupsieve>1.2 in /usr/local/lib/python3.9/dist-packages (from beautifulsoup4->nbconvert->notebook>=4.4.1->widgetsnbextension~=3.6.0->ipywidgets>=7.6.5->pycaret) (2.4)\n",
      "Requirement already satisfied: webencodings in /usr/local/lib/python3.9/dist-packages (from bleach->nbconvert->notebook>=4.4.1->widgetsnbextension~=3.6.0->ipywidgets>=7.6.5->pycaret) (0.5.1)\n",
      "Requirement already satisfied: pycparser in /usr/local/lib/python3.9/dist-packages (from cffi>=1.0.1->argon2-cffi-bindings->argon2-cffi->notebook>=4.4.1->widgetsnbextension~=3.6.0->ipywidgets>=7.6.5->pycaret) (2.21)\n",
      "Building wheels for collected packages: plotly-resampler, pyod\n",
      "  Building wheel for plotly-resampler (pyproject.toml) ... \u001b[?25l\u001b[?25hdone\n",
      "  Created wheel for plotly-resampler: filename=plotly_resampler-0.8.3.2-cp39-cp39-manylinux_2_31_x86_64.whl size=75054 sha256=3788817406be523cf420383440da4b805ea352193d76466616f4fe8363883c6f\n",
      "  Stored in directory: /root/.cache/pip/wheels/9e/36/06/4c11e300918011376af149098621ec7ebe06d8256566d43d51\n",
      "  Building wheel for pyod (setup.py) ... \u001b[?25l\u001b[?25hdone\n",
      "  Created wheel for pyod: filename=pyod-1.0.9-py3-none-any.whl size=184112 sha256=5e9dcaca40e1304c3a28eabd725fdac1d57d07fae4c9cfd58057ef51b970c6ba\n",
      "  Stored in directory: /root/.cache/pip/wheels/1b/9c/b8/9759d7cc64a1e01bb9872ade80cb7db445ccf506e083325106\n",
      "Successfully built plotly-resampler pyod\n",
      "Installing collected packages: trace-updater, kaleido, dash-table, dash-html-components, dash-core-components, xxhash, wurlitzer, schemdraw, retrying, orjson, jedi, deprecation, deprecated, ansi2html, sktime, scikit-plot, pyod, dash, pmdarima, jupyter-dash, category-encoders, tbats, plotly-resampler, pycaret\n",
      "Successfully installed ansi2html-1.8.0 category-encoders-2.6.0 dash-2.9.3 dash-core-components-2.0.0 dash-html-components-2.0.0 dash-table-5.0.0 deprecated-1.2.13 deprecation-2.1.0 jedi-0.18.2 jupyter-dash-0.4.2 kaleido-0.2.1 orjson-3.8.10 plotly-resampler-0.8.3.2 pmdarima-2.0.3 pycaret-3.0.0 pyod-1.0.9 retrying-1.3.4 schemdraw-0.16 scikit-plot-0.3.7 sktime-0.17.1 tbats-1.1.2 trace-updater-0.0.9.1 wurlitzer-3.0.3 xxhash-3.2.0\n"
     ]
    }
   ],
   "source": [
    "!pip install pycaret"
   ]
  },
  {
   "cell_type": "markdown",
   "metadata": {
    "id": "h0q6sFMrMUgP"
   },
   "source": [
    "#### Import Libraries"
   ]
  },
  {
   "cell_type": "code",
   "execution_count": 2,
   "metadata": {
    "id": "cUtG1iganX2U"
   },
   "outputs": [],
   "source": [
    "# Import Libraries\n",
    "import numpy as np\n",
    "import pandas as pd\n",
    "import matplotlib.pyplot as plt\n",
    "\n",
    "import pycaret"
   ]
  },
  {
   "cell_type": "code",
   "execution_count": 3,
   "metadata": {
    "colab": {
     "base_uri": "https://localhost:8080/",
     "height": 35
    },
    "id": "Jcr4Cmy9mP7R",
    "outputId": "58143447-41a9-4e5b-d636-e73319da12aa"
   },
   "outputs": [
    {
     "data": {
      "application/vnd.google.colaboratory.intrinsic+json": {
       "type": "string"
      },
      "text/plain": [
       "'3.0.0'"
      ]
     },
     "execution_count": 3,
     "metadata": {},
     "output_type": "execute_result"
    }
   ],
   "source": [
    "# Check version\n",
    "pycaret.__version__"
   ]
  },
  {
   "cell_type": "markdown",
   "metadata": {
    "id": "A3sPXdr_MZ4d"
   },
   "source": [
    "### Setup"
   ]
  },
  {
   "cell_type": "code",
   "execution_count": 4,
   "metadata": {
    "colab": {
     "base_uri": "https://localhost:8080/"
    },
    "id": "lhPVzYTNlzjy",
    "outputId": "faf4d724-bb2f-474f-ffbc-5791bb970c5f"
   },
   "outputs": [
    {
     "name": "stdout",
     "output_type": "stream",
     "text": [
      "Mounted at /content/drive\n"
     ]
    }
   ],
   "source": [
    "from google.colab import drive \n",
    "drive.mount('/content/drive')"
   ]
  },
  {
   "cell_type": "code",
   "execution_count": 5,
   "metadata": {
    "id": "OVkv-6LamYdy"
   },
   "outputs": [],
   "source": [
    "#!ls \"/content/drive/MyDrive/Colab Notebooks/DS123/capstone/\""
   ]
  },
  {
   "cell_type": "code",
   "execution_count": 6,
   "metadata": {
    "colab": {
     "base_uri": "https://localhost:8080/",
     "height": 300
    },
    "id": "kI9Mzsqvq3ib",
    "outputId": "de1a0712-1f60-46f0-b73d-ffddab25793d"
   },
   "outputs": [
    {
     "data": {
      "text/html": [
       "\n",
       "  <div id=\"df-dc966c50-524b-4dd9-84c9-d644f14087d0\">\n",
       "    <div class=\"colab-df-container\">\n",
       "      <div>\n",
       "<style scoped>\n",
       "    .dataframe tbody tr th:only-of-type {\n",
       "        vertical-align: middle;\n",
       "    }\n",
       "\n",
       "    .dataframe tbody tr th {\n",
       "        vertical-align: top;\n",
       "    }\n",
       "\n",
       "    .dataframe thead th {\n",
       "        text-align: right;\n",
       "    }\n",
       "</style>\n",
       "<table border=\"1\" class=\"dataframe\">\n",
       "  <thead>\n",
       "    <tr style=\"text-align: right;\">\n",
       "      <th></th>\n",
       "      <th>r1_id</th>\n",
       "      <th>r1_win</th>\n",
       "      <th>r2_id</th>\n",
       "      <th>r1_height</th>\n",
       "      <th>r1_weight</th>\n",
       "      <th>r1_prev_w</th>\n",
       "      <th>r1_prev_l</th>\n",
       "      <th>r2_height</th>\n",
       "      <th>r2_weight</th>\n",
       "      <th>r2_prev_w</th>\n",
       "      <th>...</th>\n",
       "      <th>r1_now_l_calc</th>\n",
       "      <th>r2_now_w_calc</th>\n",
       "      <th>r2_now_l_calc</th>\n",
       "      <th>r1_curr_w_calc</th>\n",
       "      <th>r1_curr_l_calc</th>\n",
       "      <th>r2_curr_w_calc</th>\n",
       "      <th>r2_curr_l_calc</th>\n",
       "      <th>r1_heya_calc</th>\n",
       "      <th>r2_heya_calc</th>\n",
       "      <th>kimarite_calc</th>\n",
       "    </tr>\n",
       "  </thead>\n",
       "  <tbody>\n",
       "    <tr>\n",
       "      <th>0</th>\n",
       "      <td>4140</td>\n",
       "      <td>0</td>\n",
       "      <td>4306</td>\n",
       "      <td>175.5</td>\n",
       "      <td>115.0</td>\n",
       "      <td>4.0</td>\n",
       "      <td>3.0</td>\n",
       "      <td>193.5</td>\n",
       "      <td>145.0</td>\n",
       "      <td>4.0</td>\n",
       "      <td>...</td>\n",
       "      <td>1</td>\n",
       "      <td>1</td>\n",
       "      <td>0</td>\n",
       "      <td>7</td>\n",
       "      <td>8</td>\n",
       "      <td>6</td>\n",
       "      <td>1</td>\n",
       "      <td>1</td>\n",
       "      <td>0</td>\n",
       "      <td>5</td>\n",
       "    </tr>\n",
       "    <tr>\n",
       "      <th>1</th>\n",
       "      <td>1337</td>\n",
       "      <td>0</td>\n",
       "      <td>4306</td>\n",
       "      <td>178.5</td>\n",
       "      <td>130.0</td>\n",
       "      <td>5.0</td>\n",
       "      <td>2.0</td>\n",
       "      <td>193.5</td>\n",
       "      <td>145.0</td>\n",
       "      <td>4.0</td>\n",
       "      <td>...</td>\n",
       "      <td>2</td>\n",
       "      <td>2</td>\n",
       "      <td>0</td>\n",
       "      <td>9</td>\n",
       "      <td>6</td>\n",
       "      <td>6</td>\n",
       "      <td>1</td>\n",
       "      <td>1</td>\n",
       "      <td>0</td>\n",
       "      <td>5</td>\n",
       "    </tr>\n",
       "    <tr>\n",
       "      <th>2</th>\n",
       "      <td>4097</td>\n",
       "      <td>1</td>\n",
       "      <td>4306</td>\n",
       "      <td>182.0</td>\n",
       "      <td>134.0</td>\n",
       "      <td>5.0</td>\n",
       "      <td>2.0</td>\n",
       "      <td>193.5</td>\n",
       "      <td>145.0</td>\n",
       "      <td>4.0</td>\n",
       "      <td>...</td>\n",
       "      <td>0</td>\n",
       "      <td>0</td>\n",
       "      <td>0</td>\n",
       "      <td>0</td>\n",
       "      <td>0</td>\n",
       "      <td>0</td>\n",
       "      <td>0</td>\n",
       "      <td>1</td>\n",
       "      <td>0</td>\n",
       "      <td>5</td>\n",
       "    </tr>\n",
       "    <tr>\n",
       "      <th>3</th>\n",
       "      <td>4140</td>\n",
       "      <td>1</td>\n",
       "      <td>4125</td>\n",
       "      <td>175.5</td>\n",
       "      <td>115.0</td>\n",
       "      <td>4.0</td>\n",
       "      <td>3.0</td>\n",
       "      <td>188.0</td>\n",
       "      <td>134.0</td>\n",
       "      <td>3.0</td>\n",
       "      <td>...</td>\n",
       "      <td>1</td>\n",
       "      <td>0</td>\n",
       "      <td>2</td>\n",
       "      <td>7</td>\n",
       "      <td>8</td>\n",
       "      <td>8</td>\n",
       "      <td>7</td>\n",
       "      <td>1</td>\n",
       "      <td>1</td>\n",
       "      <td>5</td>\n",
       "    </tr>\n",
       "    <tr>\n",
       "      <th>4</th>\n",
       "      <td>1337</td>\n",
       "      <td>1</td>\n",
       "      <td>4125</td>\n",
       "      <td>178.5</td>\n",
       "      <td>130.0</td>\n",
       "      <td>5.0</td>\n",
       "      <td>2.0</td>\n",
       "      <td>188.0</td>\n",
       "      <td>134.0</td>\n",
       "      <td>3.0</td>\n",
       "      <td>...</td>\n",
       "      <td>4</td>\n",
       "      <td>4</td>\n",
       "      <td>4</td>\n",
       "      <td>9</td>\n",
       "      <td>6</td>\n",
       "      <td>8</td>\n",
       "      <td>7</td>\n",
       "      <td>1</td>\n",
       "      <td>1</td>\n",
       "      <td>5</td>\n",
       "    </tr>\n",
       "  </tbody>\n",
       "</table>\n",
       "<p>5 rows × 40 columns</p>\n",
       "</div>\n",
       "      <button class=\"colab-df-convert\" onclick=\"convertToInteractive('df-dc966c50-524b-4dd9-84c9-d644f14087d0')\"\n",
       "              title=\"Convert this dataframe to an interactive table.\"\n",
       "              style=\"display:none;\">\n",
       "        \n",
       "  <svg xmlns=\"http://www.w3.org/2000/svg\" height=\"24px\"viewBox=\"0 0 24 24\"\n",
       "       width=\"24px\">\n",
       "    <path d=\"M0 0h24v24H0V0z\" fill=\"none\"/>\n",
       "    <path d=\"M18.56 5.44l.94 2.06.94-2.06 2.06-.94-2.06-.94-.94-2.06-.94 2.06-2.06.94zm-11 1L8.5 8.5l.94-2.06 2.06-.94-2.06-.94L8.5 2.5l-.94 2.06-2.06.94zm10 10l.94 2.06.94-2.06 2.06-.94-2.06-.94-.94-2.06-.94 2.06-2.06.94z\"/><path d=\"M17.41 7.96l-1.37-1.37c-.4-.4-.92-.59-1.43-.59-.52 0-1.04.2-1.43.59L10.3 9.45l-7.72 7.72c-.78.78-.78 2.05 0 2.83L4 21.41c.39.39.9.59 1.41.59.51 0 1.02-.2 1.41-.59l7.78-7.78 2.81-2.81c.8-.78.8-2.07 0-2.86zM5.41 20L4 18.59l7.72-7.72 1.47 1.35L5.41 20z\"/>\n",
       "  </svg>\n",
       "      </button>\n",
       "      \n",
       "  <style>\n",
       "    .colab-df-container {\n",
       "      display:flex;\n",
       "      flex-wrap:wrap;\n",
       "      gap: 12px;\n",
       "    }\n",
       "\n",
       "    .colab-df-convert {\n",
       "      background-color: #E8F0FE;\n",
       "      border: none;\n",
       "      border-radius: 50%;\n",
       "      cursor: pointer;\n",
       "      display: none;\n",
       "      fill: #1967D2;\n",
       "      height: 32px;\n",
       "      padding: 0 0 0 0;\n",
       "      width: 32px;\n",
       "    }\n",
       "\n",
       "    .colab-df-convert:hover {\n",
       "      background-color: #E2EBFA;\n",
       "      box-shadow: 0px 1px 2px rgba(60, 64, 67, 0.3), 0px 1px 3px 1px rgba(60, 64, 67, 0.15);\n",
       "      fill: #174EA6;\n",
       "    }\n",
       "\n",
       "    [theme=dark] .colab-df-convert {\n",
       "      background-color: #3B4455;\n",
       "      fill: #D2E3FC;\n",
       "    }\n",
       "\n",
       "    [theme=dark] .colab-df-convert:hover {\n",
       "      background-color: #434B5C;\n",
       "      box-shadow: 0px 1px 3px 1px rgba(0, 0, 0, 0.15);\n",
       "      filter: drop-shadow(0px 1px 2px rgba(0, 0, 0, 0.3));\n",
       "      fill: #FFFFFF;\n",
       "    }\n",
       "  </style>\n",
       "\n",
       "      <script>\n",
       "        const buttonEl =\n",
       "          document.querySelector('#df-dc966c50-524b-4dd9-84c9-d644f14087d0 button.colab-df-convert');\n",
       "        buttonEl.style.display =\n",
       "          google.colab.kernel.accessAllowed ? 'block' : 'none';\n",
       "\n",
       "        async function convertToInteractive(key) {\n",
       "          const element = document.querySelector('#df-dc966c50-524b-4dd9-84c9-d644f14087d0');\n",
       "          const dataTable =\n",
       "            await google.colab.kernel.invokeFunction('convertToInteractive',\n",
       "                                                     [key], {});\n",
       "          if (!dataTable) return;\n",
       "\n",
       "          const docLinkHtml = 'Like what you see? Visit the ' +\n",
       "            '<a target=\"_blank\" href=https://colab.research.google.com/notebooks/data_table.ipynb>data table notebook</a>'\n",
       "            + ' to learn more about interactive tables.';\n",
       "          element.innerHTML = '';\n",
       "          dataTable['output_type'] = 'display_data';\n",
       "          await google.colab.output.renderOutput(dataTable, element);\n",
       "          const docLink = document.createElement('div');\n",
       "          docLink.innerHTML = docLinkHtml;\n",
       "          element.appendChild(docLink);\n",
       "        }\n",
       "      </script>\n",
       "    </div>\n",
       "  </div>\n",
       "  "
      ],
      "text/plain": [
       "   r1_id  r1_win  r2_id  r1_height  r1_weight  r1_prev_w  r1_prev_l  \\\n",
       "0   4140       0   4306      175.5      115.0        4.0        3.0   \n",
       "1   1337       0   4306      178.5      130.0        5.0        2.0   \n",
       "2   4097       1   4306      182.0      134.0        5.0        2.0   \n",
       "3   4140       1   4125      175.5      115.0        4.0        3.0   \n",
       "4   1337       1   4125      178.5      130.0        5.0        2.0   \n",
       "\n",
       "   r2_height  r2_weight  r2_prev_w  ...  r1_now_l_calc  r2_now_w_calc  \\\n",
       "0      193.5      145.0        4.0  ...              1              1   \n",
       "1      193.5      145.0        4.0  ...              2              2   \n",
       "2      193.5      145.0        4.0  ...              0              0   \n",
       "3      188.0      134.0        3.0  ...              1              0   \n",
       "4      188.0      134.0        3.0  ...              4              4   \n",
       "\n",
       "   r2_now_l_calc  r1_curr_w_calc  r1_curr_l_calc  r2_curr_w_calc  \\\n",
       "0              0               7               8               6   \n",
       "1              0               9               6               6   \n",
       "2              0               0               0               0   \n",
       "3              2               7               8               8   \n",
       "4              4               9               6               8   \n",
       "\n",
       "   r2_curr_l_calc  r1_heya_calc  r2_heya_calc  kimarite_calc  \n",
       "0               1             1             0              5  \n",
       "1               1             1             0              5  \n",
       "2               0             1             0              5  \n",
       "3               7             1             1              5  \n",
       "4               7             1             1              5  \n",
       "\n",
       "[5 rows x 40 columns]"
      ]
     },
     "execution_count": 6,
     "metadata": {},
     "output_type": "execute_result"
    }
   ],
   "source": [
    "# Read in the data\n",
    "df = pd.read_csv(\"/content/drive/MyDrive/Colab Notebooks/DS123/capstone/sumo_v3_eda_completed.csv\")\n",
    "df.head()"
   ]
  },
  {
   "cell_type": "code",
   "execution_count": 7,
   "metadata": {
    "colab": {
     "base_uri": "https://localhost:8080/"
    },
    "id": "QvYcKkEZmjue",
    "outputId": "bd27e43c-bb0f-42e8-efee-f66bba9cacf3"
   },
   "outputs": [
    {
     "name": "stdout",
     "output_type": "stream",
     "text": [
      "<class 'pandas.core.frame.DataFrame'>\n",
      "RangeIndex: 226588 entries, 0 to 226587\n",
      "Data columns (total 40 columns):\n",
      " #   Column                  Non-Null Count   Dtype  \n",
      "---  ------                  --------------   -----  \n",
      " 0   r1_id                   226588 non-null  int64  \n",
      " 1   r1_win                  226588 non-null  int64  \n",
      " 2   r2_id                   226588 non-null  int64  \n",
      " 3   r1_height               226588 non-null  float64\n",
      " 4   r1_weight               226588 non-null  float64\n",
      " 5   r1_prev_w               226588 non-null  float64\n",
      " 6   r1_prev_l               226588 non-null  float64\n",
      " 7   r2_height               226588 non-null  float64\n",
      " 8   r2_weight               226588 non-null  float64\n",
      " 9   r2_prev_w               226588 non-null  float64\n",
      " 10  r2_prev_l               226588 non-null  float64\n",
      " 11  r1_Japan_hometown_calc  226588 non-null  int64  \n",
      " 12  r2_Japan_hometown_calc  226588 non-null  int64  \n",
      " 13  r1_age_calc             226588 non-null  int64  \n",
      " 14  r2_age_calc             226588 non-null  int64  \n",
      " 15  height_diff_calc        226588 non-null  float64\n",
      " 16  weight_diff_calc        226588 non-null  float64\n",
      " 17  r1_rank_curr_calc       226588 non-null  int64  \n",
      " 18  r2_rank_curr_calc       226588 non-null  int64  \n",
      " 19  r1_rank_prev_calc       226588 non-null  int64  \n",
      " 20  r2_rank_prev_calc       226588 non-null  int64  \n",
      " 21  r1_rank_changes_calc    226588 non-null  int64  \n",
      " 22  r2_rank_changes_calc    226588 non-null  int64  \n",
      " 23  r1_prev_win_pct_calc    226588 non-null  float64\n",
      " 24  r2_prev_win_pct_calc    226588 non-null  float64\n",
      " 25  r1_curr_win_pct_calc    226588 non-null  float64\n",
      " 26  r2_curr_win_pct_calc    226588 non-null  float64\n",
      " 27  r1_now_win_pct_calc     226588 non-null  float64\n",
      " 28  r2_now_win_pct_calc     226588 non-null  float64\n",
      " 29  r1_now_w_calc           226588 non-null  int64  \n",
      " 30  r1_now_l_calc           226588 non-null  int64  \n",
      " 31  r2_now_w_calc           226588 non-null  int64  \n",
      " 32  r2_now_l_calc           226588 non-null  int64  \n",
      " 33  r1_curr_w_calc          226588 non-null  int64  \n",
      " 34  r1_curr_l_calc          226588 non-null  int64  \n",
      " 35  r2_curr_w_calc          226588 non-null  int64  \n",
      " 36  r2_curr_l_calc          226588 non-null  int64  \n",
      " 37  r1_heya_calc            226588 non-null  int64  \n",
      " 38  r2_heya_calc            226588 non-null  int64  \n",
      " 39  kimarite_calc           226588 non-null  int64  \n",
      "dtypes: float64(16), int64(24)\n",
      "memory usage: 69.1 MB\n"
     ]
    }
   ],
   "source": [
    "# Check data info\n",
    "df.info()"
   ]
  },
  {
   "cell_type": "code",
   "execution_count": 8,
   "metadata": {
    "colab": {
     "base_uri": "https://localhost:8080/"
    },
    "id": "menSGknzmmzR",
    "outputId": "40e921bb-ff93-48c9-b24e-23919afdadb3"
   },
   "outputs": [
    {
     "data": {
      "text/plain": [
       "(226588, 40)"
      ]
     },
     "execution_count": 8,
     "metadata": {},
     "output_type": "execute_result"
    }
   ],
   "source": [
    "# Check data shape\n",
    "df.shape"
   ]
  },
  {
   "cell_type": "code",
   "execution_count": 9,
   "metadata": {
    "id": "fBMAgKYvlhX7"
   },
   "outputs": [],
   "source": [
    "# Import classification models\n",
    "from pycaret.classification import * "
   ]
  },
  {
   "cell_type": "code",
   "execution_count": 10,
   "metadata": {
    "colab": {
     "base_uri": "https://localhost:8080/",
     "height": 645
    },
    "id": "EI3LnPqTJ0eg",
    "outputId": "6139a04f-c2d8-4ec7-b312-8cb90814a7ef"
   },
   "outputs": [
    {
     "data": {
      "text/html": [
       "<style type=\"text/css\">\n",
       "#T_27282_row8_col1 {\n",
       "  background-color: lightgreen;\n",
       "}\n",
       "</style>\n",
       "<table id=\"T_27282\" class=\"dataframe\">\n",
       "  <thead>\n",
       "    <tr>\n",
       "      <th class=\"blank level0\" >&nbsp;</th>\n",
       "      <th id=\"T_27282_level0_col0\" class=\"col_heading level0 col0\" >Description</th>\n",
       "      <th id=\"T_27282_level0_col1\" class=\"col_heading level0 col1\" >Value</th>\n",
       "    </tr>\n",
       "  </thead>\n",
       "  <tbody>\n",
       "    <tr>\n",
       "      <th id=\"T_27282_level0_row0\" class=\"row_heading level0 row0\" >0</th>\n",
       "      <td id=\"T_27282_row0_col0\" class=\"data row0 col0\" >Session id</td>\n",
       "      <td id=\"T_27282_row0_col1\" class=\"data row0 col1\" >123</td>\n",
       "    </tr>\n",
       "    <tr>\n",
       "      <th id=\"T_27282_level0_row1\" class=\"row_heading level0 row1\" >1</th>\n",
       "      <td id=\"T_27282_row1_col0\" class=\"data row1 col0\" >Target</td>\n",
       "      <td id=\"T_27282_row1_col1\" class=\"data row1 col1\" >r1_win</td>\n",
       "    </tr>\n",
       "    <tr>\n",
       "      <th id=\"T_27282_level0_row2\" class=\"row_heading level0 row2\" >2</th>\n",
       "      <td id=\"T_27282_row2_col0\" class=\"data row2 col0\" >Target type</td>\n",
       "      <td id=\"T_27282_row2_col1\" class=\"data row2 col1\" >Binary</td>\n",
       "    </tr>\n",
       "    <tr>\n",
       "      <th id=\"T_27282_level0_row3\" class=\"row_heading level0 row3\" >3</th>\n",
       "      <td id=\"T_27282_row3_col0\" class=\"data row3 col0\" >Original data shape</td>\n",
       "      <td id=\"T_27282_row3_col1\" class=\"data row3 col1\" >(226588, 40)</td>\n",
       "    </tr>\n",
       "    <tr>\n",
       "      <th id=\"T_27282_level0_row4\" class=\"row_heading level0 row4\" >4</th>\n",
       "      <td id=\"T_27282_row4_col0\" class=\"data row4 col0\" >Transformed data shape</td>\n",
       "      <td id=\"T_27282_row4_col1\" class=\"data row4 col1\" >(226588, 40)</td>\n",
       "    </tr>\n",
       "    <tr>\n",
       "      <th id=\"T_27282_level0_row5\" class=\"row_heading level0 row5\" >5</th>\n",
       "      <td id=\"T_27282_row5_col0\" class=\"data row5 col0\" >Transformed train set shape</td>\n",
       "      <td id=\"T_27282_row5_col1\" class=\"data row5 col1\" >(181270, 40)</td>\n",
       "    </tr>\n",
       "    <tr>\n",
       "      <th id=\"T_27282_level0_row6\" class=\"row_heading level0 row6\" >6</th>\n",
       "      <td id=\"T_27282_row6_col0\" class=\"data row6 col0\" >Transformed test set shape</td>\n",
       "      <td id=\"T_27282_row6_col1\" class=\"data row6 col1\" >(45318, 40)</td>\n",
       "    </tr>\n",
       "    <tr>\n",
       "      <th id=\"T_27282_level0_row7\" class=\"row_heading level0 row7\" >7</th>\n",
       "      <td id=\"T_27282_row7_col0\" class=\"data row7 col0\" >Numeric features</td>\n",
       "      <td id=\"T_27282_row7_col1\" class=\"data row7 col1\" >39</td>\n",
       "    </tr>\n",
       "    <tr>\n",
       "      <th id=\"T_27282_level0_row8\" class=\"row_heading level0 row8\" >8</th>\n",
       "      <td id=\"T_27282_row8_col0\" class=\"data row8 col0\" >Preprocess</td>\n",
       "      <td id=\"T_27282_row8_col1\" class=\"data row8 col1\" >True</td>\n",
       "    </tr>\n",
       "    <tr>\n",
       "      <th id=\"T_27282_level0_row9\" class=\"row_heading level0 row9\" >9</th>\n",
       "      <td id=\"T_27282_row9_col0\" class=\"data row9 col0\" >Imputation type</td>\n",
       "      <td id=\"T_27282_row9_col1\" class=\"data row9 col1\" >simple</td>\n",
       "    </tr>\n",
       "    <tr>\n",
       "      <th id=\"T_27282_level0_row10\" class=\"row_heading level0 row10\" >10</th>\n",
       "      <td id=\"T_27282_row10_col0\" class=\"data row10 col0\" >Numeric imputation</td>\n",
       "      <td id=\"T_27282_row10_col1\" class=\"data row10 col1\" >mean</td>\n",
       "    </tr>\n",
       "    <tr>\n",
       "      <th id=\"T_27282_level0_row11\" class=\"row_heading level0 row11\" >11</th>\n",
       "      <td id=\"T_27282_row11_col0\" class=\"data row11 col0\" >Categorical imputation</td>\n",
       "      <td id=\"T_27282_row11_col1\" class=\"data row11 col1\" >mode</td>\n",
       "    </tr>\n",
       "    <tr>\n",
       "      <th id=\"T_27282_level0_row12\" class=\"row_heading level0 row12\" >12</th>\n",
       "      <td id=\"T_27282_row12_col0\" class=\"data row12 col0\" >Fold Generator</td>\n",
       "      <td id=\"T_27282_row12_col1\" class=\"data row12 col1\" >StratifiedKFold</td>\n",
       "    </tr>\n",
       "    <tr>\n",
       "      <th id=\"T_27282_level0_row13\" class=\"row_heading level0 row13\" >13</th>\n",
       "      <td id=\"T_27282_row13_col0\" class=\"data row13 col0\" >Fold Number</td>\n",
       "      <td id=\"T_27282_row13_col1\" class=\"data row13 col1\" >10</td>\n",
       "    </tr>\n",
       "    <tr>\n",
       "      <th id=\"T_27282_level0_row14\" class=\"row_heading level0 row14\" >14</th>\n",
       "      <td id=\"T_27282_row14_col0\" class=\"data row14 col0\" >CPU Jobs</td>\n",
       "      <td id=\"T_27282_row14_col1\" class=\"data row14 col1\" >-1</td>\n",
       "    </tr>\n",
       "    <tr>\n",
       "      <th id=\"T_27282_level0_row15\" class=\"row_heading level0 row15\" >15</th>\n",
       "      <td id=\"T_27282_row15_col0\" class=\"data row15 col0\" >Use GPU</td>\n",
       "      <td id=\"T_27282_row15_col1\" class=\"data row15 col1\" >False</td>\n",
       "    </tr>\n",
       "    <tr>\n",
       "      <th id=\"T_27282_level0_row16\" class=\"row_heading level0 row16\" >16</th>\n",
       "      <td id=\"T_27282_row16_col0\" class=\"data row16 col0\" >Log Experiment</td>\n",
       "      <td id=\"T_27282_row16_col1\" class=\"data row16 col1\" >False</td>\n",
       "    </tr>\n",
       "    <tr>\n",
       "      <th id=\"T_27282_level0_row17\" class=\"row_heading level0 row17\" >17</th>\n",
       "      <td id=\"T_27282_row17_col0\" class=\"data row17 col0\" >Experiment Name</td>\n",
       "      <td id=\"T_27282_row17_col1\" class=\"data row17 col1\" >clf-default-name</td>\n",
       "    </tr>\n",
       "    <tr>\n",
       "      <th id=\"T_27282_level0_row18\" class=\"row_heading level0 row18\" >18</th>\n",
       "      <td id=\"T_27282_row18_col0\" class=\"data row18 col0\" >USI</td>\n",
       "      <td id=\"T_27282_row18_col1\" class=\"data row18 col1\" >cdf9</td>\n",
       "    </tr>\n",
       "  </tbody>\n",
       "</table>\n"
      ],
      "text/plain": [
       "<pandas.io.formats.style.Styler at 0x7f2a293486a0>"
      ]
     },
     "metadata": {},
     "output_type": "display_data"
    }
   ],
   "source": [
    "# Setup\n",
    "clf = setup(data = df, target = 'r1_win', train_size = 0.8, session_id=123)"
   ]
  },
  {
   "cell_type": "markdown",
   "metadata": {
    "id": "e_075m_hMdrT"
   },
   "source": [
    "### Compare Models"
   ]
  },
  {
   "cell_type": "code",
   "execution_count": 11,
   "metadata": {
    "colab": {
     "base_uri": "https://localhost:8080/",
     "height": 520,
     "referenced_widgets": [
      "f259c9a648fa4bfcaad5981c49367bd1",
      "9c472059360848cf8f5f0cc9d08d26c2",
      "0a88f851418f4bc48bff82b3dc13cea6",
      "38976f481aef4d02b34dc79e1fcb75f3",
      "4696270e25e84b488d56f75f50647661",
      "a150a2248ba74305888509fd8f138697",
      "c17640f6699a4ac2909ee406cd48cc57",
      "2baef0eb01a5428b987983115c9fa2d4",
      "0e5f2428b4ac4e7ab00d34b802574bd0",
      "f179bd8fc84d404684909334742f3af5",
      "29d2188709ef4f27a5972b29d8db2de1"
     ]
    },
    "id": "vnYuGTsCO7ig",
    "outputId": "edaf0986-9b53-4785-85b9-c5c9c79d6ffe"
   },
   "outputs": [
    {
     "data": {
      "text/html": [],
      "text/plain": [
       "<IPython.core.display.HTML object>"
      ]
     },
     "metadata": {},
     "output_type": "display_data"
    },
    {
     "data": {
      "text/html": [
       "<style type=\"text/css\">\n",
       "#T_e836a th {\n",
       "  text-align: left;\n",
       "}\n",
       "#T_e836a_row0_col0, #T_e836a_row0_col3, #T_e836a_row1_col0, #T_e836a_row1_col1, #T_e836a_row1_col2, #T_e836a_row1_col4, #T_e836a_row1_col6, #T_e836a_row1_col7, #T_e836a_row2_col0, #T_e836a_row2_col1, #T_e836a_row2_col2, #T_e836a_row2_col3, #T_e836a_row2_col4, #T_e836a_row2_col5, #T_e836a_row2_col6, #T_e836a_row2_col7, #T_e836a_row3_col0, #T_e836a_row3_col1, #T_e836a_row3_col2, #T_e836a_row3_col3, #T_e836a_row3_col4, #T_e836a_row3_col5, #T_e836a_row3_col6, #T_e836a_row3_col7, #T_e836a_row4_col0, #T_e836a_row4_col1, #T_e836a_row4_col2, #T_e836a_row4_col3, #T_e836a_row4_col4, #T_e836a_row4_col5, #T_e836a_row4_col6, #T_e836a_row4_col7, #T_e836a_row5_col0, #T_e836a_row5_col1, #T_e836a_row5_col2, #T_e836a_row5_col3, #T_e836a_row5_col4, #T_e836a_row5_col5, #T_e836a_row5_col6, #T_e836a_row5_col7, #T_e836a_row6_col0, #T_e836a_row6_col1, #T_e836a_row6_col2, #T_e836a_row6_col3, #T_e836a_row6_col4, #T_e836a_row6_col5, #T_e836a_row6_col6, #T_e836a_row6_col7, #T_e836a_row7_col0, #T_e836a_row7_col1, #T_e836a_row7_col2, #T_e836a_row7_col3, #T_e836a_row7_col4, #T_e836a_row7_col5, #T_e836a_row7_col6, #T_e836a_row7_col7, #T_e836a_row8_col0, #T_e836a_row8_col1, #T_e836a_row8_col2, #T_e836a_row8_col3, #T_e836a_row8_col4, #T_e836a_row8_col5, #T_e836a_row8_col6, #T_e836a_row8_col7, #T_e836a_row9_col0, #T_e836a_row9_col1, #T_e836a_row9_col2, #T_e836a_row9_col3, #T_e836a_row9_col4, #T_e836a_row9_col5, #T_e836a_row9_col6, #T_e836a_row9_col7, #T_e836a_row10_col0, #T_e836a_row10_col1, #T_e836a_row10_col2, #T_e836a_row10_col3, #T_e836a_row10_col4, #T_e836a_row10_col5, #T_e836a_row10_col6, #T_e836a_row10_col7, #T_e836a_row11_col0, #T_e836a_row11_col1, #T_e836a_row11_col2, #T_e836a_row11_col3, #T_e836a_row11_col4, #T_e836a_row11_col5, #T_e836a_row11_col6, #T_e836a_row11_col7, #T_e836a_row12_col0, #T_e836a_row12_col1, #T_e836a_row12_col2, #T_e836a_row12_col3, #T_e836a_row12_col4, #T_e836a_row12_col5, #T_e836a_row12_col6, #T_e836a_row12_col7, #T_e836a_row13_col0, #T_e836a_row13_col1, #T_e836a_row13_col2, #T_e836a_row13_col3, #T_e836a_row13_col4, #T_e836a_row13_col5, #T_e836a_row13_col6, #T_e836a_row13_col7, #T_e836a_row14_col0, #T_e836a_row14_col1, #T_e836a_row14_col2, #T_e836a_row14_col3, #T_e836a_row14_col4, #T_e836a_row14_col5, #T_e836a_row14_col6, #T_e836a_row14_col7 {\n",
       "  text-align: left;\n",
       "}\n",
       "#T_e836a_row0_col1, #T_e836a_row0_col2, #T_e836a_row0_col4, #T_e836a_row0_col5, #T_e836a_row0_col6, #T_e836a_row0_col7, #T_e836a_row1_col3, #T_e836a_row1_col5 {\n",
       "  text-align: left;\n",
       "  background-color: yellow;\n",
       "}\n",
       "#T_e836a_row0_col8, #T_e836a_row1_col8, #T_e836a_row2_col8, #T_e836a_row3_col8, #T_e836a_row4_col8, #T_e836a_row5_col8, #T_e836a_row6_col8, #T_e836a_row7_col8, #T_e836a_row8_col8, #T_e836a_row9_col8, #T_e836a_row10_col8, #T_e836a_row11_col8, #T_e836a_row12_col8, #T_e836a_row13_col8 {\n",
       "  text-align: left;\n",
       "  background-color: lightgrey;\n",
       "}\n",
       "#T_e836a_row14_col8 {\n",
       "  text-align: left;\n",
       "  background-color: yellow;\n",
       "  background-color: lightgrey;\n",
       "}\n",
       "</style>\n",
       "<table id=\"T_e836a\" class=\"dataframe\">\n",
       "  <thead>\n",
       "    <tr>\n",
       "      <th class=\"blank level0\" >&nbsp;</th>\n",
       "      <th id=\"T_e836a_level0_col0\" class=\"col_heading level0 col0\" >Model</th>\n",
       "      <th id=\"T_e836a_level0_col1\" class=\"col_heading level0 col1\" >Accuracy</th>\n",
       "      <th id=\"T_e836a_level0_col2\" class=\"col_heading level0 col2\" >AUC</th>\n",
       "      <th id=\"T_e836a_level0_col3\" class=\"col_heading level0 col3\" >Recall</th>\n",
       "      <th id=\"T_e836a_level0_col4\" class=\"col_heading level0 col4\" >Prec.</th>\n",
       "      <th id=\"T_e836a_level0_col5\" class=\"col_heading level0 col5\" >F1</th>\n",
       "      <th id=\"T_e836a_level0_col6\" class=\"col_heading level0 col6\" >Kappa</th>\n",
       "      <th id=\"T_e836a_level0_col7\" class=\"col_heading level0 col7\" >MCC</th>\n",
       "      <th id=\"T_e836a_level0_col8\" class=\"col_heading level0 col8\" >TT (Sec)</th>\n",
       "    </tr>\n",
       "  </thead>\n",
       "  <tbody>\n",
       "    <tr>\n",
       "      <th id=\"T_e836a_level0_row0\" class=\"row_heading level0 row0\" >lightgbm</th>\n",
       "      <td id=\"T_e836a_row0_col0\" class=\"data row0 col0\" >Light Gradient Boosting Machine</td>\n",
       "      <td id=\"T_e836a_row0_col1\" class=\"data row0 col1\" >0.7799</td>\n",
       "      <td id=\"T_e836a_row0_col2\" class=\"data row0 col2\" >0.8785</td>\n",
       "      <td id=\"T_e836a_row0_col3\" class=\"data row0 col3\" >0.7795</td>\n",
       "      <td id=\"T_e836a_row0_col4\" class=\"data row0 col4\" >0.7802</td>\n",
       "      <td id=\"T_e836a_row0_col5\" class=\"data row0 col5\" >0.7798</td>\n",
       "      <td id=\"T_e836a_row0_col6\" class=\"data row0 col6\" >0.5598</td>\n",
       "      <td id=\"T_e836a_row0_col7\" class=\"data row0 col7\" >0.5599</td>\n",
       "      <td id=\"T_e836a_row0_col8\" class=\"data row0 col8\" >4.9240</td>\n",
       "    </tr>\n",
       "    <tr>\n",
       "      <th id=\"T_e836a_level0_row1\" class=\"row_heading level0 row1\" >xgboost</th>\n",
       "      <td id=\"T_e836a_row1_col0\" class=\"data row1 col0\" >Extreme Gradient Boosting</td>\n",
       "      <td id=\"T_e836a_row1_col1\" class=\"data row1 col1\" >0.7796</td>\n",
       "      <td id=\"T_e836a_row1_col2\" class=\"data row1 col2\" >0.8781</td>\n",
       "      <td id=\"T_e836a_row1_col3\" class=\"data row1 col3\" >0.7805</td>\n",
       "      <td id=\"T_e836a_row1_col4\" class=\"data row1 col4\" >0.7791</td>\n",
       "      <td id=\"T_e836a_row1_col5\" class=\"data row1 col5\" >0.7798</td>\n",
       "      <td id=\"T_e836a_row1_col6\" class=\"data row1 col6\" >0.5592</td>\n",
       "      <td id=\"T_e836a_row1_col7\" class=\"data row1 col7\" >0.5593</td>\n",
       "      <td id=\"T_e836a_row1_col8\" class=\"data row1 col8\" >48.9350</td>\n",
       "    </tr>\n",
       "    <tr>\n",
       "      <th id=\"T_e836a_level0_row2\" class=\"row_heading level0 row2\" >gbc</th>\n",
       "      <td id=\"T_e836a_row2_col0\" class=\"data row2 col0\" >Gradient Boosting Classifier</td>\n",
       "      <td id=\"T_e836a_row2_col1\" class=\"data row2 col1\" >0.7731</td>\n",
       "      <td id=\"T_e836a_row2_col2\" class=\"data row2 col2\" >0.8730</td>\n",
       "      <td id=\"T_e836a_row2_col3\" class=\"data row2 col3\" >0.7777</td>\n",
       "      <td id=\"T_e836a_row2_col4\" class=\"data row2 col4\" >0.7706</td>\n",
       "      <td id=\"T_e836a_row2_col5\" class=\"data row2 col5\" >0.7741</td>\n",
       "      <td id=\"T_e836a_row2_col6\" class=\"data row2 col6\" >0.5462</td>\n",
       "      <td id=\"T_e836a_row2_col7\" class=\"data row2 col7\" >0.5462</td>\n",
       "      <td id=\"T_e836a_row2_col8\" class=\"data row2 col8\" >65.6110</td>\n",
       "    </tr>\n",
       "    <tr>\n",
       "      <th id=\"T_e836a_level0_row3\" class=\"row_heading level0 row3\" >lda</th>\n",
       "      <td id=\"T_e836a_row3_col0\" class=\"data row3 col0\" >Linear Discriminant Analysis</td>\n",
       "      <td id=\"T_e836a_row3_col1\" class=\"data row3 col1\" >0.7720</td>\n",
       "      <td id=\"T_e836a_row3_col2\" class=\"data row3 col2\" >0.8677</td>\n",
       "      <td id=\"T_e836a_row3_col3\" class=\"data row3 col3\" >0.7695</td>\n",
       "      <td id=\"T_e836a_row3_col4\" class=\"data row3 col4\" >0.7734</td>\n",
       "      <td id=\"T_e836a_row3_col5\" class=\"data row3 col5\" >0.7714</td>\n",
       "      <td id=\"T_e836a_row3_col6\" class=\"data row3 col6\" >0.5440</td>\n",
       "      <td id=\"T_e836a_row3_col7\" class=\"data row3 col7\" >0.5440</td>\n",
       "      <td id=\"T_e836a_row3_col8\" class=\"data row3 col8\" >1.8290</td>\n",
       "    </tr>\n",
       "    <tr>\n",
       "      <th id=\"T_e836a_level0_row4\" class=\"row_heading level0 row4\" >ridge</th>\n",
       "      <td id=\"T_e836a_row4_col0\" class=\"data row4 col0\" >Ridge Classifier</td>\n",
       "      <td id=\"T_e836a_row4_col1\" class=\"data row4 col1\" >0.7719</td>\n",
       "      <td id=\"T_e836a_row4_col2\" class=\"data row4 col2\" >0.0000</td>\n",
       "      <td id=\"T_e836a_row4_col3\" class=\"data row4 col3\" >0.7695</td>\n",
       "      <td id=\"T_e836a_row4_col4\" class=\"data row4 col4\" >0.7733</td>\n",
       "      <td id=\"T_e836a_row4_col5\" class=\"data row4 col5\" >0.7714</td>\n",
       "      <td id=\"T_e836a_row4_col6\" class=\"data row4 col6\" >0.5439</td>\n",
       "      <td id=\"T_e836a_row4_col7\" class=\"data row4 col7\" >0.5439</td>\n",
       "      <td id=\"T_e836a_row4_col8\" class=\"data row4 col8\" >0.6030</td>\n",
       "    </tr>\n",
       "    <tr>\n",
       "      <th id=\"T_e836a_level0_row5\" class=\"row_heading level0 row5\" >rf</th>\n",
       "      <td id=\"T_e836a_row5_col0\" class=\"data row5 col0\" >Random Forest Classifier</td>\n",
       "      <td id=\"T_e836a_row5_col1\" class=\"data row5 col1\" >0.7686</td>\n",
       "      <td id=\"T_e836a_row5_col2\" class=\"data row5 col2\" >0.8678</td>\n",
       "      <td id=\"T_e836a_row5_col3\" class=\"data row5 col3\" >0.7623</td>\n",
       "      <td id=\"T_e836a_row5_col4\" class=\"data row5 col4\" >0.7721</td>\n",
       "      <td id=\"T_e836a_row5_col5\" class=\"data row5 col5\" >0.7671</td>\n",
       "      <td id=\"T_e836a_row5_col6\" class=\"data row5 col6\" >0.5372</td>\n",
       "      <td id=\"T_e836a_row5_col7\" class=\"data row5 col7\" >0.5373</td>\n",
       "      <td id=\"T_e836a_row5_col8\" class=\"data row5 col8\" >53.2930</td>\n",
       "    </tr>\n",
       "    <tr>\n",
       "      <th id=\"T_e836a_level0_row6\" class=\"row_heading level0 row6\" >et</th>\n",
       "      <td id=\"T_e836a_row6_col0\" class=\"data row6 col0\" >Extra Trees Classifier</td>\n",
       "      <td id=\"T_e836a_row6_col1\" class=\"data row6 col1\" >0.7672</td>\n",
       "      <td id=\"T_e836a_row6_col2\" class=\"data row6 col2\" >0.8656</td>\n",
       "      <td id=\"T_e836a_row6_col3\" class=\"data row6 col3\" >0.7616</td>\n",
       "      <td id=\"T_e836a_row6_col4\" class=\"data row6 col4\" >0.7702</td>\n",
       "      <td id=\"T_e836a_row6_col5\" class=\"data row6 col5\" >0.7659</td>\n",
       "      <td id=\"T_e836a_row6_col6\" class=\"data row6 col6\" >0.5344</td>\n",
       "      <td id=\"T_e836a_row6_col7\" class=\"data row6 col7\" >0.5344</td>\n",
       "      <td id=\"T_e836a_row6_col8\" class=\"data row6 col8\" >45.1910</td>\n",
       "    </tr>\n",
       "    <tr>\n",
       "      <th id=\"T_e836a_level0_row7\" class=\"row_heading level0 row7\" >ada</th>\n",
       "      <td id=\"T_e836a_row7_col0\" class=\"data row7 col0\" >Ada Boost Classifier</td>\n",
       "      <td id=\"T_e836a_row7_col1\" class=\"data row7 col1\" >0.7631</td>\n",
       "      <td id=\"T_e836a_row7_col2\" class=\"data row7 col2\" >0.8642</td>\n",
       "      <td id=\"T_e836a_row7_col3\" class=\"data row7 col3\" >0.7598</td>\n",
       "      <td id=\"T_e836a_row7_col4\" class=\"data row7 col4\" >0.7658</td>\n",
       "      <td id=\"T_e836a_row7_col5\" class=\"data row7 col5\" >0.7621</td>\n",
       "      <td id=\"T_e836a_row7_col6\" class=\"data row7 col6\" >0.5262</td>\n",
       "      <td id=\"T_e836a_row7_col7\" class=\"data row7 col7\" >0.5272</td>\n",
       "      <td id=\"T_e836a_row7_col8\" class=\"data row7 col8\" >13.9880</td>\n",
       "    </tr>\n",
       "    <tr>\n",
       "      <th id=\"T_e836a_level0_row8\" class=\"row_heading level0 row8\" >qda</th>\n",
       "      <td id=\"T_e836a_row8_col0\" class=\"data row8 col0\" >Quadratic Discriminant Analysis</td>\n",
       "      <td id=\"T_e836a_row8_col1\" class=\"data row8 col1\" >0.7610</td>\n",
       "      <td id=\"T_e836a_row8_col2\" class=\"data row8 col2\" >0.8454</td>\n",
       "      <td id=\"T_e836a_row8_col3\" class=\"data row8 col3\" >0.7624</td>\n",
       "      <td id=\"T_e836a_row8_col4\" class=\"data row8 col4\" >0.7602</td>\n",
       "      <td id=\"T_e836a_row8_col5\" class=\"data row8 col5\" >0.7613</td>\n",
       "      <td id=\"T_e836a_row8_col6\" class=\"data row8 col6\" >0.5219</td>\n",
       "      <td id=\"T_e836a_row8_col7\" class=\"data row8 col7\" >0.5219</td>\n",
       "      <td id=\"T_e836a_row8_col8\" class=\"data row8 col8\" >1.1990</td>\n",
       "    </tr>\n",
       "    <tr>\n",
       "      <th id=\"T_e836a_level0_row9\" class=\"row_heading level0 row9\" >lr</th>\n",
       "      <td id=\"T_e836a_row9_col0\" class=\"data row9 col0\" >Logistic Regression</td>\n",
       "      <td id=\"T_e836a_row9_col1\" class=\"data row9 col1\" >0.7606</td>\n",
       "      <td id=\"T_e836a_row9_col2\" class=\"data row9 col2\" >0.8430</td>\n",
       "      <td id=\"T_e836a_row9_col3\" class=\"data row9 col3\" >0.7537</td>\n",
       "      <td id=\"T_e836a_row9_col4\" class=\"data row9 col4\" >0.7643</td>\n",
       "      <td id=\"T_e836a_row9_col5\" class=\"data row9 col5\" >0.7589</td>\n",
       "      <td id=\"T_e836a_row9_col6\" class=\"data row9 col6\" >0.5212</td>\n",
       "      <td id=\"T_e836a_row9_col7\" class=\"data row9 col7\" >0.5213</td>\n",
       "      <td id=\"T_e836a_row9_col8\" class=\"data row9 col8\" >24.1150</td>\n",
       "    </tr>\n",
       "    <tr>\n",
       "      <th id=\"T_e836a_level0_row10\" class=\"row_heading level0 row10\" >nb</th>\n",
       "      <td id=\"T_e836a_row10_col0\" class=\"data row10 col0\" >Naive Bayes</td>\n",
       "      <td id=\"T_e836a_row10_col1\" class=\"data row10 col1\" >0.7434</td>\n",
       "      <td id=\"T_e836a_row10_col2\" class=\"data row10 col2\" >0.8282</td>\n",
       "      <td id=\"T_e836a_row10_col3\" class=\"data row10 col3\" >0.7405</td>\n",
       "      <td id=\"T_e836a_row10_col4\" class=\"data row10 col4\" >0.7447</td>\n",
       "      <td id=\"T_e836a_row10_col5\" class=\"data row10 col5\" >0.7426</td>\n",
       "      <td id=\"T_e836a_row10_col6\" class=\"data row10 col6\" >0.4867</td>\n",
       "      <td id=\"T_e836a_row10_col7\" class=\"data row10 col7\" >0.4867</td>\n",
       "      <td id=\"T_e836a_row10_col8\" class=\"data row10 col8\" >0.5010</td>\n",
       "    </tr>\n",
       "    <tr>\n",
       "      <th id=\"T_e836a_level0_row11\" class=\"row_heading level0 row11\" >dt</th>\n",
       "      <td id=\"T_e836a_row11_col0\" class=\"data row11 col0\" >Decision Tree Classifier</td>\n",
       "      <td id=\"T_e836a_row11_col1\" class=\"data row11 col1\" >0.7078</td>\n",
       "      <td id=\"T_e836a_row11_col2\" class=\"data row11 col2\" >0.7078</td>\n",
       "      <td id=\"T_e836a_row11_col3\" class=\"data row11 col3\" >0.7087</td>\n",
       "      <td id=\"T_e836a_row11_col4\" class=\"data row11 col4\" >0.7074</td>\n",
       "      <td id=\"T_e836a_row11_col5\" class=\"data row11 col5\" >0.7081</td>\n",
       "      <td id=\"T_e836a_row11_col6\" class=\"data row11 col6\" >0.4156</td>\n",
       "      <td id=\"T_e836a_row11_col7\" class=\"data row11 col7\" >0.4156</td>\n",
       "      <td id=\"T_e836a_row11_col8\" class=\"data row11 col8\" >3.8840</td>\n",
       "    </tr>\n",
       "    <tr>\n",
       "      <th id=\"T_e836a_level0_row12\" class=\"row_heading level0 row12\" >svm</th>\n",
       "      <td id=\"T_e836a_row12_col0\" class=\"data row12 col0\" >SVM - Linear Kernel</td>\n",
       "      <td id=\"T_e836a_row12_col1\" class=\"data row12 col1\" >0.6626</td>\n",
       "      <td id=\"T_e836a_row12_col2\" class=\"data row12 col2\" >0.0000</td>\n",
       "      <td id=\"T_e836a_row12_col3\" class=\"data row12 col3\" >0.5944</td>\n",
       "      <td id=\"T_e836a_row12_col4\" class=\"data row12 col4\" >0.7376</td>\n",
       "      <td id=\"T_e836a_row12_col5\" class=\"data row12 col5\" >0.6220</td>\n",
       "      <td id=\"T_e836a_row12_col6\" class=\"data row12 col6\" >0.3251</td>\n",
       "      <td id=\"T_e836a_row12_col7\" class=\"data row12 col7\" >0.3668</td>\n",
       "      <td id=\"T_e836a_row12_col8\" class=\"data row12 col8\" >17.4540</td>\n",
       "    </tr>\n",
       "    <tr>\n",
       "      <th id=\"T_e836a_level0_row13\" class=\"row_heading level0 row13\" >knn</th>\n",
       "      <td id=\"T_e836a_row13_col0\" class=\"data row13 col0\" >K Neighbors Classifier</td>\n",
       "      <td id=\"T_e836a_row13_col1\" class=\"data row13 col1\" >0.5625</td>\n",
       "      <td id=\"T_e836a_row13_col2\" class=\"data row13 col2\" >0.5877</td>\n",
       "      <td id=\"T_e836a_row13_col3\" class=\"data row13 col3\" >0.5630</td>\n",
       "      <td id=\"T_e836a_row13_col4\" class=\"data row13 col4\" >0.5625</td>\n",
       "      <td id=\"T_e836a_row13_col5\" class=\"data row13 col5\" >0.5627</td>\n",
       "      <td id=\"T_e836a_row13_col6\" class=\"data row13 col6\" >0.1250</td>\n",
       "      <td id=\"T_e836a_row13_col7\" class=\"data row13 col7\" >0.1250</td>\n",
       "      <td id=\"T_e836a_row13_col8\" class=\"data row13 col8\" >46.1080</td>\n",
       "    </tr>\n",
       "    <tr>\n",
       "      <th id=\"T_e836a_level0_row14\" class=\"row_heading level0 row14\" >dummy</th>\n",
       "      <td id=\"T_e836a_row14_col0\" class=\"data row14 col0\" >Dummy Classifier</td>\n",
       "      <td id=\"T_e836a_row14_col1\" class=\"data row14 col1\" >0.5000</td>\n",
       "      <td id=\"T_e836a_row14_col2\" class=\"data row14 col2\" >0.5000</td>\n",
       "      <td id=\"T_e836a_row14_col3\" class=\"data row14 col3\" >0.5000</td>\n",
       "      <td id=\"T_e836a_row14_col4\" class=\"data row14 col4\" >0.2500</td>\n",
       "      <td id=\"T_e836a_row14_col5\" class=\"data row14 col5\" >0.3333</td>\n",
       "      <td id=\"T_e836a_row14_col6\" class=\"data row14 col6\" >0.0000</td>\n",
       "      <td id=\"T_e836a_row14_col7\" class=\"data row14 col7\" >0.0000</td>\n",
       "      <td id=\"T_e836a_row14_col8\" class=\"data row14 col8\" >0.3660</td>\n",
       "    </tr>\n",
       "  </tbody>\n",
       "</table>\n"
      ],
      "text/plain": [
       "<pandas.io.formats.style.Styler at 0x7f2a29f15220>"
      ]
     },
     "metadata": {},
     "output_type": "display_data"
    },
    {
     "data": {
      "application/vnd.jupyter.widget-view+json": {
       "model_id": "f259c9a648fa4bfcaad5981c49367bd1",
       "version_major": 2,
       "version_minor": 0
      },
      "text/plain": [
       "Processing:   0%|          | 0/65 [00:00<?, ?it/s]"
      ]
     },
     "metadata": {
      "application/vnd.jupyter.widget-view+json": {
       "colab": {
        "custom_widget_manager": {
         "url": "https://ssl.gstatic.com/colaboratory-static/widgets/colab-cdn-widget-manager/b3e629b1971e1542/manager.min.js"
        }
       }
      }
     },
     "output_type": "display_data"
    },
    {
     "data": {
      "text/html": [],
      "text/plain": [
       "<IPython.core.display.HTML object>"
      ]
     },
     "metadata": {},
     "output_type": "display_data"
    }
   ],
   "source": [
    "best = compare_models()"
   ]
  },
  {
   "cell_type": "code",
   "execution_count": 12,
   "metadata": {
    "colab": {
     "base_uri": "https://localhost:8080/"
    },
    "id": "alEyVhI6Lsud",
    "outputId": "0d16921b-78cb-4873-a271-b64058396a98"
   },
   "outputs": [
    {
     "name": "stdout",
     "output_type": "stream",
     "text": [
      "LGBMClassifier(boosting_type='gbdt', class_weight=None, colsample_bytree=1.0,\n",
      "               importance_type='split', learning_rate=0.1, max_depth=-1,\n",
      "               min_child_samples=20, min_child_weight=0.001, min_split_gain=0.0,\n",
      "               n_estimators=100, n_jobs=-1, num_leaves=31, objective=None,\n",
      "               random_state=123, reg_alpha=0.0, reg_lambda=0.0, silent='warn',\n",
      "               subsample=1.0, subsample_for_bin=200000, subsample_freq=0)\n"
     ]
    }
   ],
   "source": [
    "print(best)"
   ]
  },
  {
   "cell_type": "markdown",
   "metadata": {
    "id": "zy3cmnmznkQ2"
   },
   "source": [
    "### Tune Model"
   ]
  },
  {
   "cell_type": "code",
   "execution_count": 13,
   "metadata": {
    "colab": {
     "base_uri": "https://localhost:8080/",
     "height": 493,
     "referenced_widgets": [
      "c3cec5010b8c4e2f808dae6a93abac81",
      "1af0f4ccfb0844dfa807c58ef98d64d3",
      "e5f2e1842c0e46118f26fe4f4ec729e1",
      "1dd7bef754d84739bb9d7b505b5565c0",
      "159d1a9880894529b2cfca59b8fa123c",
      "82857d4063a74a27a0aff80a513ab066",
      "3d00d7216545405996eb0defa8634c69",
      "8c0bff562c5347d180ba3241c9c31b76",
      "35d1e3471df54bf387a376918bacfa43",
      "6a7e9339330844ff93198544e883594f",
      "fe6a8bf24d664f4882670d00e2eec4e7"
     ]
    },
    "id": "M2neHn4TnirN",
    "outputId": "bf1fd5fe-931f-433d-d8ec-9a5dccc245a1"
   },
   "outputs": [
    {
     "data": {
      "text/html": [],
      "text/plain": [
       "<IPython.core.display.HTML object>"
      ]
     },
     "metadata": {},
     "output_type": "display_data"
    },
    {
     "data": {
      "text/html": [
       "<style type=\"text/css\">\n",
       "#T_30846_row10_col0, #T_30846_row10_col1, #T_30846_row10_col2, #T_30846_row10_col3, #T_30846_row10_col4, #T_30846_row10_col5, #T_30846_row10_col6 {\n",
       "  background: yellow;\n",
       "}\n",
       "</style>\n",
       "<table id=\"T_30846\" class=\"dataframe\">\n",
       "  <thead>\n",
       "    <tr>\n",
       "      <th class=\"blank level0\" >&nbsp;</th>\n",
       "      <th id=\"T_30846_level0_col0\" class=\"col_heading level0 col0\" >Accuracy</th>\n",
       "      <th id=\"T_30846_level0_col1\" class=\"col_heading level0 col1\" >AUC</th>\n",
       "      <th id=\"T_30846_level0_col2\" class=\"col_heading level0 col2\" >Recall</th>\n",
       "      <th id=\"T_30846_level0_col3\" class=\"col_heading level0 col3\" >Prec.</th>\n",
       "      <th id=\"T_30846_level0_col4\" class=\"col_heading level0 col4\" >F1</th>\n",
       "      <th id=\"T_30846_level0_col5\" class=\"col_heading level0 col5\" >Kappa</th>\n",
       "      <th id=\"T_30846_level0_col6\" class=\"col_heading level0 col6\" >MCC</th>\n",
       "    </tr>\n",
       "    <tr>\n",
       "      <th class=\"index_name level0\" >Fold</th>\n",
       "      <th class=\"blank col0\" >&nbsp;</th>\n",
       "      <th class=\"blank col1\" >&nbsp;</th>\n",
       "      <th class=\"blank col2\" >&nbsp;</th>\n",
       "      <th class=\"blank col3\" >&nbsp;</th>\n",
       "      <th class=\"blank col4\" >&nbsp;</th>\n",
       "      <th class=\"blank col5\" >&nbsp;</th>\n",
       "      <th class=\"blank col6\" >&nbsp;</th>\n",
       "    </tr>\n",
       "  </thead>\n",
       "  <tbody>\n",
       "    <tr>\n",
       "      <th id=\"T_30846_level0_row0\" class=\"row_heading level0 row0\" >0</th>\n",
       "      <td id=\"T_30846_row0_col0\" class=\"data row0 col0\" >0.7777</td>\n",
       "      <td id=\"T_30846_row0_col1\" class=\"data row0 col1\" >0.8754</td>\n",
       "      <td id=\"T_30846_row0_col2\" class=\"data row0 col2\" >0.7725</td>\n",
       "      <td id=\"T_30846_row0_col3\" class=\"data row0 col3\" >0.7807</td>\n",
       "      <td id=\"T_30846_row0_col4\" class=\"data row0 col4\" >0.7766</td>\n",
       "      <td id=\"T_30846_row0_col5\" class=\"data row0 col5\" >0.5555</td>\n",
       "      <td id=\"T_30846_row0_col6\" class=\"data row0 col6\" >0.5555</td>\n",
       "    </tr>\n",
       "    <tr>\n",
       "      <th id=\"T_30846_level0_row1\" class=\"row_heading level0 row1\" >1</th>\n",
       "      <td id=\"T_30846_row1_col0\" class=\"data row1 col0\" >0.7785</td>\n",
       "      <td id=\"T_30846_row1_col1\" class=\"data row1 col1\" >0.8777</td>\n",
       "      <td id=\"T_30846_row1_col2\" class=\"data row1 col2\" >0.7759</td>\n",
       "      <td id=\"T_30846_row1_col3\" class=\"data row1 col3\" >0.7799</td>\n",
       "      <td id=\"T_30846_row1_col4\" class=\"data row1 col4\" >0.7779</td>\n",
       "      <td id=\"T_30846_row1_col5\" class=\"data row1 col5\" >0.5569</td>\n",
       "      <td id=\"T_30846_row1_col6\" class=\"data row1 col6\" >0.5569</td>\n",
       "    </tr>\n",
       "    <tr>\n",
       "      <th id=\"T_30846_level0_row2\" class=\"row_heading level0 row2\" >2</th>\n",
       "      <td id=\"T_30846_row2_col0\" class=\"data row2 col0\" >0.7772</td>\n",
       "      <td id=\"T_30846_row2_col1\" class=\"data row2 col1\" >0.8746</td>\n",
       "      <td id=\"T_30846_row2_col2\" class=\"data row2 col2\" >0.7787</td>\n",
       "      <td id=\"T_30846_row2_col3\" class=\"data row2 col3\" >0.7763</td>\n",
       "      <td id=\"T_30846_row2_col4\" class=\"data row2 col4\" >0.7775</td>\n",
       "      <td id=\"T_30846_row2_col5\" class=\"data row2 col5\" >0.5544</td>\n",
       "      <td id=\"T_30846_row2_col6\" class=\"data row2 col6\" >0.5544</td>\n",
       "    </tr>\n",
       "    <tr>\n",
       "      <th id=\"T_30846_level0_row3\" class=\"row_heading level0 row3\" >3</th>\n",
       "      <td id=\"T_30846_row3_col0\" class=\"data row3 col0\" >0.7796</td>\n",
       "      <td id=\"T_30846_row3_col1\" class=\"data row3 col1\" >0.8776</td>\n",
       "      <td id=\"T_30846_row3_col2\" class=\"data row3 col2\" >0.7852</td>\n",
       "      <td id=\"T_30846_row3_col3\" class=\"data row3 col3\" >0.7764</td>\n",
       "      <td id=\"T_30846_row3_col4\" class=\"data row3 col4\" >0.7808</td>\n",
       "      <td id=\"T_30846_row3_col5\" class=\"data row3 col5\" >0.5591</td>\n",
       "      <td id=\"T_30846_row3_col6\" class=\"data row3 col6\" >0.5591</td>\n",
       "    </tr>\n",
       "    <tr>\n",
       "      <th id=\"T_30846_level0_row4\" class=\"row_heading level0 row4\" >4</th>\n",
       "      <td id=\"T_30846_row4_col0\" class=\"data row4 col0\" >0.7820</td>\n",
       "      <td id=\"T_30846_row4_col1\" class=\"data row4 col1\" >0.8791</td>\n",
       "      <td id=\"T_30846_row4_col2\" class=\"data row4 col2\" >0.7817</td>\n",
       "      <td id=\"T_30846_row4_col3\" class=\"data row4 col3\" >0.7822</td>\n",
       "      <td id=\"T_30846_row4_col4\" class=\"data row4 col4\" >0.7820</td>\n",
       "      <td id=\"T_30846_row4_col5\" class=\"data row4 col5\" >0.5641</td>\n",
       "      <td id=\"T_30846_row4_col6\" class=\"data row4 col6\" >0.5641</td>\n",
       "    </tr>\n",
       "    <tr>\n",
       "      <th id=\"T_30846_level0_row5\" class=\"row_heading level0 row5\" >5</th>\n",
       "      <td id=\"T_30846_row5_col0\" class=\"data row5 col0\" >0.7801</td>\n",
       "      <td id=\"T_30846_row5_col1\" class=\"data row5 col1\" >0.8783</td>\n",
       "      <td id=\"T_30846_row5_col2\" class=\"data row5 col2\" >0.7819</td>\n",
       "      <td id=\"T_30846_row5_col3\" class=\"data row5 col3\" >0.7791</td>\n",
       "      <td id=\"T_30846_row5_col4\" class=\"data row5 col4\" >0.7805</td>\n",
       "      <td id=\"T_30846_row5_col5\" class=\"data row5 col5\" >0.5602</td>\n",
       "      <td id=\"T_30846_row5_col6\" class=\"data row5 col6\" >0.5602</td>\n",
       "    </tr>\n",
       "    <tr>\n",
       "      <th id=\"T_30846_level0_row6\" class=\"row_heading level0 row6\" >6</th>\n",
       "      <td id=\"T_30846_row6_col0\" class=\"data row6 col0\" >0.7812</td>\n",
       "      <td id=\"T_30846_row6_col1\" class=\"data row6 col1\" >0.8780</td>\n",
       "      <td id=\"T_30846_row6_col2\" class=\"data row6 col2\" >0.7781</td>\n",
       "      <td id=\"T_30846_row6_col3\" class=\"data row6 col3\" >0.7829</td>\n",
       "      <td id=\"T_30846_row6_col4\" class=\"data row6 col4\" >0.7805</td>\n",
       "      <td id=\"T_30846_row6_col5\" class=\"data row6 col5\" >0.5623</td>\n",
       "      <td id=\"T_30846_row6_col6\" class=\"data row6 col6\" >0.5623</td>\n",
       "    </tr>\n",
       "    <tr>\n",
       "      <th id=\"T_30846_level0_row7\" class=\"row_heading level0 row7\" >7</th>\n",
       "      <td id=\"T_30846_row7_col0\" class=\"data row7 col0\" >0.7830</td>\n",
       "      <td id=\"T_30846_row7_col1\" class=\"data row7 col1\" >0.8815</td>\n",
       "      <td id=\"T_30846_row7_col2\" class=\"data row7 col2\" >0.7854</td>\n",
       "      <td id=\"T_30846_row7_col3\" class=\"data row7 col3\" >0.7816</td>\n",
       "      <td id=\"T_30846_row7_col4\" class=\"data row7 col4\" >0.7835</td>\n",
       "      <td id=\"T_30846_row7_col5\" class=\"data row7 col5\" >0.5660</td>\n",
       "      <td id=\"T_30846_row7_col6\" class=\"data row7 col6\" >0.5660</td>\n",
       "    </tr>\n",
       "    <tr>\n",
       "      <th id=\"T_30846_level0_row8\" class=\"row_heading level0 row8\" >8</th>\n",
       "      <td id=\"T_30846_row8_col0\" class=\"data row8 col0\" >0.7706</td>\n",
       "      <td id=\"T_30846_row8_col1\" class=\"data row8 col1\" >0.8716</td>\n",
       "      <td id=\"T_30846_row8_col2\" class=\"data row8 col2\" >0.7728</td>\n",
       "      <td id=\"T_30846_row8_col3\" class=\"data row8 col3\" >0.7694</td>\n",
       "      <td id=\"T_30846_row8_col4\" class=\"data row8 col4\" >0.7711</td>\n",
       "      <td id=\"T_30846_row8_col5\" class=\"data row8 col5\" >0.5411</td>\n",
       "      <td id=\"T_30846_row8_col6\" class=\"data row8 col6\" >0.5411</td>\n",
       "    </tr>\n",
       "    <tr>\n",
       "      <th id=\"T_30846_level0_row9\" class=\"row_heading level0 row9\" >9</th>\n",
       "      <td id=\"T_30846_row9_col0\" class=\"data row9 col0\" >0.7792</td>\n",
       "      <td id=\"T_30846_row9_col1\" class=\"data row9 col1\" >0.8777</td>\n",
       "      <td id=\"T_30846_row9_col2\" class=\"data row9 col2\" >0.7810</td>\n",
       "      <td id=\"T_30846_row9_col3\" class=\"data row9 col3\" >0.7782</td>\n",
       "      <td id=\"T_30846_row9_col4\" class=\"data row9 col4\" >0.7796</td>\n",
       "      <td id=\"T_30846_row9_col5\" class=\"data row9 col5\" >0.5583</td>\n",
       "      <td id=\"T_30846_row9_col6\" class=\"data row9 col6\" >0.5583</td>\n",
       "    </tr>\n",
       "    <tr>\n",
       "      <th id=\"T_30846_level0_row10\" class=\"row_heading level0 row10\" >Mean</th>\n",
       "      <td id=\"T_30846_row10_col0\" class=\"data row10 col0\" >0.7789</td>\n",
       "      <td id=\"T_30846_row10_col1\" class=\"data row10 col1\" >0.8772</td>\n",
       "      <td id=\"T_30846_row10_col2\" class=\"data row10 col2\" >0.7793</td>\n",
       "      <td id=\"T_30846_row10_col3\" class=\"data row10 col3\" >0.7787</td>\n",
       "      <td id=\"T_30846_row10_col4\" class=\"data row10 col4\" >0.7790</td>\n",
       "      <td id=\"T_30846_row10_col5\" class=\"data row10 col5\" >0.5578</td>\n",
       "      <td id=\"T_30846_row10_col6\" class=\"data row10 col6\" >0.5578</td>\n",
       "    </tr>\n",
       "    <tr>\n",
       "      <th id=\"T_30846_level0_row11\" class=\"row_heading level0 row11\" >Std</th>\n",
       "      <td id=\"T_30846_row11_col0\" class=\"data row11 col0\" >0.0033</td>\n",
       "      <td id=\"T_30846_row11_col1\" class=\"data row11 col1\" >0.0026</td>\n",
       "      <td id=\"T_30846_row11_col2\" class=\"data row11 col2\" >0.0043</td>\n",
       "      <td id=\"T_30846_row11_col3\" class=\"data row11 col3\" >0.0038</td>\n",
       "      <td id=\"T_30846_row11_col4\" class=\"data row11 col4\" >0.0033</td>\n",
       "      <td id=\"T_30846_row11_col5\" class=\"data row11 col5\" >0.0066</td>\n",
       "      <td id=\"T_30846_row11_col6\" class=\"data row11 col6\" >0.0066</td>\n",
       "    </tr>\n",
       "  </tbody>\n",
       "</table>\n"
      ],
      "text/plain": [
       "<pandas.io.formats.style.Styler at 0x7f2a29088730>"
      ]
     },
     "metadata": {},
     "output_type": "display_data"
    },
    {
     "data": {
      "application/vnd.jupyter.widget-view+json": {
       "model_id": "c3cec5010b8c4e2f808dae6a93abac81",
       "version_major": 2,
       "version_minor": 0
      },
      "text/plain": [
       "Processing:   0%|          | 0/7 [00:00<?, ?it/s]"
      ]
     },
     "metadata": {
      "application/vnd.jupyter.widget-view+json": {
       "colab": {
        "custom_widget_manager": {
         "url": "https://ssl.gstatic.com/colaboratory-static/widgets/colab-cdn-widget-manager/b3e629b1971e1542/manager.min.js"
        }
       }
      }
     },
     "output_type": "display_data"
    },
    {
     "name": "stdout",
     "output_type": "stream",
     "text": [
      "Fitting 10 folds for each of 50 candidates, totalling 500 fits\n"
     ]
    },
    {
     "data": {
      "text/html": [],
      "text/plain": [
       "<IPython.core.display.HTML object>"
      ]
     },
     "metadata": {},
     "output_type": "display_data"
    },
    {
     "name": "stdout",
     "output_type": "stream",
     "text": [
      "Original model was better than the tuned model, hence it will be returned. NOTE: The display metrics are for the tuned model (not the original one).\n"
     ]
    }
   ],
   "source": [
    "# Tune the best model using grid search\n",
    "tuned = tune_model(best, n_iter=50)"
   ]
  },
  {
   "cell_type": "code",
   "execution_count": 14,
   "metadata": {
    "colab": {
     "base_uri": "https://localhost:8080/"
    },
    "id": "rwvJwps8ZSya",
    "outputId": "2ee5850b-f818-4855-f547-0bb4ecf05d7f"
   },
   "outputs": [
    {
     "name": "stdout",
     "output_type": "stream",
     "text": [
      "LGBMClassifier(boosting_type='gbdt', class_weight=None, colsample_bytree=1.0,\n",
      "               importance_type='split', learning_rate=0.1, max_depth=-1,\n",
      "               min_child_samples=20, min_child_weight=0.001, min_split_gain=0.0,\n",
      "               n_estimators=100, n_jobs=-1, num_leaves=31, objective=None,\n",
      "               random_state=123, reg_alpha=0.0, reg_lambda=0.0, silent='warn',\n",
      "               subsample=1.0, subsample_for_bin=200000, subsample_freq=0)\n"
     ]
    }
   ],
   "source": [
    "print(tuned)"
   ]
  },
  {
   "cell_type": "markdown",
   "metadata": {
    "id": "W5XbWStCbRuH"
   },
   "source": [
    "### Ensemble Model"
   ]
  },
  {
   "cell_type": "code",
   "execution_count": 16,
   "metadata": {
    "colab": {
     "base_uri": "https://localhost:8080/",
     "height": 300,
     "referenced_widgets": [
      "151778a8a6764b138efbc744833fb867",
      "83dab811f07a417f8b018af476ac67a0",
      "b5b6461a77de486c857ef2ee12747e2d",
      "1bbd8b38f9fe4ba5bdb516267703d218",
      "3d2557d045574852b604b38b01cf76e8",
      "bf36ad1732104812b9583b4bdc4babbc",
      "7d3c457bdd0442ee863d4aa110c0e84b",
      "27cf2666570a4962bc619ad524a38bf2",
      "72ad839a87244cd18237070e66945f6c",
      "302638ba71f6475596cecbcf8ca95a1f",
      "d0c55bfe6fcf45eaab42dcf7e1af695c"
     ]
    },
    "id": "vU-lE4a0aG4G",
    "outputId": "f74aac3e-1e55-4451-df62-963ad36bfa82"
   },
   "outputs": [
    {
     "data": {
      "text/html": [],
      "text/plain": [
       "<IPython.core.display.HTML object>"
      ]
     },
     "metadata": {},
     "output_type": "display_data"
    },
    {
     "data": {
      "text/html": [
       "<style type=\"text/css\">\n",
       "#T_a161a_row5_col0, #T_a161a_row5_col1, #T_a161a_row5_col2, #T_a161a_row5_col3, #T_a161a_row5_col4, #T_a161a_row5_col5, #T_a161a_row5_col6 {\n",
       "  background: yellow;\n",
       "}\n",
       "</style>\n",
       "<table id=\"T_a161a\" class=\"dataframe\">\n",
       "  <thead>\n",
       "    <tr>\n",
       "      <th class=\"blank level0\" >&nbsp;</th>\n",
       "      <th id=\"T_a161a_level0_col0\" class=\"col_heading level0 col0\" >Accuracy</th>\n",
       "      <th id=\"T_a161a_level0_col1\" class=\"col_heading level0 col1\" >AUC</th>\n",
       "      <th id=\"T_a161a_level0_col2\" class=\"col_heading level0 col2\" >Recall</th>\n",
       "      <th id=\"T_a161a_level0_col3\" class=\"col_heading level0 col3\" >Prec.</th>\n",
       "      <th id=\"T_a161a_level0_col4\" class=\"col_heading level0 col4\" >F1</th>\n",
       "      <th id=\"T_a161a_level0_col5\" class=\"col_heading level0 col5\" >Kappa</th>\n",
       "      <th id=\"T_a161a_level0_col6\" class=\"col_heading level0 col6\" >MCC</th>\n",
       "    </tr>\n",
       "    <tr>\n",
       "      <th class=\"index_name level0\" >Fold</th>\n",
       "      <th class=\"blank col0\" >&nbsp;</th>\n",
       "      <th class=\"blank col1\" >&nbsp;</th>\n",
       "      <th class=\"blank col2\" >&nbsp;</th>\n",
       "      <th class=\"blank col3\" >&nbsp;</th>\n",
       "      <th class=\"blank col4\" >&nbsp;</th>\n",
       "      <th class=\"blank col5\" >&nbsp;</th>\n",
       "      <th class=\"blank col6\" >&nbsp;</th>\n",
       "    </tr>\n",
       "  </thead>\n",
       "  <tbody>\n",
       "    <tr>\n",
       "      <th id=\"T_a161a_level0_row0\" class=\"row_heading level0 row0\" >0</th>\n",
       "      <td id=\"T_a161a_row0_col0\" class=\"data row0 col0\" >0.7781</td>\n",
       "      <td id=\"T_a161a_row0_col1\" class=\"data row0 col1\" >0.8772</td>\n",
       "      <td id=\"T_a161a_row0_col2\" class=\"data row0 col2\" >0.7758</td>\n",
       "      <td id=\"T_a161a_row0_col3\" class=\"data row0 col3\" >0.7794</td>\n",
       "      <td id=\"T_a161a_row0_col4\" class=\"data row0 col4\" >0.7776</td>\n",
       "      <td id=\"T_a161a_row0_col5\" class=\"data row0 col5\" >0.5562</td>\n",
       "      <td id=\"T_a161a_row0_col6\" class=\"data row0 col6\" >0.5562</td>\n",
       "    </tr>\n",
       "    <tr>\n",
       "      <th id=\"T_a161a_level0_row1\" class=\"row_heading level0 row1\" >1</th>\n",
       "      <td id=\"T_a161a_row1_col0\" class=\"data row1 col0\" >0.7802</td>\n",
       "      <td id=\"T_a161a_row1_col1\" class=\"data row1 col1\" >0.8774</td>\n",
       "      <td id=\"T_a161a_row1_col2\" class=\"data row1 col2\" >0.7786</td>\n",
       "      <td id=\"T_a161a_row1_col3\" class=\"data row1 col3\" >0.7811</td>\n",
       "      <td id=\"T_a161a_row1_col4\" class=\"data row1 col4\" >0.7799</td>\n",
       "      <td id=\"T_a161a_row1_col5\" class=\"data row1 col5\" >0.5604</td>\n",
       "      <td id=\"T_a161a_row1_col6\" class=\"data row1 col6\" >0.5604</td>\n",
       "    </tr>\n",
       "    <tr>\n",
       "      <th id=\"T_a161a_level0_row2\" class=\"row_heading level0 row2\" >2</th>\n",
       "      <td id=\"T_a161a_row2_col0\" class=\"data row2 col0\" >0.7806</td>\n",
       "      <td id=\"T_a161a_row2_col1\" class=\"data row2 col1\" >0.8787</td>\n",
       "      <td id=\"T_a161a_row2_col2\" class=\"data row2 col2\" >0.7776</td>\n",
       "      <td id=\"T_a161a_row2_col3\" class=\"data row2 col3\" >0.7824</td>\n",
       "      <td id=\"T_a161a_row2_col4\" class=\"data row2 col4\" >0.7800</td>\n",
       "      <td id=\"T_a161a_row2_col5\" class=\"data row2 col5\" >0.5613</td>\n",
       "      <td id=\"T_a161a_row2_col6\" class=\"data row2 col6\" >0.5613</td>\n",
       "    </tr>\n",
       "    <tr>\n",
       "      <th id=\"T_a161a_level0_row3\" class=\"row_heading level0 row3\" >3</th>\n",
       "      <td id=\"T_a161a_row3_col0\" class=\"data row3 col0\" >0.7820</td>\n",
       "      <td id=\"T_a161a_row3_col1\" class=\"data row3 col1\" >0.8801</td>\n",
       "      <td id=\"T_a161a_row3_col2\" class=\"data row3 col2\" >0.7832</td>\n",
       "      <td id=\"T_a161a_row3_col3\" class=\"data row3 col3\" >0.7813</td>\n",
       "      <td id=\"T_a161a_row3_col4\" class=\"data row3 col4\" >0.7822</td>\n",
       "      <td id=\"T_a161a_row3_col5\" class=\"data row3 col5\" >0.5640</td>\n",
       "      <td id=\"T_a161a_row3_col6\" class=\"data row3 col6\" >0.5640</td>\n",
       "    </tr>\n",
       "    <tr>\n",
       "      <th id=\"T_a161a_level0_row4\" class=\"row_heading level0 row4\" >4</th>\n",
       "      <td id=\"T_a161a_row4_col0\" class=\"data row4 col0\" >0.7748</td>\n",
       "      <td id=\"T_a161a_row4_col1\" class=\"data row4 col1\" >0.8746</td>\n",
       "      <td id=\"T_a161a_row4_col2\" class=\"data row4 col2\" >0.7756</td>\n",
       "      <td id=\"T_a161a_row4_col3\" class=\"data row4 col3\" >0.7744</td>\n",
       "      <td id=\"T_a161a_row4_col4\" class=\"data row4 col4\" >0.7750</td>\n",
       "      <td id=\"T_a161a_row4_col5\" class=\"data row4 col5\" >0.5497</td>\n",
       "      <td id=\"T_a161a_row4_col6\" class=\"data row4 col6\" >0.5497</td>\n",
       "    </tr>\n",
       "    <tr>\n",
       "      <th id=\"T_a161a_level0_row5\" class=\"row_heading level0 row5\" >Mean</th>\n",
       "      <td id=\"T_a161a_row5_col0\" class=\"data row5 col0\" >0.7792</td>\n",
       "      <td id=\"T_a161a_row5_col1\" class=\"data row5 col1\" >0.8776</td>\n",
       "      <td id=\"T_a161a_row5_col2\" class=\"data row5 col2\" >0.7782</td>\n",
       "      <td id=\"T_a161a_row5_col3\" class=\"data row5 col3\" >0.7797</td>\n",
       "      <td id=\"T_a161a_row5_col4\" class=\"data row5 col4\" >0.7789</td>\n",
       "      <td id=\"T_a161a_row5_col5\" class=\"data row5 col5\" >0.5583</td>\n",
       "      <td id=\"T_a161a_row5_col6\" class=\"data row5 col6\" >0.5583</td>\n",
       "    </tr>\n",
       "    <tr>\n",
       "      <th id=\"T_a161a_level0_row6\" class=\"row_heading level0 row6\" >Std</th>\n",
       "      <td id=\"T_a161a_row6_col0\" class=\"data row6 col0\" >0.0025</td>\n",
       "      <td id=\"T_a161a_row6_col1\" class=\"data row6 col1\" >0.0018</td>\n",
       "      <td id=\"T_a161a_row6_col2\" class=\"data row6 col2\" >0.0028</td>\n",
       "      <td id=\"T_a161a_row6_col3\" class=\"data row6 col3\" >0.0028</td>\n",
       "      <td id=\"T_a161a_row6_col4\" class=\"data row6 col4\" >0.0024</td>\n",
       "      <td id=\"T_a161a_row6_col5\" class=\"data row6 col5\" >0.0050</td>\n",
       "      <td id=\"T_a161a_row6_col6\" class=\"data row6 col6\" >0.0050</td>\n",
       "    </tr>\n",
       "  </tbody>\n",
       "</table>\n"
      ],
      "text/plain": [
       "<pandas.io.formats.style.Styler at 0x7f2a6d416ee0>"
      ]
     },
     "metadata": {},
     "output_type": "display_data"
    },
    {
     "data": {
      "application/vnd.jupyter.widget-view+json": {
       "model_id": "151778a8a6764b138efbc744833fb867",
       "version_major": 2,
       "version_minor": 0
      },
      "text/plain": [
       "Processing:   0%|          | 0/6 [00:00<?, ?it/s]"
      ]
     },
     "metadata": {
      "application/vnd.jupyter.widget-view+json": {
       "colab": {
        "custom_widget_manager": {
         "url": "https://ssl.gstatic.com/colaboratory-static/widgets/colab-cdn-widget-manager/b3e629b1971e1542/manager.min.js"
        }
       }
      }
     },
     "output_type": "display_data"
    },
    {
     "data": {
      "text/html": [],
      "text/plain": [
       "<IPython.core.display.HTML object>"
      ]
     },
     "metadata": {},
     "output_type": "display_data"
    }
   ],
   "source": [
    "# Create an ensemble model of LightGBM and decision tree models\n",
    "ensemble = ensemble_model(best, fold=5)"
   ]
  },
  {
   "cell_type": "code",
   "execution_count": 17,
   "metadata": {
    "colab": {
     "base_uri": "https://localhost:8080/"
    },
    "id": "i_ODlvB5ab6A",
    "outputId": "eb53d4b8-3cda-4b5d-b9a5-713601a5540e"
   },
   "outputs": [
    {
     "name": "stdout",
     "output_type": "stream",
     "text": [
      "BaggingClassifier(base_estimator='deprecated', bootstrap=True,\n",
      "                  bootstrap_features=False,\n",
      "                  estimator=LGBMClassifier(boosting_type='gbdt',\n",
      "                                           class_weight=None,\n",
      "                                           colsample_bytree=1.0,\n",
      "                                           importance_type='split',\n",
      "                                           learning_rate=0.1, max_depth=-1,\n",
      "                                           min_child_samples=20,\n",
      "                                           min_child_weight=0.001,\n",
      "                                           min_split_gain=0.0, n_estimators=100,\n",
      "                                           n_jobs=-1, num_leaves=31,\n",
      "                                           objective=None, random_state=123,\n",
      "                                           reg_alpha=0.0, reg_lambda=0.0,\n",
      "                                           silent='warn', subsample=1.0,\n",
      "                                           subsample_for_bin=200000,\n",
      "                                           subsample_freq=0),\n",
      "                  max_features=1.0, max_samples=1.0, n_estimators=10,\n",
      "                  n_jobs=None, oob_score=False, random_state=123, verbose=0,\n",
      "                  warm_start=False)\n"
     ]
    }
   ],
   "source": [
    "print(ensemble)"
   ]
  },
  {
   "cell_type": "markdown",
   "metadata": {
    "id": "uKz9T_Znbf5a"
   },
   "source": [
    "### Bagging"
   ]
  },
  {
   "cell_type": "code",
   "execution_count": 19,
   "metadata": {
    "colab": {
     "base_uri": "https://localhost:8080/",
     "height": 300,
     "referenced_widgets": [
      "141a8545b29243e489f9e786fe7d45b3",
      "3e2166506c054d65908563a0ca77e799",
      "a1aa3127c4c2491a98e29f5aa0cd348d",
      "86835edbcb4b47f2aced446d9d3a02b1",
      "2ceb2ed7086e4b82848c5d7752bbb860",
      "85127f41408940dd90744899919b17b6",
      "99c9cde1b1284d30b0fb911de19a7040",
      "cca69a61cfce4a1098c1ec269bb29f7d",
      "9b3f16859d7b44f387f3a5b0d75ff3f0",
      "559cfa18207845ec8aa687710966b0cd",
      "c7e06d02b4614848bbd78dd4e12eea26"
     ]
    },
    "id": "5S1TQOoPbN0c",
    "outputId": "7a2055ba-4613-410f-ab45-0bd93c0d9256"
   },
   "outputs": [
    {
     "data": {
      "text/html": [],
      "text/plain": [
       "<IPython.core.display.HTML object>"
      ]
     },
     "metadata": {},
     "output_type": "display_data"
    },
    {
     "data": {
      "text/html": [
       "<style type=\"text/css\">\n",
       "#T_8792d_row5_col0, #T_8792d_row5_col1, #T_8792d_row5_col2, #T_8792d_row5_col3, #T_8792d_row5_col4, #T_8792d_row5_col5, #T_8792d_row5_col6 {\n",
       "  background: yellow;\n",
       "}\n",
       "</style>\n",
       "<table id=\"T_8792d\" class=\"dataframe\">\n",
       "  <thead>\n",
       "    <tr>\n",
       "      <th class=\"blank level0\" >&nbsp;</th>\n",
       "      <th id=\"T_8792d_level0_col0\" class=\"col_heading level0 col0\" >Accuracy</th>\n",
       "      <th id=\"T_8792d_level0_col1\" class=\"col_heading level0 col1\" >AUC</th>\n",
       "      <th id=\"T_8792d_level0_col2\" class=\"col_heading level0 col2\" >Recall</th>\n",
       "      <th id=\"T_8792d_level0_col3\" class=\"col_heading level0 col3\" >Prec.</th>\n",
       "      <th id=\"T_8792d_level0_col4\" class=\"col_heading level0 col4\" >F1</th>\n",
       "      <th id=\"T_8792d_level0_col5\" class=\"col_heading level0 col5\" >Kappa</th>\n",
       "      <th id=\"T_8792d_level0_col6\" class=\"col_heading level0 col6\" >MCC</th>\n",
       "    </tr>\n",
       "    <tr>\n",
       "      <th class=\"index_name level0\" >Fold</th>\n",
       "      <th class=\"blank col0\" >&nbsp;</th>\n",
       "      <th class=\"blank col1\" >&nbsp;</th>\n",
       "      <th class=\"blank col2\" >&nbsp;</th>\n",
       "      <th class=\"blank col3\" >&nbsp;</th>\n",
       "      <th class=\"blank col4\" >&nbsp;</th>\n",
       "      <th class=\"blank col5\" >&nbsp;</th>\n",
       "      <th class=\"blank col6\" >&nbsp;</th>\n",
       "    </tr>\n",
       "  </thead>\n",
       "  <tbody>\n",
       "    <tr>\n",
       "      <th id=\"T_8792d_level0_row0\" class=\"row_heading level0 row0\" >0</th>\n",
       "      <td id=\"T_8792d_row0_col0\" class=\"data row0 col0\" >0.7784</td>\n",
       "      <td id=\"T_8792d_row0_col1\" class=\"data row0 col1\" >0.8772</td>\n",
       "      <td id=\"T_8792d_row0_col2\" class=\"data row0 col2\" >0.7782</td>\n",
       "      <td id=\"T_8792d_row0_col3\" class=\"data row0 col3\" >0.7785</td>\n",
       "      <td id=\"T_8792d_row0_col4\" class=\"data row0 col4\" >0.7784</td>\n",
       "      <td id=\"T_8792d_row0_col5\" class=\"data row0 col5\" >0.5568</td>\n",
       "      <td id=\"T_8792d_row0_col6\" class=\"data row0 col6\" >0.5568</td>\n",
       "    </tr>\n",
       "    <tr>\n",
       "      <th id=\"T_8792d_level0_row1\" class=\"row_heading level0 row1\" >1</th>\n",
       "      <td id=\"T_8792d_row1_col0\" class=\"data row1 col0\" >0.7805</td>\n",
       "      <td id=\"T_8792d_row1_col1\" class=\"data row1 col1\" >0.8773</td>\n",
       "      <td id=\"T_8792d_row1_col2\" class=\"data row1 col2\" >0.7810</td>\n",
       "      <td id=\"T_8792d_row1_col3\" class=\"data row1 col3\" >0.7802</td>\n",
       "      <td id=\"T_8792d_row1_col4\" class=\"data row1 col4\" >0.7806</td>\n",
       "      <td id=\"T_8792d_row1_col5\" class=\"data row1 col5\" >0.5610</td>\n",
       "      <td id=\"T_8792d_row1_col6\" class=\"data row1 col6\" >0.5610</td>\n",
       "    </tr>\n",
       "    <tr>\n",
       "      <th id=\"T_8792d_level0_row2\" class=\"row_heading level0 row2\" >2</th>\n",
       "      <td id=\"T_8792d_row2_col0\" class=\"data row2 col0\" >0.7813</td>\n",
       "      <td id=\"T_8792d_row2_col1\" class=\"data row2 col1\" >0.8784</td>\n",
       "      <td id=\"T_8792d_row2_col2\" class=\"data row2 col2\" >0.7783</td>\n",
       "      <td id=\"T_8792d_row2_col3\" class=\"data row2 col3\" >0.7830</td>\n",
       "      <td id=\"T_8792d_row2_col4\" class=\"data row2 col4\" >0.7806</td>\n",
       "      <td id=\"T_8792d_row2_col5\" class=\"data row2 col5\" >0.5626</td>\n",
       "      <td id=\"T_8792d_row2_col6\" class=\"data row2 col6\" >0.5626</td>\n",
       "    </tr>\n",
       "    <tr>\n",
       "      <th id=\"T_8792d_level0_row3\" class=\"row_heading level0 row3\" >3</th>\n",
       "      <td id=\"T_8792d_row3_col0\" class=\"data row3 col0\" >0.7818</td>\n",
       "      <td id=\"T_8792d_row3_col1\" class=\"data row3 col1\" >0.8802</td>\n",
       "      <td id=\"T_8792d_row3_col2\" class=\"data row3 col2\" >0.7817</td>\n",
       "      <td id=\"T_8792d_row3_col3\" class=\"data row3 col3\" >0.7818</td>\n",
       "      <td id=\"T_8792d_row3_col4\" class=\"data row3 col4\" >0.7817</td>\n",
       "      <td id=\"T_8792d_row3_col5\" class=\"data row3 col5\" >0.5635</td>\n",
       "      <td id=\"T_8792d_row3_col6\" class=\"data row3 col6\" >0.5635</td>\n",
       "    </tr>\n",
       "    <tr>\n",
       "      <th id=\"T_8792d_level0_row4\" class=\"row_heading level0 row4\" >4</th>\n",
       "      <td id=\"T_8792d_row4_col0\" class=\"data row4 col0\" >0.7739</td>\n",
       "      <td id=\"T_8792d_row4_col1\" class=\"data row4 col1\" >0.8745</td>\n",
       "      <td id=\"T_8792d_row4_col2\" class=\"data row4 col2\" >0.7740</td>\n",
       "      <td id=\"T_8792d_row4_col3\" class=\"data row4 col3\" >0.7739</td>\n",
       "      <td id=\"T_8792d_row4_col4\" class=\"data row4 col4\" >0.7739</td>\n",
       "      <td id=\"T_8792d_row4_col5\" class=\"data row4 col5\" >0.5479</td>\n",
       "      <td id=\"T_8792d_row4_col6\" class=\"data row4 col6\" >0.5479</td>\n",
       "    </tr>\n",
       "    <tr>\n",
       "      <th id=\"T_8792d_level0_row5\" class=\"row_heading level0 row5\" >Mean</th>\n",
       "      <td id=\"T_8792d_row5_col0\" class=\"data row5 col0\" >0.7792</td>\n",
       "      <td id=\"T_8792d_row5_col1\" class=\"data row5 col1\" >0.8775</td>\n",
       "      <td id=\"T_8792d_row5_col2\" class=\"data row5 col2\" >0.7787</td>\n",
       "      <td id=\"T_8792d_row5_col3\" class=\"data row5 col3\" >0.7795</td>\n",
       "      <td id=\"T_8792d_row5_col4\" class=\"data row5 col4\" >0.7791</td>\n",
       "      <td id=\"T_8792d_row5_col5\" class=\"data row5 col5\" >0.5584</td>\n",
       "      <td id=\"T_8792d_row5_col6\" class=\"data row5 col6\" >0.5584</td>\n",
       "    </tr>\n",
       "    <tr>\n",
       "      <th id=\"T_8792d_level0_row6\" class=\"row_heading level0 row6\" >Std</th>\n",
       "      <td id=\"T_8792d_row6_col0\" class=\"data row6 col0\" >0.0029</td>\n",
       "      <td id=\"T_8792d_row6_col1\" class=\"data row6 col1\" >0.0018</td>\n",
       "      <td id=\"T_8792d_row6_col2\" class=\"data row6 col2\" >0.0027</td>\n",
       "      <td id=\"T_8792d_row6_col3\" class=\"data row6 col3\" >0.0032</td>\n",
       "      <td id=\"T_8792d_row6_col4\" class=\"data row6 col4\" >0.0028</td>\n",
       "      <td id=\"T_8792d_row6_col5\" class=\"data row6 col5\" >0.0057</td>\n",
       "      <td id=\"T_8792d_row6_col6\" class=\"data row6 col6\" >0.0057</td>\n",
       "    </tr>\n",
       "  </tbody>\n",
       "</table>\n"
      ],
      "text/plain": [
       "<pandas.io.formats.style.Styler at 0x7f2a293485e0>"
      ]
     },
     "metadata": {},
     "output_type": "display_data"
    },
    {
     "data": {
      "application/vnd.jupyter.widget-view+json": {
       "model_id": "141a8545b29243e489f9e786fe7d45b3",
       "version_major": 2,
       "version_minor": 0
      },
      "text/plain": [
       "Processing:   0%|          | 0/6 [00:00<?, ?it/s]"
      ]
     },
     "metadata": {
      "application/vnd.jupyter.widget-view+json": {
       "colab": {
        "custom_widget_manager": {
         "url": "https://ssl.gstatic.com/colaboratory-static/widgets/colab-cdn-widget-manager/b3e629b1971e1542/manager.min.js"
        }
       }
      }
     },
     "output_type": "display_data"
    },
    {
     "data": {
      "text/html": [],
      "text/plain": [
       "<IPython.core.display.HTML object>"
      ]
     },
     "metadata": {},
     "output_type": "display_data"
    }
   ],
   "source": [
    "# Bag the LightGBM model\n",
    "bagged = ensemble_model(best, method='Bagging', fold=5, n_estimators=5)"
   ]
  },
  {
   "cell_type": "code",
   "execution_count": 20,
   "metadata": {
    "colab": {
     "base_uri": "https://localhost:8080/"
    },
    "id": "djnCUtqjcBeK",
    "outputId": "59ef562d-057c-4f4f-a18e-88be309fbb19"
   },
   "outputs": [
    {
     "name": "stdout",
     "output_type": "stream",
     "text": [
      "BaggingClassifier(base_estimator='deprecated', bootstrap=True,\n",
      "                  bootstrap_features=False,\n",
      "                  estimator=LGBMClassifier(boosting_type='gbdt',\n",
      "                                           class_weight=None,\n",
      "                                           colsample_bytree=1.0,\n",
      "                                           importance_type='split',\n",
      "                                           learning_rate=0.1, max_depth=-1,\n",
      "                                           min_child_samples=20,\n",
      "                                           min_child_weight=0.001,\n",
      "                                           min_split_gain=0.0, n_estimators=100,\n",
      "                                           n_jobs=-1, num_leaves=31,\n",
      "                                           objective=None, random_state=123,\n",
      "                                           reg_alpha=0.0, reg_lambda=0.0,\n",
      "                                           silent='warn', subsample=1.0,\n",
      "                                           subsample_for_bin=200000,\n",
      "                                           subsample_freq=0),\n",
      "                  max_features=1.0, max_samples=1.0, n_estimators=5,\n",
      "                  n_jobs=None, oob_score=False, random_state=123, verbose=0,\n",
      "                  warm_start=False)\n"
     ]
    }
   ],
   "source": [
    "print(bagged)"
   ]
  },
  {
   "cell_type": "markdown",
   "metadata": {
    "id": "Eqc16QteLvGW"
   },
   "source": [
    "### Analyze Model"
   ]
  },
  {
   "cell_type": "code",
   "execution_count": 21,
   "metadata": {
    "colab": {
     "base_uri": "https://localhost:8080/",
     "height": 551
    },
    "id": "LJCMM0cajUGK",
    "outputId": "8b4b44e1-77c5-4443-9435-3243df24ba68"
   },
   "outputs": [
    {
     "data": {
      "text/html": [],
      "text/plain": [
       "<IPython.core.display.HTML object>"
      ]
     },
     "metadata": {},
     "output_type": "display_data"
    },
    {
     "data": {
      "image/png": "[encoded data removed]",
      "text/plain": [
       "<Figure size 800x550 with 1 Axes>"
      ]
     },
     "metadata": {},
     "output_type": "display_data"
    }
   ],
   "source": [
    "# plot confusion matrix\n",
    "plot_model(best, plot = 'confusion_matrix')"
   ]
  },
  {
   "cell_type": "code",
   "execution_count": 22,
   "metadata": {
    "colab": {
     "base_uri": "https://localhost:8080/",
     "height": 524
    },
    "id": "61B_481TMHF1",
    "outputId": "b824ff20-32f7-4b21-fdd4-fbca56a30561"
   },
   "outputs": [
    {
     "data": {
      "text/html": [],
      "text/plain": [
       "<IPython.core.display.HTML object>"
      ]
     },
     "metadata": {},
     "output_type": "display_data"
    },
    {
     "data": {
      "image/png": "[encoded data removed]",
      "text/plain": [
       "<Figure size 800x550 with 1 Axes>"
      ]
     },
     "metadata": {},
     "output_type": "display_data"
    }
   ],
   "source": [
    "# plot AUC\n",
    "plot_model(best, plot = 'auc')"
   ]
  },
  {
   "cell_type": "code",
   "execution_count": 23,
   "metadata": {
    "colab": {
     "base_uri": "https://localhost:8080/",
     "height": 485
    },
    "id": "-wEoMrePMHNG",
    "outputId": "7c50352c-c087-4814-966e-c26fbba805ac"
   },
   "outputs": [
    {
     "data": {
      "text/html": [],
      "text/plain": [
       "<IPython.core.display.HTML object>"
      ]
     },
     "metadata": {},
     "output_type": "display_data"
    },
    {
     "data": {
      "image/png": "[encoded data removed]",
      "text/plain": [
       "<Figure size 800x500 with 1 Axes>"
      ]
     },
     "metadata": {},
     "output_type": "display_data"
    }
   ],
   "source": [
    "# plot feature importance\n",
    "plot_model(best, plot = 'feature')"
   ]
  },
  {
   "cell_type": "code",
   "execution_count": null,
   "metadata": {
    "id": "MoIxB4zjnJxF"
   },
   "outputs": [],
   "source": [
    "#evaluate_model(best)"
   ]
  },
  {
   "cell_type": "markdown",
   "metadata": {
    "id": "VRAOHg8hMlBx"
   },
   "source": [
    "### Predictions"
   ]
  },
  {
   "cell_type": "code",
   "execution_count": 25,
   "metadata": {
    "colab": {
     "base_uri": "https://localhost:8080/",
     "height": 81
    },
    "id": "o7-MPO_PMmcv",
    "outputId": "2d4bdce1-8ef6-4c17-c0c3-4afd6faabbb2"
   },
   "outputs": [
    {
     "data": {
      "text/html": [
       "<style type=\"text/css\">\n",
       "</style>\n",
       "<table id=\"T_3cdde\" class=\"dataframe\">\n",
       "  <thead>\n",
       "    <tr>\n",
       "      <th class=\"blank level0\" >&nbsp;</th>\n",
       "      <th id=\"T_3cdde_level0_col0\" class=\"col_heading level0 col0\" >Model</th>\n",
       "      <th id=\"T_3cdde_level0_col1\" class=\"col_heading level0 col1\" >Accuracy</th>\n",
       "      <th id=\"T_3cdde_level0_col2\" class=\"col_heading level0 col2\" >AUC</th>\n",
       "      <th id=\"T_3cdde_level0_col3\" class=\"col_heading level0 col3\" >Recall</th>\n",
       "      <th id=\"T_3cdde_level0_col4\" class=\"col_heading level0 col4\" >Prec.</th>\n",
       "      <th id=\"T_3cdde_level0_col5\" class=\"col_heading level0 col5\" >F1</th>\n",
       "      <th id=\"T_3cdde_level0_col6\" class=\"col_heading level0 col6\" >Kappa</th>\n",
       "      <th id=\"T_3cdde_level0_col7\" class=\"col_heading level0 col7\" >MCC</th>\n",
       "    </tr>\n",
       "  </thead>\n",
       "  <tbody>\n",
       "    <tr>\n",
       "      <th id=\"T_3cdde_level0_row0\" class=\"row_heading level0 row0\" >0</th>\n",
       "      <td id=\"T_3cdde_row0_col0\" class=\"data row0 col0\" >Light Gradient Boosting Machine</td>\n",
       "      <td id=\"T_3cdde_row0_col1\" class=\"data row0 col1\" >0.7794</td>\n",
       "      <td id=\"T_3cdde_row0_col2\" class=\"data row0 col2\" >0.8797</td>\n",
       "      <td id=\"T_3cdde_row0_col3\" class=\"data row0 col3\" >0.7779</td>\n",
       "      <td id=\"T_3cdde_row0_col4\" class=\"data row0 col4\" >0.7803</td>\n",
       "      <td id=\"T_3cdde_row0_col5\" class=\"data row0 col5\" >0.7791</td>\n",
       "      <td id=\"T_3cdde_row0_col6\" class=\"data row0 col6\" >0.5589</td>\n",
       "      <td id=\"T_3cdde_row0_col7\" class=\"data row0 col7\" >0.5589</td>\n",
       "    </tr>\n",
       "  </tbody>\n",
       "</table>\n"
      ],
      "text/plain": [
       "<pandas.io.formats.style.Styler at 0x7f2a2911d9d0>"
      ]
     },
     "metadata": {},
     "output_type": "display_data"
    }
   ],
   "source": [
    "# Predict on test set\n",
    "pred = predict_model(best)"
   ]
  },
  {
   "cell_type": "code",
   "execution_count": 26,
   "metadata": {
    "colab": {
     "base_uri": "https://localhost:8080/",
     "height": 300
    },
    "id": "B-XqIrCFMpMC",
    "outputId": "a92e8734-feef-458b-da8c-6459c0d88bff"
   },
   "outputs": [
    {
     "data": {
      "text/html": [
       "\n",
       "  <div id=\"df-e9fbf619-254e-473f-b8de-6aea25790644\">\n",
       "    <div class=\"colab-df-container\">\n",
       "      <div>\n",
       "<style scoped>\n",
       "    .dataframe tbody tr th:only-of-type {\n",
       "        vertical-align: middle;\n",
       "    }\n",
       "\n",
       "    .dataframe tbody tr th {\n",
       "        vertical-align: top;\n",
       "    }\n",
       "\n",
       "    .dataframe thead th {\n",
       "        text-align: right;\n",
       "    }\n",
       "</style>\n",
       "<table border=\"1\" class=\"dataframe\">\n",
       "  <thead>\n",
       "    <tr style=\"text-align: right;\">\n",
       "      <th></th>\n",
       "      <th>r1_id</th>\n",
       "      <th>r2_id</th>\n",
       "      <th>r1_height</th>\n",
       "      <th>r1_weight</th>\n",
       "      <th>r1_prev_w</th>\n",
       "      <th>r1_prev_l</th>\n",
       "      <th>r2_height</th>\n",
       "      <th>r2_weight</th>\n",
       "      <th>r2_prev_w</th>\n",
       "      <th>r2_prev_l</th>\n",
       "      <th>...</th>\n",
       "      <th>r1_curr_w_calc</th>\n",
       "      <th>r1_curr_l_calc</th>\n",
       "      <th>r2_curr_w_calc</th>\n",
       "      <th>r2_curr_l_calc</th>\n",
       "      <th>r1_heya_calc</th>\n",
       "      <th>r2_heya_calc</th>\n",
       "      <th>kimarite_calc</th>\n",
       "      <th>r1_win</th>\n",
       "      <th>prediction_label</th>\n",
       "      <th>prediction_score</th>\n",
       "    </tr>\n",
       "  </thead>\n",
       "  <tbody>\n",
       "    <tr>\n",
       "      <th>83276</th>\n",
       "      <td>57</td>\n",
       "      <td>25</td>\n",
       "      <td>189.000000</td>\n",
       "      <td>191.0</td>\n",
       "      <td>7.0</td>\n",
       "      <td>8.0</td>\n",
       "      <td>178.000000</td>\n",
       "      <td>127.0</td>\n",
       "      <td>6.0</td>\n",
       "      <td>9.0</td>\n",
       "      <td>...</td>\n",
       "      <td>6</td>\n",
       "      <td>9</td>\n",
       "      <td>9</td>\n",
       "      <td>6</td>\n",
       "      <td>0</td>\n",
       "      <td>1</td>\n",
       "      <td>5</td>\n",
       "      <td>0</td>\n",
       "      <td>0</td>\n",
       "      <td>0.9240</td>\n",
       "    </tr>\n",
       "    <tr>\n",
       "      <th>121299</th>\n",
       "      <td>287</td>\n",
       "      <td>222</td>\n",
       "      <td>176.000000</td>\n",
       "      <td>140.0</td>\n",
       "      <td>8.0</td>\n",
       "      <td>7.0</td>\n",
       "      <td>177.000000</td>\n",
       "      <td>145.0</td>\n",
       "      <td>8.0</td>\n",
       "      <td>7.0</td>\n",
       "      <td>...</td>\n",
       "      <td>9</td>\n",
       "      <td>6</td>\n",
       "      <td>6</td>\n",
       "      <td>9</td>\n",
       "      <td>1</td>\n",
       "      <td>0</td>\n",
       "      <td>5</td>\n",
       "      <td>1</td>\n",
       "      <td>1</td>\n",
       "      <td>0.8208</td>\n",
       "    </tr>\n",
       "    <tr>\n",
       "      <th>16837</th>\n",
       "      <td>1362</td>\n",
       "      <td>4139</td>\n",
       "      <td>188.399994</td>\n",
       "      <td>131.0</td>\n",
       "      <td>6.0</td>\n",
       "      <td>9.0</td>\n",
       "      <td>174.000000</td>\n",
       "      <td>120.0</td>\n",
       "      <td>7.0</td>\n",
       "      <td>8.0</td>\n",
       "      <td>...</td>\n",
       "      <td>10</td>\n",
       "      <td>5</td>\n",
       "      <td>8</td>\n",
       "      <td>7</td>\n",
       "      <td>1</td>\n",
       "      <td>1</td>\n",
       "      <td>5</td>\n",
       "      <td>1</td>\n",
       "      <td>1</td>\n",
       "      <td>0.7855</td>\n",
       "    </tr>\n",
       "    <tr>\n",
       "      <th>174229</th>\n",
       "      <td>6770</td>\n",
       "      <td>6010</td>\n",
       "      <td>184.000000</td>\n",
       "      <td>186.0</td>\n",
       "      <td>8.0</td>\n",
       "      <td>7.0</td>\n",
       "      <td>182.000000</td>\n",
       "      <td>182.0</td>\n",
       "      <td>4.0</td>\n",
       "      <td>11.0</td>\n",
       "      <td>...</td>\n",
       "      <td>0</td>\n",
       "      <td>0</td>\n",
       "      <td>0</td>\n",
       "      <td>0</td>\n",
       "      <td>0</td>\n",
       "      <td>1</td>\n",
       "      <td>5</td>\n",
       "      <td>0</td>\n",
       "      <td>1</td>\n",
       "      <td>0.5433</td>\n",
       "    </tr>\n",
       "    <tr>\n",
       "      <th>92616</th>\n",
       "      <td>145</td>\n",
       "      <td>43</td>\n",
       "      <td>182.500000</td>\n",
       "      <td>121.5</td>\n",
       "      <td>9.0</td>\n",
       "      <td>6.0</td>\n",
       "      <td>183.600006</td>\n",
       "      <td>149.5</td>\n",
       "      <td>4.0</td>\n",
       "      <td>11.0</td>\n",
       "      <td>...</td>\n",
       "      <td>8</td>\n",
       "      <td>7</td>\n",
       "      <td>6</td>\n",
       "      <td>9</td>\n",
       "      <td>1</td>\n",
       "      <td>1</td>\n",
       "      <td>5</td>\n",
       "      <td>1</td>\n",
       "      <td>1</td>\n",
       "      <td>0.8738</td>\n",
       "    </tr>\n",
       "  </tbody>\n",
       "</table>\n",
       "<p>5 rows × 42 columns</p>\n",
       "</div>\n",
       "      <button class=\"colab-df-convert\" onclick=\"convertToInteractive('df-e9fbf619-254e-473f-b8de-6aea25790644')\"\n",
       "              title=\"Convert this dataframe to an interactive table.\"\n",
       "              style=\"display:none;\">\n",
       "        \n",
       "  <svg xmlns=\"http://www.w3.org/2000/svg\" height=\"24px\"viewBox=\"0 0 24 24\"\n",
       "       width=\"24px\">\n",
       "    <path d=\"M0 0h24v24H0V0z\" fill=\"none\"/>\n",
       "    <path d=\"M18.56 5.44l.94 2.06.94-2.06 2.06-.94-2.06-.94-.94-2.06-.94 2.06-2.06.94zm-11 1L8.5 8.5l.94-2.06 2.06-.94-2.06-.94L8.5 2.5l-.94 2.06-2.06.94zm10 10l.94 2.06.94-2.06 2.06-.94-2.06-.94-.94-2.06-.94 2.06-2.06.94z\"/><path d=\"M17.41 7.96l-1.37-1.37c-.4-.4-.92-.59-1.43-.59-.52 0-1.04.2-1.43.59L10.3 9.45l-7.72 7.72c-.78.78-.78 2.05 0 2.83L4 21.41c.39.39.9.59 1.41.59.51 0 1.02-.2 1.41-.59l7.78-7.78 2.81-2.81c.8-.78.8-2.07 0-2.86zM5.41 20L4 18.59l7.72-7.72 1.47 1.35L5.41 20z\"/>\n",
       "  </svg>\n",
       "      </button>\n",
       "      \n",
       "  <style>\n",
       "    .colab-df-container {\n",
       "      display:flex;\n",
       "      flex-wrap:wrap;\n",
       "      gap: 12px;\n",
       "    }\n",
       "\n",
       "    .colab-df-convert {\n",
       "      background-color: #E8F0FE;\n",
       "      border: none;\n",
       "      border-radius: 50%;\n",
       "      cursor: pointer;\n",
       "      display: none;\n",
       "      fill: #1967D2;\n",
       "      height: 32px;\n",
       "      padding: 0 0 0 0;\n",
       "      width: 32px;\n",
       "    }\n",
       "\n",
       "    .colab-df-convert:hover {\n",
       "      background-color: #E2EBFA;\n",
       "      box-shadow: 0px 1px 2px rgba(60, 64, 67, 0.3), 0px 1px 3px 1px rgba(60, 64, 67, 0.15);\n",
       "      fill: #174EA6;\n",
       "    }\n",
       "\n",
       "    [theme=dark] .colab-df-convert {\n",
       "      background-color: #3B4455;\n",
       "      fill: #D2E3FC;\n",
       "    }\n",
       "\n",
       "    [theme=dark] .colab-df-convert:hover {\n",
       "      background-color: #434B5C;\n",
       "      box-shadow: 0px 1px 3px 1px rgba(0, 0, 0, 0.15);\n",
       "      filter: drop-shadow(0px 1px 2px rgba(0, 0, 0, 0.3));\n",
       "      fill: #FFFFFF;\n",
       "    }\n",
       "  </style>\n",
       "\n",
       "      <script>\n",
       "        const buttonEl =\n",
       "          document.querySelector('#df-e9fbf619-254e-473f-b8de-6aea25790644 button.colab-df-convert');\n",
       "        buttonEl.style.display =\n",
       "          google.colab.kernel.accessAllowed ? 'block' : 'none';\n",
       "\n",
       "        async function convertToInteractive(key) {\n",
       "          const element = document.querySelector('#df-e9fbf619-254e-473f-b8de-6aea25790644');\n",
       "          const dataTable =\n",
       "            await google.colab.kernel.invokeFunction('convertToInteractive',\n",
       "                                                     [key], {});\n",
       "          if (!dataTable) return;\n",
       "\n",
       "          const docLinkHtml = 'Like what you see? Visit the ' +\n",
       "            '<a target=\"_blank\" href=https://colab.research.google.com/notebooks/data_table.ipynb>data table notebook</a>'\n",
       "            + ' to learn more about interactive tables.';\n",
       "          element.innerHTML = '';\n",
       "          dataTable['output_type'] = 'display_data';\n",
       "          await google.colab.output.renderOutput(dataTable, element);\n",
       "          const docLink = document.createElement('div');\n",
       "          docLink.innerHTML = docLinkHtml;\n",
       "          element.appendChild(docLink);\n",
       "        }\n",
       "      </script>\n",
       "    </div>\n",
       "  </div>\n",
       "  "
      ],
      "text/plain": [
       "        r1_id  r2_id   r1_height  r1_weight  r1_prev_w  r1_prev_l   r2_height  \\\n",
       "83276      57     25  189.000000      191.0        7.0        8.0  178.000000   \n",
       "121299    287    222  176.000000      140.0        8.0        7.0  177.000000   \n",
       "16837    1362   4139  188.399994      131.0        6.0        9.0  174.000000   \n",
       "174229   6770   6010  184.000000      186.0        8.0        7.0  182.000000   \n",
       "92616     145     43  182.500000      121.5        9.0        6.0  183.600006   \n",
       "\n",
       "        r2_weight  r2_prev_w  r2_prev_l  ...  r1_curr_w_calc  r1_curr_l_calc  \\\n",
       "83276       127.0        6.0        9.0  ...               6               9   \n",
       "121299      145.0        8.0        7.0  ...               9               6   \n",
       "16837       120.0        7.0        8.0  ...              10               5   \n",
       "174229      182.0        4.0       11.0  ...               0               0   \n",
       "92616       149.5        4.0       11.0  ...               8               7   \n",
       "\n",
       "        r2_curr_w_calc  r2_curr_l_calc  r1_heya_calc  r2_heya_calc  \\\n",
       "83276                9               6             0             1   \n",
       "121299               6               9             1             0   \n",
       "16837                8               7             1             1   \n",
       "174229               0               0             0             1   \n",
       "92616                6               9             1             1   \n",
       "\n",
       "        kimarite_calc  r1_win  prediction_label  prediction_score  \n",
       "83276               5       0                 0            0.9240  \n",
       "121299              5       1                 1            0.8208  \n",
       "16837               5       1                 1            0.7855  \n",
       "174229              5       0                 1            0.5433  \n",
       "92616               5       1                 1            0.8738  \n",
       "\n",
       "[5 rows x 42 columns]"
      ]
     },
     "execution_count": 26,
     "metadata": {},
     "output_type": "execute_result"
    }
   ],
   "source": [
    "# show predictions df\n",
    "pred.head()"
   ]
  },
  {
   "cell_type": "markdown",
   "metadata": {
    "id": "Wj2JJ-qiM55v"
   },
   "source": [
    "### Save the model"
   ]
  },
  {
   "cell_type": "code",
   "execution_count": 27,
   "metadata": {
    "colab": {
     "base_uri": "https://localhost:8080/"
    },
    "id": "tK4fBkNdM6Zj",
    "outputId": "7490e13b-cb86-45f2-80e3-a8e89d70b059"
   },
   "outputs": [
    {
     "name": "stdout",
     "output_type": "stream",
     "text": [
      "Transformation Pipeline and Model Successfully Saved\n"
     ]
    },
    {
     "data": {
      "text/plain": [
       "(Pipeline(memory=FastMemory(location=/tmp/joblib),\n",
       "          steps=[('numerical_imputer',\n",
       "                  TransformerWrapper(exclude=None,\n",
       "                                     include=['r1_id', 'r2_id', 'r1_height',\n",
       "                                              'r1_weight', 'r1_prev_w',\n",
       "                                              'r1_prev_l', 'r2_height',\n",
       "                                              'r2_weight', 'r2_prev_w',\n",
       "                                              'r2_prev_l',\n",
       "                                              'r1_Japan_hometown_calc',\n",
       "                                              'r2_Japan_hometown_calc',\n",
       "                                              'r1_age_calc', 'r2_age_calc',\n",
       "                                              'height_diff_calc',\n",
       "                                              'weight_diff_calc',\n",
       "                                              'r1_...\n",
       "                  LGBMClassifier(boosting_type='gbdt', class_weight=None,\n",
       "                                 colsample_bytree=1.0, importance_type='split',\n",
       "                                 learning_rate=0.1, max_depth=-1,\n",
       "                                 min_child_samples=20, min_child_weight=0.001,\n",
       "                                 min_split_gain=0.0, n_estimators=100, n_jobs=-1,\n",
       "                                 num_leaves=31, objective=None, random_state=123,\n",
       "                                 reg_alpha=0.0, reg_lambda=0.0, silent='warn',\n",
       "                                 subsample=1.0, subsample_for_bin=200000,\n",
       "                                 subsample_freq=0))],\n",
       "          verbose=False),\n",
       " 'my_best_pipeline.pkl')"
      ]
     },
     "execution_count": 27,
     "metadata": {},
     "output_type": "execute_result"
    }
   ],
   "source": [
    "save_model(best, 'my_best_pipeline')"
   ]
  },
  {
   "cell_type": "markdown",
   "metadata": {},
   "source": [
    "### Evaluation"
   ]
  },
  {
   "cell_type": "markdown",
   "metadata": {},
   "source": [
    "Here are the scores and metrics for models incorporating new features: \n",
    "\n",
    "| Model | Description | Accuracy | AUC    | Recall | Prec.  | F1     | Kappa  | MCC    | TT (Sec) |\n",
    "|--|--|--|--|--|--|--|--|--|--|\n",
    "| lightgbm | Light Gradient Boosting Machine | 0.7799 | 0.8785 | 0.7795 | 0.7802 | 0.7798 | 0.5598 | 0.5599 | 4.9240 |\n",
    "| xgboost | Extreme Gradient Boosting | 0.7796 | 0.8781 | 0.7805 | 0.7791 | 0.7798 | 0.5592 | 0.5593 | 48.9350 |\n",
    "| gbc | Gradient Boosting Classifier | 0.7731 | 0.8730 | 0.7777 | 0.7706 | 0.7741 | 0.5462 | 0.5462 | 65.6110 |\n",
    "| lda | Linear Discriminant Analysis | 0.7720 | 0.8677 | 0.7695 | 0.7734 | 0.7714 | 0.5440 | 0.5440 | 1.8290 |\n",
    "| ridge | Ridge Classifier | 0.7719 | 0.0000 | 0.7695 | 0.7733 | 0.7714 | 0.5439 | 0.5439 | 0.6030 |\n",
    "| rf | Random Forest Classifier | 0.7686 | 0.8678 | 0.7623 | 0.7721 | 0.7671 | 0.5372 | 0.5373 | 53.2930 |\n",
    "| et | Extra Trees Classifier | 0.7672 | 0.8656 | 0.7616 | 0.7702 | 0.7659 | 0.5344 | 0.5344 | 45.1910 |\n",
    "| ada | Ada Boost Classifier | 0.7631 | 0.8642 | 0.7598 | 0.7658 | 0.7621 | 0.5262 | 0.5272 | 13.9880 |\n",
    "| qda | Quadratic Discriminant Analysis | 0.7610 | 0.8454 | 0.7624 | 0.7602 | 0.7613 | 0.5219 | 0.5219 | 1.1990 |\n",
    "| lr | Logistic Regression | 0.7606 | 0.8430 | 0.7537 | 0.7643 | 0.7589 | 0.5212 | 0.5213 | 24.1150 |\n",
    "| nb | Naive Bayes | 0.7434 | 0.8282 | 0.7405 | 0.7447 | 0.7426 | 0.4867 | 0.4867 | 0.5010 |\n",
    "| dt | Decision Tree Classifier | 0.7078 | 0.7078 | 0.7087 | 0.7074 | 0.7081 | 0.4156 | 0.4156 | 3.8840 |\n",
    "| svm | SVM - Linear Kernel | 0.6626 | 0.0000 | 0.5944 | 0.7376 | 0.6220 | 0.3251 | 0.3668 | 17.4540 | \n",
    "| knn | K Neighbors Classifier | 0.5625 | 0.5877 | 0.5630 | 0.5625 | 0.5627 | 0.1250 | 0.1250 | 46.1080 | \n",
    "| dummy | Dummy Classifier | 0.50000 | 0.5000 | 0.5000 | 0.2500 | 0.3333 | 0.0000 | 0.0000 | 0.3660 | \n"
   ]
  },
  {
   "cell_type": "markdown",
   "metadata": {},
   "source": [
    "The above table shows the evaluation metrics for various models that incorporate new features. The models are evaluated using acuracy, AUC, recall, precision, F1-score, Kappa, Matthews correlation coefficient (MCC) and training time (TT). \n",
    "\n",
    "Overall, the evaluation metrics indicate that the models incorporating new features perform better than those with existing numeric data only. \n",
    "\n",
    "It is also noteworthy that Light Gradient Boosting Machine and Extreme Gradient Boosting have similar accuracy and AUC scores, but Light Gradient Boosting Machine performs better in identifying positive values, as shown by its slightly higher precision score. Additionally, while SVM - Linear Kernel has a low accuracy (0.6626) and AUC score (0.0000), it has a relatively high precision score (0.7376), indicating that when it does predict a positive value, it is likely to be correct. \n",
    "\n",
    "It is also interesting to note that Linear Discriminant Analysis has a relatively short training time (1.8290) compared to other models, but still performs relatively well in terms of accuracy (0.7720), AUC (0.8677), and other metrics. Naive Bayes has a low accuracy score (0.7434) compared to other models, but it still performs well in terms of recall (0.7405) and MCC scores (0.4867).\n",
    "These insights can be useful in deciding which model to choose for a particular task or in improving the performance of existing models by incorporating new features."
   ]
  },
  {
   "cell_type": "code",
   "execution_count": null,
   "metadata": {
    "id": "Jh400_zEM5FA"
   },
   "outputs": [],
   "source": [
    "# Reference: https://pycaret.gitbook.io/docs/get-started/quickstart"
   ]
  }
 ],
 "metadata": {
  "colab": {
   "gpuType": "T4",
   "provenance": []
  },
  "gpuClass": "standard",
  "kernelspec": {
   "display_name": "Python 3 (ipykernel)",
   "language": "python",
   "name": "python3"
  },
  "language_info": {
   "codemirror_mode": {
    "name": "ipython",
    "version": 3
   },
   "file_extension": ".py",
   "mimetype": "text/x-python",
   "name": "python",
   "nbconvert_exporter": "python",
   "pygments_lexer": "ipython3",
   "version": "3.9.13"
  },
  "widgets": {
   "application/vnd.jupyter.widget-state+json": {
    "0a88f851418f4bc48bff82b3dc13cea6": {
     "model_module": "@jupyter-widgets/controls",
     "model_module_version": "1.5.0",
     "model_name": "FloatProgressModel",
     "state": {
      "_dom_classes": [],
      "_model_module": "@jupyter-widgets/controls",
      "_model_module_version": "1.5.0",
      "_model_name": "FloatProgressModel",
      "_view_count": null,
      "_view_module": "@jupyter-widgets/controls",
      "_view_module_version": "1.5.0",
      "_view_name": "ProgressView",
      "bar_style": "",
      "description": "",
      "description_tooltip": null,
      "layout": "IPY_MODEL_2baef0eb01a5428b987983115c9fa2d4",
      "max": 65,
      "min": 0,
      "orientation": "horizontal",
      "style": "IPY_MODEL_0e5f2428b4ac4e7ab00d34b802574bd0",
      "value": 65
     }
    },
    "0e5f2428b4ac4e7ab00d34b802574bd0": {
     "model_module": "@jupyter-widgets/controls",
     "model_module_version": "1.5.0",
     "model_name": "ProgressStyleModel",
     "state": {
      "_model_module": "@jupyter-widgets/controls",
      "_model_module_version": "1.5.0",
      "_model_name": "ProgressStyleModel",
      "_view_count": null,
      "_view_module": "@jupyter-widgets/base",
      "_view_module_version": "1.2.0",
      "_view_name": "StyleView",
      "bar_color": null,
      "description_width": ""
     }
    },
    "141a8545b29243e489f9e786fe7d45b3": {
     "model_module": "@jupyter-widgets/controls",
     "model_module_version": "1.5.0",
     "model_name": "HBoxModel",
     "state": {
      "_dom_classes": [],
      "_model_module": "@jupyter-widgets/controls",
      "_model_module_version": "1.5.0",
      "_model_name": "HBoxModel",
      "_view_count": null,
      "_view_module": "@jupyter-widgets/controls",
      "_view_module_version": "1.5.0",
      "_view_name": "HBoxView",
      "box_style": "",
      "children": [
       "IPY_MODEL_3e2166506c054d65908563a0ca77e799",
       "IPY_MODEL_a1aa3127c4c2491a98e29f5aa0cd348d",
       "IPY_MODEL_86835edbcb4b47f2aced446d9d3a02b1"
      ],
      "layout": "IPY_MODEL_2ceb2ed7086e4b82848c5d7752bbb860"
     }
    },
    "151778a8a6764b138efbc744833fb867": {
     "model_module": "@jupyter-widgets/controls",
     "model_module_version": "1.5.0",
     "model_name": "HBoxModel",
     "state": {
      "_dom_classes": [],
      "_model_module": "@jupyter-widgets/controls",
      "_model_module_version": "1.5.0",
      "_model_name": "HBoxModel",
      "_view_count": null,
      "_view_module": "@jupyter-widgets/controls",
      "_view_module_version": "1.5.0",
      "_view_name": "HBoxView",
      "box_style": "",
      "children": [
       "IPY_MODEL_83dab811f07a417f8b018af476ac67a0",
       "IPY_MODEL_b5b6461a77de486c857ef2ee12747e2d",
       "IPY_MODEL_1bbd8b38f9fe4ba5bdb516267703d218"
      ],
      "layout": "IPY_MODEL_3d2557d045574852b604b38b01cf76e8"
     }
    },
    "159d1a9880894529b2cfca59b8fa123c": {
     "model_module": "@jupyter-widgets/base",
     "model_module_version": "1.2.0",
     "model_name": "LayoutModel",
     "state": {
      "_model_module": "@jupyter-widgets/base",
      "_model_module_version": "1.2.0",
      "_model_name": "LayoutModel",
      "_view_count": null,
      "_view_module": "@jupyter-widgets/base",
      "_view_module_version": "1.2.0",
      "_view_name": "LayoutView",
      "align_content": null,
      "align_items": null,
      "align_self": null,
      "border": null,
      "bottom": null,
      "display": null,
      "flex": null,
      "flex_flow": null,
      "grid_area": null,
      "grid_auto_columns": null,
      "grid_auto_flow": null,
      "grid_auto_rows": null,
      "grid_column": null,
      "grid_gap": null,
      "grid_row": null,
      "grid_template_areas": null,
      "grid_template_columns": null,
      "grid_template_rows": null,
      "height": null,
      "justify_content": null,
      "justify_items": null,
      "left": null,
      "margin": null,
      "max_height": null,
      "max_width": null,
      "min_height": null,
      "min_width": null,
      "object_fit": null,
      "object_position": null,
      "order": null,
      "overflow": null,
      "overflow_x": null,
      "overflow_y": null,
      "padding": null,
      "right": null,
      "top": null,
      "visibility": "hidden",
      "width": null
     }
    },
    "1af0f4ccfb0844dfa807c58ef98d64d3": {
     "model_module": "@jupyter-widgets/controls",
     "model_module_version": "1.5.0",
     "model_name": "HTMLModel",
     "state": {
      "_dom_classes": [],
      "_model_module": "@jupyter-widgets/controls",
      "_model_module_version": "1.5.0",
      "_model_name": "HTMLModel",
      "_view_count": null,
      "_view_module": "@jupyter-widgets/controls",
      "_view_module_version": "1.5.0",
      "_view_name": "HTMLView",
      "description": "",
      "description_tooltip": null,
      "layout": "IPY_MODEL_82857d4063a74a27a0aff80a513ab066",
      "placeholder": "​",
      "style": "IPY_MODEL_3d00d7216545405996eb0defa8634c69",
      "value": "Processing: 100%"
     }
    },
    "1bbd8b38f9fe4ba5bdb516267703d218": {
     "model_module": "@jupyter-widgets/controls",
     "model_module_version": "1.5.0",
     "model_name": "HTMLModel",
     "state": {
      "_dom_classes": [],
      "_model_module": "@jupyter-widgets/controls",
      "_model_module_version": "1.5.0",
      "_model_name": "HTMLModel",
      "_view_count": null,
      "_view_module": "@jupyter-widgets/controls",
      "_view_module_version": "1.5.0",
      "_view_name": "HTMLView",
      "description": "",
      "description_tooltip": null,
      "layout": "IPY_MODEL_302638ba71f6475596cecbcf8ca95a1f",
      "placeholder": "​",
      "style": "IPY_MODEL_d0c55bfe6fcf45eaab42dcf7e1af695c",
      "value": " 6/6 [04:40&lt;00:00, 47.44s/it]"
     }
    },
    "1dd7bef754d84739bb9d7b505b5565c0": {
     "model_module": "@jupyter-widgets/controls",
     "model_module_version": "1.5.0",
     "model_name": "HTMLModel",
     "state": {
      "_dom_classes": [],
      "_model_module": "@jupyter-widgets/controls",
      "_model_module_version": "1.5.0",
      "_model_name": "HTMLModel",
      "_view_count": null,
      "_view_module": "@jupyter-widgets/controls",
      "_view_module_version": "1.5.0",
      "_view_name": "HTMLView",
      "description": "",
      "description_tooltip": null,
      "layout": "IPY_MODEL_6a7e9339330844ff93198544e883594f",
      "placeholder": "​",
      "style": "IPY_MODEL_fe6a8bf24d664f4882670d00e2eec4e7",
      "value": " 7/7 [1:00:48&lt;00:00, 320.78s/it]"
     }
    },
    "27cf2666570a4962bc619ad524a38bf2": {
     "model_module": "@jupyter-widgets/base",
     "model_module_version": "1.2.0",
     "model_name": "LayoutModel",
     "state": {
      "_model_module": "@jupyter-widgets/base",
      "_model_module_version": "1.2.0",
      "_model_name": "LayoutModel",
      "_view_count": null,
      "_view_module": "@jupyter-widgets/base",
      "_view_module_version": "1.2.0",
      "_view_name": "LayoutView",
      "align_content": null,
      "align_items": null,
      "align_self": null,
      "border": null,
      "bottom": null,
      "display": null,
      "flex": null,
      "flex_flow": null,
      "grid_area": null,
      "grid_auto_columns": null,
      "grid_auto_flow": null,
      "grid_auto_rows": null,
      "grid_column": null,
      "grid_gap": null,
      "grid_row": null,
      "grid_template_areas": null,
      "grid_template_columns": null,
      "grid_template_rows": null,
      "height": null,
      "justify_content": null,
      "justify_items": null,
      "left": null,
      "margin": null,
      "max_height": null,
      "max_width": null,
      "min_height": null,
      "min_width": null,
      "object_fit": null,
      "object_position": null,
      "order": null,
      "overflow": null,
      "overflow_x": null,
      "overflow_y": null,
      "padding": null,
      "right": null,
      "top": null,
      "visibility": null,
      "width": null
     }
    },
    "29d2188709ef4f27a5972b29d8db2de1": {
     "model_module": "@jupyter-widgets/controls",
     "model_module_version": "1.5.0",
     "model_name": "DescriptionStyleModel",
     "state": {
      "_model_module": "@jupyter-widgets/controls",
      "_model_module_version": "1.5.0",
      "_model_name": "DescriptionStyleModel",
      "_view_count": null,
      "_view_module": "@jupyter-widgets/base",
      "_view_module_version": "1.2.0",
      "_view_name": "StyleView",
      "description_width": ""
     }
    },
    "2baef0eb01a5428b987983115c9fa2d4": {
     "model_module": "@jupyter-widgets/base",
     "model_module_version": "1.2.0",
     "model_name": "LayoutModel",
     "state": {
      "_model_module": "@jupyter-widgets/base",
      "_model_module_version": "1.2.0",
      "_model_name": "LayoutModel",
      "_view_count": null,
      "_view_module": "@jupyter-widgets/base",
      "_view_module_version": "1.2.0",
      "_view_name": "LayoutView",
      "align_content": null,
      "align_items": null,
      "align_self": null,
      "border": null,
      "bottom": null,
      "display": null,
      "flex": null,
      "flex_flow": null,
      "grid_area": null,
      "grid_auto_columns": null,
      "grid_auto_flow": null,
      "grid_auto_rows": null,
      "grid_column": null,
      "grid_gap": null,
      "grid_row": null,
      "grid_template_areas": null,
      "grid_template_columns": null,
      "grid_template_rows": null,
      "height": null,
      "justify_content": null,
      "justify_items": null,
      "left": null,
      "margin": null,
      "max_height": null,
      "max_width": null,
      "min_height": null,
      "min_width": null,
      "object_fit": null,
      "object_position": null,
      "order": null,
      "overflow": null,
      "overflow_x": null,
      "overflow_y": null,
      "padding": null,
      "right": null,
      "top": null,
      "visibility": null,
      "width": null
     }
    },
    "2ceb2ed7086e4b82848c5d7752bbb860": {
     "model_module": "@jupyter-widgets/base",
     "model_module_version": "1.2.0",
     "model_name": "LayoutModel",
     "state": {
      "_model_module": "@jupyter-widgets/base",
      "_model_module_version": "1.2.0",
      "_model_name": "LayoutModel",
      "_view_count": null,
      "_view_module": "@jupyter-widgets/base",
      "_view_module_version": "1.2.0",
      "_view_name": "LayoutView",
      "align_content": null,
      "align_items": null,
      "align_self": null,
      "border": null,
      "bottom": null,
      "display": null,
      "flex": null,
      "flex_flow": null,
      "grid_area": null,
      "grid_auto_columns": null,
      "grid_auto_flow": null,
      "grid_auto_rows": null,
      "grid_column": null,
      "grid_gap": null,
      "grid_row": null,
      "grid_template_areas": null,
      "grid_template_columns": null,
      "grid_template_rows": null,
      "height": null,
      "justify_content": null,
      "justify_items": null,
      "left": null,
      "margin": null,
      "max_height": null,
      "max_width": null,
      "min_height": null,
      "min_width": null,
      "object_fit": null,
      "object_position": null,
      "order": null,
      "overflow": null,
      "overflow_x": null,
      "overflow_y": null,
      "padding": null,
      "right": null,
      "top": null,
      "visibility": "hidden",
      "width": null
     }
    },
    "302638ba71f6475596cecbcf8ca95a1f": {
     "model_module": "@jupyter-widgets/base",
     "model_module_version": "1.2.0",
     "model_name": "LayoutModel",
     "state": {
      "_model_module": "@jupyter-widgets/base",
      "_model_module_version": "1.2.0",
      "_model_name": "LayoutModel",
      "_view_count": null,
      "_view_module": "@jupyter-widgets/base",
      "_view_module_version": "1.2.0",
      "_view_name": "LayoutView",
      "align_content": null,
      "align_items": null,
      "align_self": null,
      "border": null,
      "bottom": null,
      "display": null,
      "flex": null,
      "flex_flow": null,
      "grid_area": null,
      "grid_auto_columns": null,
      "grid_auto_flow": null,
      "grid_auto_rows": null,
      "grid_column": null,
      "grid_gap": null,
      "grid_row": null,
      "grid_template_areas": null,
      "grid_template_columns": null,
      "grid_template_rows": null,
      "height": null,
      "justify_content": null,
      "justify_items": null,
      "left": null,
      "margin": null,
      "max_height": null,
      "max_width": null,
      "min_height": null,
      "min_width": null,
      "object_fit": null,
      "object_position": null,
      "order": null,
      "overflow": null,
      "overflow_x": null,
      "overflow_y": null,
      "padding": null,
      "right": null,
      "top": null,
      "visibility": null,
      "width": null
     }
    },
    "35d1e3471df54bf387a376918bacfa43": {
     "model_module": "@jupyter-widgets/controls",
     "model_module_version": "1.5.0",
     "model_name": "ProgressStyleModel",
     "state": {
      "_model_module": "@jupyter-widgets/controls",
      "_model_module_version": "1.5.0",
      "_model_name": "ProgressStyleModel",
      "_view_count": null,
      "_view_module": "@jupyter-widgets/base",
      "_view_module_version": "1.2.0",
      "_view_name": "StyleView",
      "bar_color": null,
      "description_width": ""
     }
    },
    "38976f481aef4d02b34dc79e1fcb75f3": {
     "model_module": "@jupyter-widgets/controls",
     "model_module_version": "1.5.0",
     "model_name": "HTMLModel",
     "state": {
      "_dom_classes": [],
      "_model_module": "@jupyter-widgets/controls",
      "_model_module_version": "1.5.0",
      "_model_name": "HTMLModel",
      "_view_count": null,
      "_view_module": "@jupyter-widgets/controls",
      "_view_module_version": "1.5.0",
      "_view_name": "HTMLView",
      "description": "",
      "description_tooltip": null,
      "layout": "IPY_MODEL_f179bd8fc84d404684909334742f3af5",
      "placeholder": "​",
      "style": "IPY_MODEL_29d2188709ef4f27a5972b29d8db2de1",
      "value": " 65/65 [54:50&lt;00:00, 17.11s/it]"
     }
    },
    "3d00d7216545405996eb0defa8634c69": {
     "model_module": "@jupyter-widgets/controls",
     "model_module_version": "1.5.0",
     "model_name": "DescriptionStyleModel",
     "state": {
      "_model_module": "@jupyter-widgets/controls",
      "_model_module_version": "1.5.0",
      "_model_name": "DescriptionStyleModel",
      "_view_count": null,
      "_view_module": "@jupyter-widgets/base",
      "_view_module_version": "1.2.0",
      "_view_name": "StyleView",
      "description_width": ""
     }
    },
    "3d2557d045574852b604b38b01cf76e8": {
     "model_module": "@jupyter-widgets/base",
     "model_module_version": "1.2.0",
     "model_name": "LayoutModel",
     "state": {
      "_model_module": "@jupyter-widgets/base",
      "_model_module_version": "1.2.0",
      "_model_name": "LayoutModel",
      "_view_count": null,
      "_view_module": "@jupyter-widgets/base",
      "_view_module_version": "1.2.0",
      "_view_name": "LayoutView",
      "align_content": null,
      "align_items": null,
      "align_self": null,
      "border": null,
      "bottom": null,
      "display": null,
      "flex": null,
      "flex_flow": null,
      "grid_area": null,
      "grid_auto_columns": null,
      "grid_auto_flow": null,
      "grid_auto_rows": null,
      "grid_column": null,
      "grid_gap": null,
      "grid_row": null,
      "grid_template_areas": null,
      "grid_template_columns": null,
      "grid_template_rows": null,
      "height": null,
      "justify_content": null,
      "justify_items": null,
      "left": null,
      "margin": null,
      "max_height": null,
      "max_width": null,
      "min_height": null,
      "min_width": null,
      "object_fit": null,
      "object_position": null,
      "order": null,
      "overflow": null,
      "overflow_x": null,
      "overflow_y": null,
      "padding": null,
      "right": null,
      "top": null,
      "visibility": "hidden",
      "width": null
     }
    },
    "3e2166506c054d65908563a0ca77e799": {
     "model_module": "@jupyter-widgets/controls",
     "model_module_version": "1.5.0",
     "model_name": "HTMLModel",
     "state": {
      "_dom_classes": [],
      "_model_module": "@jupyter-widgets/controls",
      "_model_module_version": "1.5.0",
      "_model_name": "HTMLModel",
      "_view_count": null,
      "_view_module": "@jupyter-widgets/controls",
      "_view_module_version": "1.5.0",
      "_view_name": "HTMLView",
      "description": "",
      "description_tooltip": null,
      "layout": "IPY_MODEL_85127f41408940dd90744899919b17b6",
      "placeholder": "​",
      "style": "IPY_MODEL_99c9cde1b1284d30b0fb911de19a7040",
      "value": "Processing: 100%"
     }
    },
    "4696270e25e84b488d56f75f50647661": {
     "model_module": "@jupyter-widgets/base",
     "model_module_version": "1.2.0",
     "model_name": "LayoutModel",
     "state": {
      "_model_module": "@jupyter-widgets/base",
      "_model_module_version": "1.2.0",
      "_model_name": "LayoutModel",
      "_view_count": null,
      "_view_module": "@jupyter-widgets/base",
      "_view_module_version": "1.2.0",
      "_view_name": "LayoutView",
      "align_content": null,
      "align_items": null,
      "align_self": null,
      "border": null,
      "bottom": null,
      "display": null,
      "flex": null,
      "flex_flow": null,
      "grid_area": null,
      "grid_auto_columns": null,
      "grid_auto_flow": null,
      "grid_auto_rows": null,
      "grid_column": null,
      "grid_gap": null,
      "grid_row": null,
      "grid_template_areas": null,
      "grid_template_columns": null,
      "grid_template_rows": null,
      "height": null,
      "justify_content": null,
      "justify_items": null,
      "left": null,
      "margin": null,
      "max_height": null,
      "max_width": null,
      "min_height": null,
      "min_width": null,
      "object_fit": null,
      "object_position": null,
      "order": null,
      "overflow": null,
      "overflow_x": null,
      "overflow_y": null,
      "padding": null,
      "right": null,
      "top": null,
      "visibility": "hidden",
      "width": null
     }
    },
    "559cfa18207845ec8aa687710966b0cd": {
     "model_module": "@jupyter-widgets/base",
     "model_module_version": "1.2.0",
     "model_name": "LayoutModel",
     "state": {
      "_model_module": "@jupyter-widgets/base",
      "_model_module_version": "1.2.0",
      "_model_name": "LayoutModel",
      "_view_count": null,
      "_view_module": "@jupyter-widgets/base",
      "_view_module_version": "1.2.0",
      "_view_name": "LayoutView",
      "align_content": null,
      "align_items": null,
      "align_self": null,
      "border": null,
      "bottom": null,
      "display": null,
      "flex": null,
      "flex_flow": null,
      "grid_area": null,
      "grid_auto_columns": null,
      "grid_auto_flow": null,
      "grid_auto_rows": null,
      "grid_column": null,
      "grid_gap": null,
      "grid_row": null,
      "grid_template_areas": null,
      "grid_template_columns": null,
      "grid_template_rows": null,
      "height": null,
      "justify_content": null,
      "justify_items": null,
      "left": null,
      "margin": null,
      "max_height": null,
      "max_width": null,
      "min_height": null,
      "min_width": null,
      "object_fit": null,
      "object_position": null,
      "order": null,
      "overflow": null,
      "overflow_x": null,
      "overflow_y": null,
      "padding": null,
      "right": null,
      "top": null,
      "visibility": null,
      "width": null
     }
    },
    "6a7e9339330844ff93198544e883594f": {
     "model_module": "@jupyter-widgets/base",
     "model_module_version": "1.2.0",
     "model_name": "LayoutModel",
     "state": {
      "_model_module": "@jupyter-widgets/base",
      "_model_module_version": "1.2.0",
      "_model_name": "LayoutModel",
      "_view_count": null,
      "_view_module": "@jupyter-widgets/base",
      "_view_module_version": "1.2.0",
      "_view_name": "LayoutView",
      "align_content": null,
      "align_items": null,
      "align_self": null,
      "border": null,
      "bottom": null,
      "display": null,
      "flex": null,
      "flex_flow": null,
      "grid_area": null,
      "grid_auto_columns": null,
      "grid_auto_flow": null,
      "grid_auto_rows": null,
      "grid_column": null,
      "grid_gap": null,
      "grid_row": null,
      "grid_template_areas": null,
      "grid_template_columns": null,
      "grid_template_rows": null,
      "height": null,
      "justify_content": null,
      "justify_items": null,
      "left": null,
      "margin": null,
      "max_height": null,
      "max_width": null,
      "min_height": null,
      "min_width": null,
      "object_fit": null,
      "object_position": null,
      "order": null,
      "overflow": null,
      "overflow_x": null,
      "overflow_y": null,
      "padding": null,
      "right": null,
      "top": null,
      "visibility": null,
      "width": null
     }
    },
    "72ad839a87244cd18237070e66945f6c": {
     "model_module": "@jupyter-widgets/controls",
     "model_module_version": "1.5.0",
     "model_name": "ProgressStyleModel",
     "state": {
      "_model_module": "@jupyter-widgets/controls",
      "_model_module_version": "1.5.0",
      "_model_name": "ProgressStyleModel",
      "_view_count": null,
      "_view_module": "@jupyter-widgets/base",
      "_view_module_version": "1.2.0",
      "_view_name": "StyleView",
      "bar_color": null,
      "description_width": ""
     }
    },
    "7d3c457bdd0442ee863d4aa110c0e84b": {
     "model_module": "@jupyter-widgets/controls",
     "model_module_version": "1.5.0",
     "model_name": "DescriptionStyleModel",
     "state": {
      "_model_module": "@jupyter-widgets/controls",
      "_model_module_version": "1.5.0",
      "_model_name": "DescriptionStyleModel",
      "_view_count": null,
      "_view_module": "@jupyter-widgets/base",
      "_view_module_version": "1.2.0",
      "_view_name": "StyleView",
      "description_width": ""
     }
    },
    "82857d4063a74a27a0aff80a513ab066": {
     "model_module": "@jupyter-widgets/base",
     "model_module_version": "1.2.0",
     "model_name": "LayoutModel",
     "state": {
      "_model_module": "@jupyter-widgets/base",
      "_model_module_version": "1.2.0",
      "_model_name": "LayoutModel",
      "_view_count": null,
      "_view_module": "@jupyter-widgets/base",
      "_view_module_version": "1.2.0",
      "_view_name": "LayoutView",
      "align_content": null,
      "align_items": null,
      "align_self": null,
      "border": null,
      "bottom": null,
      "display": null,
      "flex": null,
      "flex_flow": null,
      "grid_area": null,
      "grid_auto_columns": null,
      "grid_auto_flow": null,
      "grid_auto_rows": null,
      "grid_column": null,
      "grid_gap": null,
      "grid_row": null,
      "grid_template_areas": null,
      "grid_template_columns": null,
      "grid_template_rows": null,
      "height": null,
      "justify_content": null,
      "justify_items": null,
      "left": null,
      "margin": null,
      "max_height": null,
      "max_width": null,
      "min_height": null,
      "min_width": null,
      "object_fit": null,
      "object_position": null,
      "order": null,
      "overflow": null,
      "overflow_x": null,
      "overflow_y": null,
      "padding": null,
      "right": null,
      "top": null,
      "visibility": null,
      "width": null
     }
    },
    "83dab811f07a417f8b018af476ac67a0": {
     "model_module": "@jupyter-widgets/controls",
     "model_module_version": "1.5.0",
     "model_name": "HTMLModel",
     "state": {
      "_dom_classes": [],
      "_model_module": "@jupyter-widgets/controls",
      "_model_module_version": "1.5.0",
      "_model_name": "HTMLModel",
      "_view_count": null,
      "_view_module": "@jupyter-widgets/controls",
      "_view_module_version": "1.5.0",
      "_view_name": "HTMLView",
      "description": "",
      "description_tooltip": null,
      "layout": "IPY_MODEL_bf36ad1732104812b9583b4bdc4babbc",
      "placeholder": "​",
      "style": "IPY_MODEL_7d3c457bdd0442ee863d4aa110c0e84b",
      "value": "Processing: 100%"
     }
    },
    "85127f41408940dd90744899919b17b6": {
     "model_module": "@jupyter-widgets/base",
     "model_module_version": "1.2.0",
     "model_name": "LayoutModel",
     "state": {
      "_model_module": "@jupyter-widgets/base",
      "_model_module_version": "1.2.0",
      "_model_name": "LayoutModel",
      "_view_count": null,
      "_view_module": "@jupyter-widgets/base",
      "_view_module_version": "1.2.0",
      "_view_name": "LayoutView",
      "align_content": null,
      "align_items": null,
      "align_self": null,
      "border": null,
      "bottom": null,
      "display": null,
      "flex": null,
      "flex_flow": null,
      "grid_area": null,
      "grid_auto_columns": null,
      "grid_auto_flow": null,
      "grid_auto_rows": null,
      "grid_column": null,
      "grid_gap": null,
      "grid_row": null,
      "grid_template_areas": null,
      "grid_template_columns": null,
      "grid_template_rows": null,
      "height": null,
      "justify_content": null,
      "justify_items": null,
      "left": null,
      "margin": null,
      "max_height": null,
      "max_width": null,
      "min_height": null,
      "min_width": null,
      "object_fit": null,
      "object_position": null,
      "order": null,
      "overflow": null,
      "overflow_x": null,
      "overflow_y": null,
      "padding": null,
      "right": null,
      "top": null,
      "visibility": null,
      "width": null
     }
    },
    "86835edbcb4b47f2aced446d9d3a02b1": {
     "model_module": "@jupyter-widgets/controls",
     "model_module_version": "1.5.0",
     "model_name": "HTMLModel",
     "state": {
      "_dom_classes": [],
      "_model_module": "@jupyter-widgets/controls",
      "_model_module_version": "1.5.0",
      "_model_name": "HTMLModel",
      "_view_count": null,
      "_view_module": "@jupyter-widgets/controls",
      "_view_module_version": "1.5.0",
      "_view_name": "HTMLView",
      "description": "",
      "description_tooltip": null,
      "layout": "IPY_MODEL_559cfa18207845ec8aa687710966b0cd",
      "placeholder": "​",
      "style": "IPY_MODEL_c7e06d02b4614848bbd78dd4e12eea26",
      "value": " 6/6 [02:32&lt;00:00, 25.70s/it]"
     }
    },
    "8c0bff562c5347d180ba3241c9c31b76": {
     "model_module": "@jupyter-widgets/base",
     "model_module_version": "1.2.0",
     "model_name": "LayoutModel",
     "state": {
      "_model_module": "@jupyter-widgets/base",
      "_model_module_version": "1.2.0",
      "_model_name": "LayoutModel",
      "_view_count": null,
      "_view_module": "@jupyter-widgets/base",
      "_view_module_version": "1.2.0",
      "_view_name": "LayoutView",
      "align_content": null,
      "align_items": null,
      "align_self": null,
      "border": null,
      "bottom": null,
      "display": null,
      "flex": null,
      "flex_flow": null,
      "grid_area": null,
      "grid_auto_columns": null,
      "grid_auto_flow": null,
      "grid_auto_rows": null,
      "grid_column": null,
      "grid_gap": null,
      "grid_row": null,
      "grid_template_areas": null,
      "grid_template_columns": null,
      "grid_template_rows": null,
      "height": null,
      "justify_content": null,
      "justify_items": null,
      "left": null,
      "margin": null,
      "max_height": null,
      "max_width": null,
      "min_height": null,
      "min_width": null,
      "object_fit": null,
      "object_position": null,
      "order": null,
      "overflow": null,
      "overflow_x": null,
      "overflow_y": null,
      "padding": null,
      "right": null,
      "top": null,
      "visibility": null,
      "width": null
     }
    },
    "99c9cde1b1284d30b0fb911de19a7040": {
     "model_module": "@jupyter-widgets/controls",
     "model_module_version": "1.5.0",
     "model_name": "DescriptionStyleModel",
     "state": {
      "_model_module": "@jupyter-widgets/controls",
      "_model_module_version": "1.5.0",
      "_model_name": "DescriptionStyleModel",
      "_view_count": null,
      "_view_module": "@jupyter-widgets/base",
      "_view_module_version": "1.2.0",
      "_view_name": "StyleView",
      "description_width": ""
     }
    },
    "9b3f16859d7b44f387f3a5b0d75ff3f0": {
     "model_module": "@jupyter-widgets/controls",
     "model_module_version": "1.5.0",
     "model_name": "ProgressStyleModel",
     "state": {
      "_model_module": "@jupyter-widgets/controls",
      "_model_module_version": "1.5.0",
      "_model_name": "ProgressStyleModel",
      "_view_count": null,
      "_view_module": "@jupyter-widgets/base",
      "_view_module_version": "1.2.0",
      "_view_name": "StyleView",
      "bar_color": null,
      "description_width": ""
     }
    },
    "9c472059360848cf8f5f0cc9d08d26c2": {
     "model_module": "@jupyter-widgets/controls",
     "model_module_version": "1.5.0",
     "model_name": "HTMLModel",
     "state": {
      "_dom_classes": [],
      "_model_module": "@jupyter-widgets/controls",
      "_model_module_version": "1.5.0",
      "_model_name": "HTMLModel",
      "_view_count": null,
      "_view_module": "@jupyter-widgets/controls",
      "_view_module_version": "1.5.0",
      "_view_name": "HTMLView",
      "description": "",
      "description_tooltip": null,
      "layout": "IPY_MODEL_a150a2248ba74305888509fd8f138697",
      "placeholder": "​",
      "style": "IPY_MODEL_c17640f6699a4ac2909ee406cd48cc57",
      "value": "Processing: 100%"
     }
    },
    "a150a2248ba74305888509fd8f138697": {
     "model_module": "@jupyter-widgets/base",
     "model_module_version": "1.2.0",
     "model_name": "LayoutModel",
     "state": {
      "_model_module": "@jupyter-widgets/base",
      "_model_module_version": "1.2.0",
      "_model_name": "LayoutModel",
      "_view_count": null,
      "_view_module": "@jupyter-widgets/base",
      "_view_module_version": "1.2.0",
      "_view_name": "LayoutView",
      "align_content": null,
      "align_items": null,
      "align_self": null,
      "border": null,
      "bottom": null,
      "display": null,
      "flex": null,
      "flex_flow": null,
      "grid_area": null,
      "grid_auto_columns": null,
      "grid_auto_flow": null,
      "grid_auto_rows": null,
      "grid_column": null,
      "grid_gap": null,
      "grid_row": null,
      "grid_template_areas": null,
      "grid_template_columns": null,
      "grid_template_rows": null,
      "height": null,
      "justify_content": null,
      "justify_items": null,
      "left": null,
      "margin": null,
      "max_height": null,
      "max_width": null,
      "min_height": null,
      "min_width": null,
      "object_fit": null,
      "object_position": null,
      "order": null,
      "overflow": null,
      "overflow_x": null,
      "overflow_y": null,
      "padding": null,
      "right": null,
      "top": null,
      "visibility": null,
      "width": null
     }
    },
    "a1aa3127c4c2491a98e29f5aa0cd348d": {
     "model_module": "@jupyter-widgets/controls",
     "model_module_version": "1.5.0",
     "model_name": "FloatProgressModel",
     "state": {
      "_dom_classes": [],
      "_model_module": "@jupyter-widgets/controls",
      "_model_module_version": "1.5.0",
      "_model_name": "FloatProgressModel",
      "_view_count": null,
      "_view_module": "@jupyter-widgets/controls",
      "_view_module_version": "1.5.0",
      "_view_name": "ProgressView",
      "bar_style": "",
      "description": "",
      "description_tooltip": null,
      "layout": "IPY_MODEL_cca69a61cfce4a1098c1ec269bb29f7d",
      "max": 6,
      "min": 0,
      "orientation": "horizontal",
      "style": "IPY_MODEL_9b3f16859d7b44f387f3a5b0d75ff3f0",
      "value": 6
     }
    },
    "b5b6461a77de486c857ef2ee12747e2d": {
     "model_module": "@jupyter-widgets/controls",
     "model_module_version": "1.5.0",
     "model_name": "FloatProgressModel",
     "state": {
      "_dom_classes": [],
      "_model_module": "@jupyter-widgets/controls",
      "_model_module_version": "1.5.0",
      "_model_name": "FloatProgressModel",
      "_view_count": null,
      "_view_module": "@jupyter-widgets/controls",
      "_view_module_version": "1.5.0",
      "_view_name": "ProgressView",
      "bar_style": "",
      "description": "",
      "description_tooltip": null,
      "layout": "IPY_MODEL_27cf2666570a4962bc619ad524a38bf2",
      "max": 6,
      "min": 0,
      "orientation": "horizontal",
      "style": "IPY_MODEL_72ad839a87244cd18237070e66945f6c",
      "value": 6
     }
    },
    "bf36ad1732104812b9583b4bdc4babbc": {
     "model_module": "@jupyter-widgets/base",
     "model_module_version": "1.2.0",
     "model_name": "LayoutModel",
     "state": {
      "_model_module": "@jupyter-widgets/base",
      "_model_module_version": "1.2.0",
      "_model_name": "LayoutModel",
      "_view_count": null,
      "_view_module": "@jupyter-widgets/base",
      "_view_module_version": "1.2.0",
      "_view_name": "LayoutView",
      "align_content": null,
      "align_items": null,
      "align_self": null,
      "border": null,
      "bottom": null,
      "display": null,
      "flex": null,
      "flex_flow": null,
      "grid_area": null,
      "grid_auto_columns": null,
      "grid_auto_flow": null,
      "grid_auto_rows": null,
      "grid_column": null,
      "grid_gap": null,
      "grid_row": null,
      "grid_template_areas": null,
      "grid_template_columns": null,
      "grid_template_rows": null,
      "height": null,
      "justify_content": null,
      "justify_items": null,
      "left": null,
      "margin": null,
      "max_height": null,
      "max_width": null,
      "min_height": null,
      "min_width": null,
      "object_fit": null,
      "object_position": null,
      "order": null,
      "overflow": null,
      "overflow_x": null,
      "overflow_y": null,
      "padding": null,
      "right": null,
      "top": null,
      "visibility": null,
      "width": null
     }
    },
    "c17640f6699a4ac2909ee406cd48cc57": {
     "model_module": "@jupyter-widgets/controls",
     "model_module_version": "1.5.0",
     "model_name": "DescriptionStyleModel",
     "state": {
      "_model_module": "@jupyter-widgets/controls",
      "_model_module_version": "1.5.0",
      "_model_name": "DescriptionStyleModel",
      "_view_count": null,
      "_view_module": "@jupyter-widgets/base",
      "_view_module_version": "1.2.0",
      "_view_name": "StyleView",
      "description_width": ""
     }
    },
    "c3cec5010b8c4e2f808dae6a93abac81": {
     "model_module": "@jupyter-widgets/controls",
     "model_module_version": "1.5.0",
     "model_name": "HBoxModel",
     "state": {
      "_dom_classes": [],
      "_model_module": "@jupyter-widgets/controls",
      "_model_module_version": "1.5.0",
      "_model_name": "HBoxModel",
      "_view_count": null,
      "_view_module": "@jupyter-widgets/controls",
      "_view_module_version": "1.5.0",
      "_view_name": "HBoxView",
      "box_style": "",
      "children": [
       "IPY_MODEL_1af0f4ccfb0844dfa807c58ef98d64d3",
       "IPY_MODEL_e5f2e1842c0e46118f26fe4f4ec729e1",
       "IPY_MODEL_1dd7bef754d84739bb9d7b505b5565c0"
      ],
      "layout": "IPY_MODEL_159d1a9880894529b2cfca59b8fa123c"
     }
    },
    "c7e06d02b4614848bbd78dd4e12eea26": {
     "model_module": "@jupyter-widgets/controls",
     "model_module_version": "1.5.0",
     "model_name": "DescriptionStyleModel",
     "state": {
      "_model_module": "@jupyter-widgets/controls",
      "_model_module_version": "1.5.0",
      "_model_name": "DescriptionStyleModel",
      "_view_count": null,
      "_view_module": "@jupyter-widgets/base",
      "_view_module_version": "1.2.0",
      "_view_name": "StyleView",
      "description_width": ""
     }
    },
    "cca69a61cfce4a1098c1ec269bb29f7d": {
     "model_module": "@jupyter-widgets/base",
     "model_module_version": "1.2.0",
     "model_name": "LayoutModel",
     "state": {
      "_model_module": "@jupyter-widgets/base",
      "_model_module_version": "1.2.0",
      "_model_name": "LayoutModel",
      "_view_count": null,
      "_view_module": "@jupyter-widgets/base",
      "_view_module_version": "1.2.0",
      "_view_name": "LayoutView",
      "align_content": null,
      "align_items": null,
      "align_self": null,
      "border": null,
      "bottom": null,
      "display": null,
      "flex": null,
      "flex_flow": null,
      "grid_area": null,
      "grid_auto_columns": null,
      "grid_auto_flow": null,
      "grid_auto_rows": null,
      "grid_column": null,
      "grid_gap": null,
      "grid_row": null,
      "grid_template_areas": null,
      "grid_template_columns": null,
      "grid_template_rows": null,
      "height": null,
      "justify_content": null,
      "justify_items": null,
      "left": null,
      "margin": null,
      "max_height": null,
      "max_width": null,
      "min_height": null,
      "min_width": null,
      "object_fit": null,
      "object_position": null,
      "order": null,
      "overflow": null,
      "overflow_x": null,
      "overflow_y": null,
      "padding": null,
      "right": null,
      "top": null,
      "visibility": null,
      "width": null
     }
    },
    "d0c55bfe6fcf45eaab42dcf7e1af695c": {
     "model_module": "@jupyter-widgets/controls",
     "model_module_version": "1.5.0",
     "model_name": "DescriptionStyleModel",
     "state": {
      "_model_module": "@jupyter-widgets/controls",
      "_model_module_version": "1.5.0",
      "_model_name": "DescriptionStyleModel",
      "_view_count": null,
      "_view_module": "@jupyter-widgets/base",
      "_view_module_version": "1.2.0",
      "_view_name": "StyleView",
      "description_width": ""
     }
    },
    "e5f2e1842c0e46118f26fe4f4ec729e1": {
     "model_module": "@jupyter-widgets/controls",
     "model_module_version": "1.5.0",
     "model_name": "FloatProgressModel",
     "state": {
      "_dom_classes": [],
      "_model_module": "@jupyter-widgets/controls",
      "_model_module_version": "1.5.0",
      "_model_name": "FloatProgressModel",
      "_view_count": null,
      "_view_module": "@jupyter-widgets/controls",
      "_view_module_version": "1.5.0",
      "_view_name": "ProgressView",
      "bar_style": "",
      "description": "",
      "description_tooltip": null,
      "layout": "IPY_MODEL_8c0bff562c5347d180ba3241c9c31b76",
      "max": 7,
      "min": 0,
      "orientation": "horizontal",
      "style": "IPY_MODEL_35d1e3471df54bf387a376918bacfa43",
      "value": 7
     }
    },
    "f179bd8fc84d404684909334742f3af5": {
     "model_module": "@jupyter-widgets/base",
     "model_module_version": "1.2.0",
     "model_name": "LayoutModel",
     "state": {
      "_model_module": "@jupyter-widgets/base",
      "_model_module_version": "1.2.0",
      "_model_name": "LayoutModel",
      "_view_count": null,
      "_view_module": "@jupyter-widgets/base",
      "_view_module_version": "1.2.0",
      "_view_name": "LayoutView",
      "align_content": null,
      "align_items": null,
      "align_self": null,
      "border": null,
      "bottom": null,
      "display": null,
      "flex": null,
      "flex_flow": null,
      "grid_area": null,
      "grid_auto_columns": null,
      "grid_auto_flow": null,
      "grid_auto_rows": null,
      "grid_column": null,
      "grid_gap": null,
      "grid_row": null,
      "grid_template_areas": null,
      "grid_template_columns": null,
      "grid_template_rows": null,
      "height": null,
      "justify_content": null,
      "justify_items": null,
      "left": null,
      "margin": null,
      "max_height": null,
      "max_width": null,
      "min_height": null,
      "min_width": null,
      "object_fit": null,
      "object_position": null,
      "order": null,
      "overflow": null,
      "overflow_x": null,
      "overflow_y": null,
      "padding": null,
      "right": null,
      "top": null,
      "visibility": null,
      "width": null
     }
    },
    "f259c9a648fa4bfcaad5981c49367bd1": {
     "model_module": "@jupyter-widgets/controls",
     "model_module_version": "1.5.0",
     "model_name": "HBoxModel",
     "state": {
      "_dom_classes": [],
      "_model_module": "@jupyter-widgets/controls",
      "_model_module_version": "1.5.0",
      "_model_name": "HBoxModel",
      "_view_count": null,
      "_view_module": "@jupyter-widgets/controls",
      "_view_module_version": "1.5.0",
      "_view_name": "HBoxView",
      "box_style": "",
      "children": [
       "IPY_MODEL_9c472059360848cf8f5f0cc9d08d26c2",
       "IPY_MODEL_0a88f851418f4bc48bff82b3dc13cea6",
       "IPY_MODEL_38976f481aef4d02b34dc79e1fcb75f3"
      ],
      "layout": "IPY_MODEL_4696270e25e84b488d56f75f50647661"
     }
    },
    "fe6a8bf24d664f4882670d00e2eec4e7": {
     "model_module": "@jupyter-widgets/controls",
     "model_module_version": "1.5.0",
     "model_name": "DescriptionStyleModel",
     "state": {
      "_model_module": "@jupyter-widgets/controls",
      "_model_module_version": "1.5.0",
      "_model_name": "DescriptionStyleModel",
      "_view_count": null,
      "_view_module": "@jupyter-widgets/base",
      "_view_module_version": "1.2.0",
      "_view_name": "StyleView",
      "description_width": ""
     }
    }
   }
  }
 },
 "nbformat": 4,
 "nbformat_minor": 1
}
