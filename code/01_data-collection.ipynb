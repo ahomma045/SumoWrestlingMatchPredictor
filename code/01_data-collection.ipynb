{
 "cells": [
  {
   "cell_type": "markdown",
   "id": "749d9b0e",
   "metadata": {},
   "source": [
    "# Sumo Wrestling Match Prediction\n",
    "\n",
    "## Data Collection (1/5)"
   ]
  },
  {
   "cell_type": "markdown",
   "id": "ac42a911",
   "metadata": {},
   "source": [
    "## Contents: \n",
    "- [Data Import](#Data-Import)\n",
    "- [Data Dictionary](#Data-Dictionary)"
   ]
  },
  {
   "cell_type": "markdown",
   "id": "e5b9d5ef",
   "metadata": {},
   "source": [
    "## Data Import"
   ]
  },
  {
   "cell_type": "markdown",
   "id": "a29244cc",
   "metadata": {},
   "source": [
    "This project uses two datasets from [data.world](https://data.world/cervus/sumo-japan). They cover sumo rankings, results and rikishi (sumo wrestler's) characteristics such as weight, height and age. "
   ]
  },
  {
   "cell_type": "markdown",
   "id": "7a017548",
   "metadata": {},
   "source": [
    "### Libraries"
   ]
  },
  {
   "cell_type": "code",
   "execution_count": 1,
   "id": "9420844e",
   "metadata": {},
   "outputs": [],
   "source": [
    "# Import libraries\n",
    "import numpy as np \n",
    "import pandas as pd"
   ]
  },
  {
   "cell_type": "code",
   "execution_count": 2,
   "id": "1f2cef6e",
   "metadata": {},
   "outputs": [],
   "source": [
    "# Change the option to display with no max \n",
    "# Reference: (https://kakakakakku.hatenablog.com/entry/2021/04/19/090229)\n",
    "pd.set_option('display.max_rows', None)\n",
    "pd.set_option('display.max_columns', None)"
   ]
  },
  {
   "cell_type": "markdown",
   "id": "42423f69",
   "metadata": {},
   "source": [
    "### Data Import"
   ]
  },
  {
   "cell_type": "markdown",
   "id": "41c39fc3",
   "metadata": {},
   "source": [
    "#### Banzuke.csv"
   ]
  },
  {
   "cell_type": "code",
   "execution_count": 3,
   "id": "79955e2c",
   "metadata": {},
   "outputs": [
    {
     "data": {
      "text/html": [
       "<div>\n",
       "<style scoped>\n",
       "    .dataframe tbody tr th:only-of-type {\n",
       "        vertical-align: middle;\n",
       "    }\n",
       "\n",
       "    .dataframe tbody tr th {\n",
       "        vertical-align: top;\n",
       "    }\n",
       "\n",
       "    .dataframe thead th {\n",
       "        text-align: right;\n",
       "    }\n",
       "</style>\n",
       "<table border=\"1\" class=\"dataframe\">\n",
       "  <thead>\n",
       "    <tr style=\"text-align: right;\">\n",
       "      <th></th>\n",
       "      <th>basho</th>\n",
       "      <th>id</th>\n",
       "      <th>rank</th>\n",
       "      <th>rikishi</th>\n",
       "      <th>heya</th>\n",
       "      <th>shusshin</th>\n",
       "      <th>birth_date</th>\n",
       "      <th>height</th>\n",
       "      <th>weight</th>\n",
       "      <th>prev</th>\n",
       "      <th>prev_w</th>\n",
       "      <th>prev_l</th>\n",
       "    </tr>\n",
       "  </thead>\n",
       "  <tbody>\n",
       "    <tr>\n",
       "      <th>0</th>\n",
       "      <td>1983.01</td>\n",
       "      <td>1354</td>\n",
       "      <td>Y1e</td>\n",
       "      <td>Chiyonofuji</td>\n",
       "      <td>Kokonoe</td>\n",
       "      <td>Hokkaido</td>\n",
       "      <td>1955-06-01</td>\n",
       "      <td>182.0</td>\n",
       "      <td>116.0</td>\n",
       "      <td>Y1e</td>\n",
       "      <td>14.0</td>\n",
       "      <td>1.0</td>\n",
       "    </tr>\n",
       "    <tr>\n",
       "      <th>1</th>\n",
       "      <td>1983.01</td>\n",
       "      <td>4080</td>\n",
       "      <td>Y1w</td>\n",
       "      <td>Kitanoumi</td>\n",
       "      <td>Mihogaseki</td>\n",
       "      <td>Hokkaido</td>\n",
       "      <td>1953-05-16</td>\n",
       "      <td>179.0</td>\n",
       "      <td>165.0</td>\n",
       "      <td>Y2eHD</td>\n",
       "      <td>9.0</td>\n",
       "      <td>3.0</td>\n",
       "    </tr>\n",
       "    <tr>\n",
       "      <th>2</th>\n",
       "      <td>1983.01</td>\n",
       "      <td>4095</td>\n",
       "      <td>Y2eHD</td>\n",
       "      <td>Wakanohana</td>\n",
       "      <td>Futagoyama</td>\n",
       "      <td>Aomori</td>\n",
       "      <td>1953-04-03</td>\n",
       "      <td>186.0</td>\n",
       "      <td>133.0</td>\n",
       "      <td>Y1w</td>\n",
       "      <td>0.0</td>\n",
       "      <td>0.0</td>\n",
       "    </tr>\n",
       "    <tr>\n",
       "      <th>3</th>\n",
       "      <td>1983.01</td>\n",
       "      <td>4104</td>\n",
       "      <td>O1e</td>\n",
       "      <td>Takanosato</td>\n",
       "      <td>Futagoyama</td>\n",
       "      <td>Aomori</td>\n",
       "      <td>1952-09-29</td>\n",
       "      <td>181.0</td>\n",
       "      <td>144.0</td>\n",
       "      <td>O1e</td>\n",
       "      <td>10.0</td>\n",
       "      <td>5.0</td>\n",
       "    </tr>\n",
       "    <tr>\n",
       "      <th>4</th>\n",
       "      <td>1983.01</td>\n",
       "      <td>4112</td>\n",
       "      <td>O1w</td>\n",
       "      <td>Kotokaze</td>\n",
       "      <td>Sadogatake</td>\n",
       "      <td>Mie</td>\n",
       "      <td>1957-04-26</td>\n",
       "      <td>183.0</td>\n",
       "      <td>163.0</td>\n",
       "      <td>O1w</td>\n",
       "      <td>10.0</td>\n",
       "      <td>5.0</td>\n",
       "    </tr>\n",
       "  </tbody>\n",
       "</table>\n",
       "</div>"
      ],
      "text/plain": [
       "     basho    id   rank      rikishi        heya  shusshin  birth_date  \\\n",
       "0  1983.01  1354    Y1e  Chiyonofuji     Kokonoe  Hokkaido  1955-06-01   \n",
       "1  1983.01  4080    Y1w    Kitanoumi  Mihogaseki  Hokkaido  1953-05-16   \n",
       "2  1983.01  4095  Y2eHD   Wakanohana  Futagoyama    Aomori  1953-04-03   \n",
       "3  1983.01  4104    O1e   Takanosato  Futagoyama    Aomori  1952-09-29   \n",
       "4  1983.01  4112    O1w     Kotokaze  Sadogatake       Mie  1957-04-26   \n",
       "\n",
       "   height  weight   prev  prev_w  prev_l  \n",
       "0   182.0   116.0    Y1e    14.0     1.0  \n",
       "1   179.0   165.0  Y2eHD     9.0     3.0  \n",
       "2   186.0   133.0    Y1w     0.0     0.0  \n",
       "3   181.0   144.0    O1e    10.0     5.0  \n",
       "4   183.0   163.0    O1w    10.0     5.0  "
      ]
     },
     "execution_count": 3,
     "metadata": {},
     "output_type": "execute_result"
    }
   ],
   "source": [
    "# Read in the data \n",
    "banzuke = pd.read_csv('../data/original/banzuke.csv')\n",
    "\n",
    "# Review\n",
    "banzuke.head()"
   ]
  },
  {
   "cell_type": "code",
   "execution_count": 4,
   "id": "b78481d2",
   "metadata": {},
   "outputs": [
    {
     "name": "stdout",
     "output_type": "stream",
     "text": [
      "<class 'pandas.core.frame.DataFrame'>\n",
      "RangeIndex: 176000 entries, 0 to 175999\n",
      "Data columns (total 12 columns):\n",
      " #   Column      Non-Null Count   Dtype  \n",
      "---  ------      --------------   -----  \n",
      " 0   basho       176000 non-null  float64\n",
      " 1   id          176000 non-null  int64  \n",
      " 2   rank        176000 non-null  object \n",
      " 3   rikishi     176000 non-null  object \n",
      " 4   heya        176000 non-null  object \n",
      " 5   shusshin    176000 non-null  object \n",
      " 6   birth_date  175337 non-null  object \n",
      " 7   height      170826 non-null  float64\n",
      " 8   weight      170826 non-null  float64\n",
      " 9   prev        175915 non-null  object \n",
      " 10  prev_w      175915 non-null  float64\n",
      " 11  prev_l      175915 non-null  float64\n",
      "dtypes: float64(5), int64(1), object(6)\n",
      "memory usage: 16.1+ MB\n"
     ]
    }
   ],
   "source": [
    "# Check Data Types \n",
    "banzuke.info()"
   ]
  },
  {
   "cell_type": "code",
   "execution_count": 5,
   "id": "8fd7e3bc",
   "metadata": {},
   "outputs": [
    {
     "data": {
      "text/plain": [
       "(176000, 12)"
      ]
     },
     "execution_count": 5,
     "metadata": {},
     "output_type": "execute_result"
    }
   ],
   "source": [
    "# Check data shape\n",
    "banzuke.shape"
   ]
  },
  {
   "cell_type": "code",
   "execution_count": 6,
   "id": "5e12f56e",
   "metadata": {},
   "outputs": [
    {
     "data": {
      "text/plain": [
       "basho            0\n",
       "id               0\n",
       "rank             0\n",
       "rikishi          0\n",
       "heya             0\n",
       "shusshin         0\n",
       "birth_date     663\n",
       "height        5174\n",
       "weight        5174\n",
       "prev            85\n",
       "prev_w          85\n",
       "prev_l          85\n",
       "dtype: int64"
      ]
     },
     "execution_count": 6,
     "metadata": {},
     "output_type": "execute_result"
    }
   ],
   "source": [
    "# Check for missing values\n",
    "banzuke.isnull().sum()"
   ]
  },
  {
   "cell_type": "markdown",
   "id": "79e7635f",
   "metadata": {},
   "source": [
    "#### Results.csv"
   ]
  },
  {
   "cell_type": "code",
   "execution_count": 7,
   "id": "7fef3f88",
   "metadata": {
    "scrolled": true
   },
   "outputs": [
    {
     "data": {
      "text/html": [
       "<div>\n",
       "<style scoped>\n",
       "    .dataframe tbody tr th:only-of-type {\n",
       "        vertical-align: middle;\n",
       "    }\n",
       "\n",
       "    .dataframe tbody tr th {\n",
       "        vertical-align: top;\n",
       "    }\n",
       "\n",
       "    .dataframe thead th {\n",
       "        text-align: right;\n",
       "    }\n",
       "</style>\n",
       "<table border=\"1\" class=\"dataframe\">\n",
       "  <thead>\n",
       "    <tr style=\"text-align: right;\">\n",
       "      <th></th>\n",
       "      <th>basho</th>\n",
       "      <th>day</th>\n",
       "      <th>rikishi1_id</th>\n",
       "      <th>rikishi1_rank</th>\n",
       "      <th>rikishi1_shikona</th>\n",
       "      <th>rikishi1_result</th>\n",
       "      <th>rikishi1_win</th>\n",
       "      <th>kimarite</th>\n",
       "      <th>rikishi2_id</th>\n",
       "      <th>rikishi2_rank</th>\n",
       "      <th>rikishi2_shikona</th>\n",
       "      <th>rikishi2_result</th>\n",
       "      <th>rikishi2_win</th>\n",
       "    </tr>\n",
       "  </thead>\n",
       "  <tbody>\n",
       "    <tr>\n",
       "      <th>0</th>\n",
       "      <td>1983.01</td>\n",
       "      <td>1</td>\n",
       "      <td>4140</td>\n",
       "      <td>J13w</td>\n",
       "      <td>Chikubayama</td>\n",
       "      <td>0-1 (7-8)</td>\n",
       "      <td>0</td>\n",
       "      <td>yorikiri</td>\n",
       "      <td>4306</td>\n",
       "      <td>Ms1e</td>\n",
       "      <td>Ofuji</td>\n",
       "      <td>1-0 (6-1)</td>\n",
       "      <td>1</td>\n",
       "    </tr>\n",
       "    <tr>\n",
       "      <th>1</th>\n",
       "      <td>1983.01</td>\n",
       "      <td>1</td>\n",
       "      <td>4306</td>\n",
       "      <td>Ms1e</td>\n",
       "      <td>Ofuji</td>\n",
       "      <td>1-0 (6-1)</td>\n",
       "      <td>1</td>\n",
       "      <td>yorikiri</td>\n",
       "      <td>4140</td>\n",
       "      <td>J13w</td>\n",
       "      <td>Chikubayama</td>\n",
       "      <td>0-1 (7-8)</td>\n",
       "      <td>0</td>\n",
       "    </tr>\n",
       "    <tr>\n",
       "      <th>2</th>\n",
       "      <td>1983.01</td>\n",
       "      <td>1</td>\n",
       "      <td>1337</td>\n",
       "      <td>J12w</td>\n",
       "      <td>Tochitsukasa</td>\n",
       "      <td>1-0 (9-6)</td>\n",
       "      <td>1</td>\n",
       "      <td>oshidashi</td>\n",
       "      <td>4323</td>\n",
       "      <td>J13e</td>\n",
       "      <td>Shiraiwa</td>\n",
       "      <td>0-1 (3-12)</td>\n",
       "      <td>0</td>\n",
       "    </tr>\n",
       "    <tr>\n",
       "      <th>3</th>\n",
       "      <td>1983.01</td>\n",
       "      <td>1</td>\n",
       "      <td>4323</td>\n",
       "      <td>J13e</td>\n",
       "      <td>Shiraiwa</td>\n",
       "      <td>0-1 (3-12)</td>\n",
       "      <td>0</td>\n",
       "      <td>oshidashi</td>\n",
       "      <td>1337</td>\n",
       "      <td>J12w</td>\n",
       "      <td>Tochitsukasa</td>\n",
       "      <td>1-0 (9-6)</td>\n",
       "      <td>1</td>\n",
       "    </tr>\n",
       "    <tr>\n",
       "      <th>4</th>\n",
       "      <td>1983.01</td>\n",
       "      <td>1</td>\n",
       "      <td>4097</td>\n",
       "      <td>J12e</td>\n",
       "      <td>Tamakiyama</td>\n",
       "      <td>0-1 (8-7)</td>\n",
       "      <td>0</td>\n",
       "      <td>yorikiri</td>\n",
       "      <td>4319</td>\n",
       "      <td>J11w</td>\n",
       "      <td>Harunafuji</td>\n",
       "      <td>1-0 (5-10)</td>\n",
       "      <td>1</td>\n",
       "    </tr>\n",
       "  </tbody>\n",
       "</table>\n",
       "</div>"
      ],
      "text/plain": [
       "     basho  day  rikishi1_id rikishi1_rank rikishi1_shikona rikishi1_result  \\\n",
       "0  1983.01    1         4140          J13w      Chikubayama       0-1 (7-8)   \n",
       "1  1983.01    1         4306          Ms1e            Ofuji       1-0 (6-1)   \n",
       "2  1983.01    1         1337          J12w     Tochitsukasa       1-0 (9-6)   \n",
       "3  1983.01    1         4323          J13e         Shiraiwa      0-1 (3-12)   \n",
       "4  1983.01    1         4097          J12e       Tamakiyama       0-1 (8-7)   \n",
       "\n",
       "   rikishi1_win   kimarite  rikishi2_id rikishi2_rank rikishi2_shikona  \\\n",
       "0             0   yorikiri         4306          Ms1e            Ofuji   \n",
       "1             1   yorikiri         4140          J13w      Chikubayama   \n",
       "2             1  oshidashi         4323          J13e         Shiraiwa   \n",
       "3             0  oshidashi         1337          J12w     Tochitsukasa   \n",
       "4             0   yorikiri         4319          J11w       Harunafuji   \n",
       "\n",
       "  rikishi2_result  rikishi2_win  \n",
       "0       1-0 (6-1)             1  \n",
       "1       0-1 (7-8)             0  \n",
       "2      0-1 (3-12)             0  \n",
       "3       1-0 (9-6)             1  \n",
       "4      1-0 (5-10)             1  "
      ]
     },
     "execution_count": 7,
     "metadata": {},
     "output_type": "execute_result"
    }
   ],
   "source": [
    "# Read in the data\n",
    "results = pd.read_csv('../data/original/results.csv')\n",
    "\n",
    "# Review\n",
    "results.head()"
   ]
  },
  {
   "cell_type": "code",
   "execution_count": 8,
   "id": "41038467",
   "metadata": {},
   "outputs": [
    {
     "name": "stdout",
     "output_type": "stream",
     "text": [
      "<class 'pandas.core.frame.DataFrame'>\n",
      "RangeIndex: 226590 entries, 0 to 226589\n",
      "Data columns (total 13 columns):\n",
      " #   Column            Non-Null Count   Dtype  \n",
      "---  ------            --------------   -----  \n",
      " 0   basho             226590 non-null  float64\n",
      " 1   day               226590 non-null  int64  \n",
      " 2   rikishi1_id       226590 non-null  int64  \n",
      " 3   rikishi1_rank     226590 non-null  object \n",
      " 4   rikishi1_shikona  226590 non-null  object \n",
      " 5   rikishi1_result   226590 non-null  object \n",
      " 6   rikishi1_win      226590 non-null  int64  \n",
      " 7   kimarite          226590 non-null  object \n",
      " 8   rikishi2_id       226590 non-null  int64  \n",
      " 9   rikishi2_rank     226590 non-null  object \n",
      " 10  rikishi2_shikona  226590 non-null  object \n",
      " 11  rikishi2_result   226590 non-null  object \n",
      " 12  rikishi2_win      226590 non-null  int64  \n",
      "dtypes: float64(1), int64(5), object(7)\n",
      "memory usage: 22.5+ MB\n"
     ]
    }
   ],
   "source": [
    "# Check data info\n",
    "results.info()"
   ]
  },
  {
   "cell_type": "code",
   "execution_count": 9,
   "id": "78e5e321",
   "metadata": {},
   "outputs": [
    {
     "data": {
      "text/plain": [
       "(226590, 13)"
      ]
     },
     "execution_count": 9,
     "metadata": {},
     "output_type": "execute_result"
    }
   ],
   "source": [
    "# Check data shape\n",
    "results.shape"
   ]
  },
  {
   "cell_type": "code",
   "execution_count": 10,
   "id": "6cad7b9f",
   "metadata": {},
   "outputs": [
    {
     "data": {
      "text/plain": [
       "basho               0\n",
       "day                 0\n",
       "rikishi1_id         0\n",
       "rikishi1_rank       0\n",
       "rikishi1_shikona    0\n",
       "rikishi1_result     0\n",
       "rikishi1_win        0\n",
       "kimarite            0\n",
       "rikishi2_id         0\n",
       "rikishi2_rank       0\n",
       "rikishi2_shikona    0\n",
       "rikishi2_result     0\n",
       "rikishi2_win        0\n",
       "dtype: int64"
      ]
     },
     "execution_count": 10,
     "metadata": {},
     "output_type": "execute_result"
    }
   ],
   "source": [
    "# Check for missing values\n",
    "results.isnull().sum()"
   ]
  },
  {
   "cell_type": "markdown",
   "id": "0533837e",
   "metadata": {},
   "source": [
    "### Merge Datasets"
   ]
  },
  {
   "cell_type": "markdown",
   "id": "a85d012b",
   "metadata": {},
   "source": [
    "The datasets were merged using the inner join function based on the columns `basho`, `rikishi_id`, `rikishi1_rank`, and `rikishi1_shikona` from results.csv, and `basho`, `id`, `rank`, and `rikishi` from banzuke.csv. The purpose of this merge was to create a merged dataframe that includes information about the rikishi1's wrestlers in each match. Similarly, another merge was performed using the columns `basho`, `rikishi2_id`, `rikishi2_rank`, and `rikishi2_shikona` from results.csv, and `basho`, `id`, `rank`, and `rikishi` from banzuke.csv to add information about the opponent wrestlers (rikishi2) in each match."
   ]
  },
  {
   "cell_type": "code",
   "execution_count": 11,
   "id": "fef3fe22",
   "metadata": {},
   "outputs": [
    {
     "data": {
      "text/plain": [
       "(226590, 24)"
      ]
     },
     "execution_count": 11,
     "metadata": {},
     "output_type": "execute_result"
    }
   ],
   "source": [
    "# Reference: https://pandas.pydata.org/docs/reference/api/pandas.DataFrame.merge.html\n",
    "\n",
    "# Make a copy\n",
    "results1 = results.copy()\n",
    "banzuke1 = banzuke.copy()\n",
    "\n",
    "# Merge dataframe (Rikishi1)\n",
    "df = pd.merge(results1, \n",
    "              banzuke1, \n",
    "              left_on=['basho', 'rikishi1_id', 'rikishi1_rank', 'rikishi1_shikona'], \n",
    "              right_on=['basho', 'id', 'rank', 'rikishi'], \n",
    "              how='inner'\n",
    "             )\n",
    "\n",
    "df.shape"
   ]
  },
  {
   "cell_type": "code",
   "execution_count": 12,
   "id": "80318128",
   "metadata": {},
   "outputs": [
    {
     "data": {
      "text/plain": [
       "(226590, 35)"
      ]
     },
     "execution_count": 12,
     "metadata": {},
     "output_type": "execute_result"
    }
   ],
   "source": [
    "# Reference: https://pandas.pydata.org/docs/reference/api/pandas.DataFrame.merge.html\n",
    "\n",
    "# Make a copy\n",
    "banzuke2 = banzuke.copy()\n",
    "\n",
    "# Merge dataframe (Rikishi2)\n",
    "df = pd.merge(df, \n",
    "              banzuke2, \n",
    "              left_on=['basho', 'rikishi2_id', 'rikishi2_rank', 'rikishi2_shikona'], \n",
    "              right_on=['basho', 'id', 'rank', 'rikishi'], \n",
    "              how='inner'\n",
    "             )\n",
    "\n",
    "df.shape"
   ]
  },
  {
   "cell_type": "markdown",
   "id": "3ee2fbcb",
   "metadata": {},
   "source": [
    "### Drop duplicate columns"
   ]
  },
  {
   "cell_type": "markdown",
   "id": "a6625142",
   "metadata": {},
   "source": [
    "After the merges, unnecessary and duplicate columns were dropped. "
   ]
  },
  {
   "cell_type": "code",
   "execution_count": 13,
   "id": "0e2a221b",
   "metadata": {},
   "outputs": [],
   "source": [
    "# Drop unnecessary/duplicates columns \n",
    "df.drop(columns = ['id_x', 'rank_x', 'rikishi_x', \n",
    "                   'id_y', 'rank_y', 'rikishi_y'                   \n",
    "                   ], inplace=True)"
   ]
  },
  {
   "cell_type": "code",
   "execution_count": 14,
   "id": "c50999c4",
   "metadata": {},
   "outputs": [
    {
     "data": {
      "text/plain": [
       "Index(['basho', 'day', 'rikishi1_id', 'rikishi1_rank', 'rikishi1_shikona',\n",
       "       'rikishi1_result', 'rikishi1_win', 'kimarite', 'rikishi2_id',\n",
       "       'rikishi2_rank', 'rikishi2_shikona', 'rikishi2_result', 'rikishi2_win',\n",
       "       'heya_x', 'shusshin_x', 'birth_date_x', 'height_x', 'weight_x',\n",
       "       'prev_x', 'prev_w_x', 'prev_l_x', 'heya_y', 'shusshin_y',\n",
       "       'birth_date_y', 'height_y', 'weight_y', 'prev_y', 'prev_w_y',\n",
       "       'prev_l_y'],\n",
       "      dtype='object')"
      ]
     },
     "execution_count": 14,
     "metadata": {},
     "output_type": "execute_result"
    }
   ],
   "source": [
    "df.columns"
   ]
  },
  {
   "cell_type": "markdown",
   "id": "267b151e",
   "metadata": {},
   "source": [
    "### Rename column names"
   ]
  },
  {
   "cell_type": "markdown",
   "id": "852c0036",
   "metadata": {},
   "source": [
    "The remaining columns were renamed to clarify the information between the first and second players. Specifically, columns that include information about `rikshi1` or the main wrestler were renamed with `r1_` at the beginning, and columns that include information about `rikishi2` or the opponent wrestler were renamed with `r2_` at the beginning. Additionally, the string `rikishi` in the column names was replaced with `r` to shorten and simplify them."
   ]
  },
  {
   "cell_type": "code",
   "execution_count": 15,
   "id": "ec971d20",
   "metadata": {},
   "outputs": [],
   "source": [
    "def rename_columns(df):\n",
    "    \"\"\"\n",
    "    If the column name ends with '_x', then add 'r1_' to the beginning of the column names. \n",
    "    If the colun name ends with '_y', then add 'r2_' to the beginning of the column names. \n",
    "    \"\"\"\n",
    "    new_cols = []\n",
    "    for col in df.columns:\n",
    "        if col.endswith('_x'):\n",
    "            new_cols.append('r1_' + col[:-2])\n",
    "        elif col.endswith('_y'):\n",
    "            new_cols.append('r2_' + col[:-2])\n",
    "        else:\n",
    "            new_cols.append(col)\n",
    "    df.columns = new_cols\n",
    "    return df"
   ]
  },
  {
   "cell_type": "code",
   "execution_count": 16,
   "id": "5e309cbe",
   "metadata": {},
   "outputs": [],
   "source": [
    "df = rename_columns(df)"
   ]
  },
  {
   "cell_type": "code",
   "execution_count": 17,
   "id": "2968a9bf",
   "metadata": {},
   "outputs": [],
   "source": [
    "def shorten_col_names(df):\n",
    "    \"\"\"\n",
    "    Shorten column names by replacing 'rikishi' to 'r'\n",
    "    \"\"\"\n",
    "    new_cols = {}\n",
    "    for col in df.columns:\n",
    "        if 'rikishi' in col:\n",
    "            new_cols[col] = col.replace('rikishi', 'r')\n",
    "    return df.rename(columns=new_cols)"
   ]
  },
  {
   "cell_type": "code",
   "execution_count": 18,
   "id": "36f02a87",
   "metadata": {},
   "outputs": [],
   "source": [
    "df = shorten_col_names(df)"
   ]
  },
  {
   "cell_type": "markdown",
   "id": "5a7d0fa3",
   "metadata": {},
   "source": [
    "### Save combined dataset into csv.file "
   ]
  },
  {
   "cell_type": "markdown",
   "id": "d1fb9f57",
   "metadata": {},
   "source": [
    "Finally, the modified merged dataframe was saved as a csv file for future use and analysis."
   ]
  },
  {
   "cell_type": "code",
   "execution_count": 19,
   "id": "4e562511",
   "metadata": {},
   "outputs": [],
   "source": [
    "# Save dataset in csv file \n",
    "df.to_csv('../data/sumo_v1_combined.csv', index=False)"
   ]
  },
  {
   "cell_type": "markdown",
   "id": "a53724a4",
   "metadata": {},
   "source": [
    "## Data Dictionary "
   ]
  },
  {
   "cell_type": "markdown",
   "id": "a62aa9e1",
   "metadata": {},
   "source": [
    "|Feature|Type|Dataset|Description|\n",
    "|---|---|---|---|\n",
    "|basho|float64|banzuke.csv|tournament month as yyyy-mm|\n",
    "|id|int64|banzuke.csv|ID|\n",
    "|rank|object|banzuke.csv|rank|\n",
    "|rikishi|object|banzuke.csv|name|\n",
    "|heya|object|banzuke.csv|'room', an organization of sumo wrestlers|\n",
    "|shusshin|object|banzuke.csv|hometown|\n",
    "|birth_date|object|banzuke.csv|birth date|\n",
    "|height|float64|banzuke.csv|height|\n",
    "|weight|float64|banzuke.csv|weight|\n",
    "|prev|object|banzuke.csv|rank in previous tournament|\n",
    "|prev_w|float64|banzuke.csv|number of wins in previous tournament|\n",
    "|prev_l|float64|banzuke.csv|number of losses in previous tournament|\n",
    "|basho|float64|results.csv|tournament month as yyyy-mm|\n",
    "|day|int64|results.csv|day number (16 for play-off)|\n",
    "|rikishi1_id|int64|results.csv|first wrestler ID|\n",
    "|rikishi1_rank|object|results.csv|first wrestler rank|\n",
    "|rikishi1_shikona|object|results.csv|first wrestler ring name|\n",
    "|rikishi1_result|object|results.csv|first wrestler result after the bout (final result in brackets)|\n",
    "|rikishi1_win|int64|results.csv|1 for win, 0 for defeat|\n",
    "|kimarite|object|results.csv|a type of technique used in sumo by a rikishi to win a match|\n",
    "|rikishi2_id|int64|results.csv|second wrestler ID|\n",
    "|rikishi2_rank|object|results.csv|second wrestler rank|\n",
    "|rikishi2_shikona|object|results.csv|second wrestler ring name|\n",
    "|rikishi2_result|object|results.csv|first wrestler result after the bout (final result in brackets)|\n",
    "|rikishi2_win|int64|results.csv|1 for win, 0 for defeat|"
   ]
  },
  {
   "cell_type": "code",
   "execution_count": null,
   "id": "836eece8",
   "metadata": {},
   "outputs": [],
   "source": []
  }
 ],
 "metadata": {
  "kernelspec": {
   "display_name": "Python 3 (ipykernel)",
   "language": "python",
   "name": "python3"
  },
  "language_info": {
   "codemirror_mode": {
    "name": "ipython",
    "version": 3
   },
   "file_extension": ".py",
   "mimetype": "text/x-python",
   "name": "python",
   "nbconvert_exporter": "python",
   "pygments_lexer": "ipython3",
   "version": "3.9.13"
  }
 },
 "nbformat": 4,
 "nbformat_minor": 5
}
